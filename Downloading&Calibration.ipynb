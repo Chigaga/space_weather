{
 "cells": [
  {
   "cell_type": "markdown",
   "metadata": {},
   "source": [
    "## Installing libraries"
   ]
  },
  {
   "cell_type": "code",
   "execution_count": 1,
   "metadata": {
    "cellView": "form",
    "id": "4f2nU7kFBjB4"
   },
   "outputs": [
    {
     "ename": "ModuleNotFoundError",
     "evalue": "No module named 'reproject'",
     "output_type": "error",
     "traceback": [
      "\u001b[1;31m---------------------------------------------------------------------------\u001b[0m",
      "\u001b[1;31mModuleNotFoundError\u001b[0m                       Traceback (most recent call last)",
      "\u001b[1;32m<ipython-input-1-c3ad9f4effb2>\u001b[0m in \u001b[0;36m<module>\u001b[1;34m\u001b[0m\n\u001b[0;32m     11\u001b[0m \u001b[1;32mfrom\u001b[0m \u001b[0msunpy\u001b[0m\u001b[1;33m.\u001b[0m\u001b[0mio\u001b[0m \u001b[1;32mimport\u001b[0m \u001b[0mwrite_file\u001b[0m\u001b[1;33m\u001b[0m\u001b[1;33m\u001b[0m\u001b[0m\n\u001b[0;32m     12\u001b[0m \u001b[1;32mfrom\u001b[0m \u001b[0msunpy\u001b[0m\u001b[1;33m.\u001b[0m\u001b[0mtime\u001b[0m \u001b[1;32mimport\u001b[0m \u001b[0mparse_time\u001b[0m\u001b[1;33m\u001b[0m\u001b[1;33m\u001b[0m\u001b[0m\n\u001b[1;32m---> 13\u001b[1;33m \u001b[1;32mfrom\u001b[0m \u001b[0mreproject\u001b[0m \u001b[1;32mimport\u001b[0m \u001b[0mreproject_interp\u001b[0m\u001b[1;33m,\u001b[0m \u001b[0mreproject_adaptive\u001b[0m\u001b[1;33m,\u001b[0m \u001b[0mreproject_exact\u001b[0m\u001b[1;33m\u001b[0m\u001b[1;33m\u001b[0m\u001b[0m\n\u001b[0m\u001b[0;32m     14\u001b[0m \u001b[1;32mfrom\u001b[0m \u001b[0maiapy\u001b[0m\u001b[1;33m.\u001b[0m\u001b[0mcalibrate\u001b[0m \u001b[1;32mimport\u001b[0m \u001b[0mnormalize_exposure\u001b[0m\u001b[1;33m,\u001b[0m \u001b[0mregister\u001b[0m\u001b[1;33m,\u001b[0m \u001b[0mupdate_pointing\u001b[0m\u001b[1;33m,\u001b[0m \u001b[0mfix_observer_location\u001b[0m\u001b[1;33m\u001b[0m\u001b[1;33m\u001b[0m\u001b[0m\n\u001b[0;32m     15\u001b[0m \u001b[1;33m\u001b[0m\u001b[0m\n",
      "\u001b[1;31mModuleNotFoundError\u001b[0m: No module named 'reproject'"
     ]
    }
   ],
   "source": [
    "#@title Installing modules { form-width: \"200px\" }\n",
    "# import matplotlib.pyplot as plt\n",
    "# import matplotlib.colors as colors\n",
    "import numpy as np\n",
    "\n",
    "import matplotlib.pyplot as plt\n",
    "import matplotlib.colors as colors\n",
    "\n",
    "import sunpy.map\n",
    "from sunpy.net import Fido, attrs as a\n",
    "from sunpy.io import write_file\n",
    "from sunpy.time import parse_time\n",
    "from reproject import reproject_interp, reproject_adaptive, reproject_exact\n",
    "from aiapy.calibrate import normalize_exposure, register, update_pointing, fix_observer_location\n",
    "\n",
    "import astropy.units as u\n",
    "from astropy.io import fits\n",
    "\n",
    "import os, sys\n",
    "import copy\n",
    "from PIL import Image\n",
    "from google.colab import files\n",
    "from pathlib import Path\n",
    "\n",
    "\n",
    "import sunpy.map\n",
    "from sunpy.net import Fido, attrs as a\n",
    "from sunpy.io import write_file\n",
    "from sunpy.time import parse_time\n",
    "\n",
    "import astropy.units as u\n",
    "from astropy.io import fits\n",
    "\n",
    "# import os, sys\n",
    "# import copy\n",
    "# from PIL import Image\n",
    "from google.colab import files\n",
    "from pathlib import Path\n",
    "\n",
    "import os\n",
    "\n",
    "from aiapy.calibrate import fix_observer_location, update_pointing, normalize_exposure, register\n",
    "import matplotlib.pyplot as plt\n",
    "import matplotlib.colors as colors\n",
    "from reproject import reproject_interp\n",
    "\n",
    "import astropy.units as u\n",
    "from astropy.coordinates import SkyCoord\n",
    "from astropy.wcs import WCS\n",
    "from scipy import ndimage\n",
    "import sunpy.map\n",
    "from sunpy.coordinates import Helioprojective, RotatedSunFrame, transform_with_sun_center\n",
    "#from aiapy import aiaprep - moved to register() in aiapy\n"
   ]
  },
  {
   "cell_type": "code",
   "execution_count": 4,
   "metadata": {},
   "outputs": [],
   "source": [
    "import astropy.units as u"
   ]
  },
  {
   "cell_type": "markdown",
   "metadata": {
    "cellView": "form",
    "id": "BaIhAVeI3Ai1"
   },
   "source": [
    "## Download data"
   ]
  },
  {
   "cell_type": "code",
   "execution_count": 7,
   "metadata": {
    "colab": {
     "background_save": true
    },
    "id": "kDCU6zImBtlo"
   },
   "outputs": [
    {
     "data": {
      "application/vnd.jupyter.widget-view+json": {
       "model_id": "ccc923b8b0914674a71c5a645589d262",
       "version_major": 2,
       "version_minor": 0
      },
      "text/plain": [
       "HBox(children=(FloatProgress(value=0.0, description='Files Downloaded', max=96.0, style=ProgressStyle(descript…"
      ]
     },
     "metadata": {},
     "output_type": "display_data"
    },
    {
     "data": {
      "application/vnd.jupyter.widget-view+json": {
       "model_id": "",
       "version_major": 2,
       "version_minor": 0
      },
      "text/plain": [
       "HBox(children=(FloatProgress(value=0.0, description='aia_lev1_193a_2011_06_22t02_30_07_84z_image_lev1.fits', m…"
      ]
     },
     "metadata": {},
     "output_type": "display_data"
    },
    {
     "data": {
      "application/vnd.jupyter.widget-view+json": {
       "model_id": "",
       "version_major": 2,
       "version_minor": 0
      },
      "text/plain": [
       "HBox(children=(FloatProgress(value=0.0, description='aia_lev1_193a_2011_06_22t02_00_07_84z_image_lev1.fits', m…"
      ]
     },
     "metadata": {},
     "output_type": "display_data"
    },
    {
     "data": {
      "application/vnd.jupyter.widget-view+json": {
       "model_id": "",
       "version_major": 2,
       "version_minor": 0
      },
      "text/plain": [
       "HBox(children=(FloatProgress(value=0.0, description='aia_lev1_193a_2011_06_22t01_30_07_84z_image_lev1.fits', m…"
      ]
     },
     "metadata": {},
     "output_type": "display_data"
    },
    {
     "data": {
      "application/vnd.jupyter.widget-view+json": {
       "model_id": "",
       "version_major": 2,
       "version_minor": 0
      },
      "text/plain": [
       "HBox(children=(FloatProgress(value=0.0, description='aia_lev1_193a_2011_06_22t03_00_07_84z_image_lev1.fits', m…"
      ]
     },
     "metadata": {},
     "output_type": "display_data"
    },
    {
     "data": {
      "application/vnd.jupyter.widget-view+json": {
       "model_id": "",
       "version_major": 2,
       "version_minor": 0
      },
      "text/plain": [
       "HBox(children=(FloatProgress(value=0.0, description='aia_lev1_193a_2011_06_22t04_30_07_84z_image_lev1.fits', m…"
      ]
     },
     "metadata": {},
     "output_type": "display_data"
    },
    {
     "data": {
      "application/vnd.jupyter.widget-view+json": {
       "model_id": "",
       "version_major": 2,
       "version_minor": 0
      },
      "text/plain": [
       "HBox(children=(FloatProgress(value=0.0, description='aia_lev1_193a_2011_06_22t05_00_07_84z_image_lev1.fits', m…"
      ]
     },
     "metadata": {},
     "output_type": "display_data"
    },
    {
     "data": {
      "application/vnd.jupyter.widget-view+json": {
       "model_id": "",
       "version_major": 2,
       "version_minor": 0
      },
      "text/plain": [
       "HBox(children=(FloatProgress(value=0.0, description='aia_lev1_193a_2011_06_22t04_00_07_84z_image_lev1.fits', m…"
      ]
     },
     "metadata": {},
     "output_type": "display_data"
    },
    {
     "data": {
      "application/vnd.jupyter.widget-view+json": {
       "model_id": "",
       "version_major": 2,
       "version_minor": 0
      },
      "text/plain": [
       "HBox(children=(FloatProgress(value=0.0, description='aia_lev1_193a_2011_06_22t05_30_07_84z_image_lev1.fits', m…"
      ]
     },
     "metadata": {},
     "output_type": "display_data"
    },
    {
     "data": {
      "application/vnd.jupyter.widget-view+json": {
       "model_id": "",
       "version_major": 2,
       "version_minor": 0
      },
      "text/plain": [
       "HBox(children=(FloatProgress(value=0.0, description='aia_lev1_193a_2011_06_22t03_30_07_84z_image_lev1.fits', m…"
      ]
     },
     "metadata": {},
     "output_type": "display_data"
    },
    {
     "data": {
      "application/vnd.jupyter.widget-view+json": {
       "model_id": "",
       "version_major": 2,
       "version_minor": 0
      },
      "text/plain": [
       "HBox(children=(FloatProgress(value=0.0, description='aia_lev1_193a_2011_06_22t06_30_07_84z_image_lev1.fits', m…"
      ]
     },
     "metadata": {},
     "output_type": "display_data"
    },
    {
     "data": {
      "application/vnd.jupyter.widget-view+json": {
       "model_id": "",
       "version_major": 2,
       "version_minor": 0
      },
      "text/plain": [
       "HBox(children=(FloatProgress(value=0.0, description='aia_lev1_193a_2011_06_22t07_00_07_84z_image_lev1.fits', m…"
      ]
     },
     "metadata": {},
     "output_type": "display_data"
    },
    {
     "data": {
      "application/vnd.jupyter.widget-view+json": {
       "model_id": "",
       "version_major": 2,
       "version_minor": 0
      },
      "text/plain": [
       "HBox(children=(FloatProgress(value=0.0, description='aia_lev1_193a_2011_06_22t08_00_07_84z_image_lev1.fits', m…"
      ]
     },
     "metadata": {},
     "output_type": "display_data"
    },
    {
     "data": {
      "application/vnd.jupyter.widget-view+json": {
       "model_id": "",
       "version_major": 2,
       "version_minor": 0
      },
      "text/plain": [
       "HBox(children=(FloatProgress(value=0.0, description='aia_lev1_193a_2011_06_22t06_00_07_84z_image_lev1.fits', m…"
      ]
     },
     "metadata": {},
     "output_type": "display_data"
    },
    {
     "data": {
      "application/vnd.jupyter.widget-view+json": {
       "model_id": "",
       "version_major": 2,
       "version_minor": 0
      },
      "text/plain": [
       "HBox(children=(FloatProgress(value=0.0, description='aia_lev1_193a_2011_06_22t10_00_07_84z_image_lev1.fits', m…"
      ]
     },
     "metadata": {},
     "output_type": "display_data"
    },
    {
     "data": {
      "application/vnd.jupyter.widget-view+json": {
       "model_id": "",
       "version_major": 2,
       "version_minor": 0
      },
      "text/plain": [
       "HBox(children=(FloatProgress(value=0.0, description='aia_lev1_193a_2011_06_22t09_00_07_84z_image_lev1.fits', m…"
      ]
     },
     "metadata": {},
     "output_type": "display_data"
    },
    {
     "data": {
      "application/vnd.jupyter.widget-view+json": {
       "model_id": "",
       "version_major": 2,
       "version_minor": 0
      },
      "text/plain": [
       "HBox(children=(FloatProgress(value=0.0, description='aia_lev1_193a_2011_06_22t09_30_07_84z_image_lev1.fits', m…"
      ]
     },
     "metadata": {},
     "output_type": "display_data"
    },
    {
     "data": {
      "application/vnd.jupyter.widget-view+json": {
       "model_id": "",
       "version_major": 2,
       "version_minor": 0
      },
      "text/plain": [
       "HBox(children=(FloatProgress(value=0.0, description='aia_lev1_193a_2011_06_22t10_30_07_84z_image_lev1.fits', m…"
      ]
     },
     "metadata": {},
     "output_type": "display_data"
    },
    {
     "data": {
      "application/vnd.jupyter.widget-view+json": {
       "model_id": "",
       "version_major": 2,
       "version_minor": 0
      },
      "text/plain": [
       "HBox(children=(FloatProgress(value=0.0, description='aia_lev1_193a_2011_06_22t11_30_07_84z_image_lev1.fits', m…"
      ]
     },
     "metadata": {},
     "output_type": "display_data"
    },
    {
     "data": {
      "application/vnd.jupyter.widget-view+json": {
       "model_id": "",
       "version_major": 2,
       "version_minor": 0
      },
      "text/plain": [
       "HBox(children=(FloatProgress(value=0.0, description='aia_lev1_193a_2011_06_22t11_00_07_84z_image_lev1.fits', m…"
      ]
     },
     "metadata": {},
     "output_type": "display_data"
    },
    {
     "data": {
      "application/vnd.jupyter.widget-view+json": {
       "model_id": "",
       "version_major": 2,
       "version_minor": 0
      },
      "text/plain": [
       "HBox(children=(FloatProgress(value=0.0, description='aia_lev1_193a_2011_06_22t07_30_07_84z_image_lev1.fits', m…"
      ]
     },
     "metadata": {},
     "output_type": "display_data"
    },
    {
     "data": {
      "application/vnd.jupyter.widget-view+json": {
       "model_id": "",
       "version_major": 2,
       "version_minor": 0
      },
      "text/plain": [
       "HBox(children=(FloatProgress(value=0.0, description='aia_lev1_193a_2011_06_22t08_30_07_84z_image_lev1.fits', m…"
      ]
     },
     "metadata": {},
     "output_type": "display_data"
    },
    {
     "data": {
      "application/vnd.jupyter.widget-view+json": {
       "model_id": "",
       "version_major": 2,
       "version_minor": 0
      },
      "text/plain": [
       "HBox(children=(FloatProgress(value=0.0, description='aia_lev1_193a_2011_06_22t13_00_07_84z_image_lev1.fits', m…"
      ]
     },
     "metadata": {},
     "output_type": "display_data"
    },
    {
     "data": {
      "application/vnd.jupyter.widget-view+json": {
       "model_id": "",
       "version_major": 2,
       "version_minor": 0
      },
      "text/plain": [
       "HBox(children=(FloatProgress(value=0.0, description='aia_lev1_193a_2011_06_22t12_00_07_84z_image_lev1.fits', m…"
      ]
     },
     "metadata": {},
     "output_type": "display_data"
    },
    {
     "data": {
      "application/vnd.jupyter.widget-view+json": {
       "model_id": "",
       "version_major": 2,
       "version_minor": 0
      },
      "text/plain": [
       "HBox(children=(FloatProgress(value=0.0, description='aia_lev1_193a_2011_06_22t14_00_07_84z_image_lev1.fits', m…"
      ]
     },
     "metadata": {},
     "output_type": "display_data"
    },
    {
     "data": {
      "application/vnd.jupyter.widget-view+json": {
       "model_id": "",
       "version_major": 2,
       "version_minor": 0
      },
      "text/plain": [
       "HBox(children=(FloatProgress(value=0.0, description='aia_lev1_193a_2011_06_22t15_00_07_84z_image_lev1.fits', m…"
      ]
     },
     "metadata": {},
     "output_type": "display_data"
    },
    {
     "data": {
      "application/vnd.jupyter.widget-view+json": {
       "model_id": "",
       "version_major": 2,
       "version_minor": 0
      },
      "text/plain": [
       "HBox(children=(FloatProgress(value=0.0, description='aia_lev1_193a_2011_06_22t16_00_07_84z_image_lev1.fits', m…"
      ]
     },
     "metadata": {},
     "output_type": "display_data"
    },
    {
     "data": {
      "application/vnd.jupyter.widget-view+json": {
       "model_id": "",
       "version_major": 2,
       "version_minor": 0
      },
      "text/plain": [
       "HBox(children=(FloatProgress(value=0.0, description='aia_lev1_193a_2011_06_22t15_30_07_84z_image_lev1.fits', m…"
      ]
     },
     "metadata": {},
     "output_type": "display_data"
    },
    {
     "data": {
      "application/vnd.jupyter.widget-view+json": {
       "model_id": "",
       "version_major": 2,
       "version_minor": 0
      },
      "text/plain": [
       "HBox(children=(FloatProgress(value=0.0, description='aia_lev1_193a_2011_06_22t17_00_07_84z_image_lev1.fits', m…"
      ]
     },
     "metadata": {},
     "output_type": "display_data"
    },
    {
     "data": {
      "application/vnd.jupyter.widget-view+json": {
       "model_id": "",
       "version_major": 2,
       "version_minor": 0
      },
      "text/plain": [
       "HBox(children=(FloatProgress(value=0.0, description='aia_lev1_193a_2011_06_22t16_30_07_84z_image_lev1.fits', m…"
      ]
     },
     "metadata": {},
     "output_type": "display_data"
    },
    {
     "data": {
      "application/vnd.jupyter.widget-view+json": {
       "model_id": "",
       "version_major": 2,
       "version_minor": 0
      },
      "text/plain": [
       "HBox(children=(FloatProgress(value=0.0, description='aia_lev1_193a_2011_06_22t18_00_07_84z_image_lev1.fits', m…"
      ]
     },
     "metadata": {},
     "output_type": "display_data"
    },
    {
     "data": {
      "application/vnd.jupyter.widget-view+json": {
       "model_id": "",
       "version_major": 2,
       "version_minor": 0
      },
      "text/plain": [
       "HBox(children=(FloatProgress(value=0.0, description='aia_lev1_193a_2011_06_22t17_30_07_84z_image_lev1.fits', m…"
      ]
     },
     "metadata": {},
     "output_type": "display_data"
    },
    {
     "data": {
      "application/vnd.jupyter.widget-view+json": {
       "model_id": "",
       "version_major": 2,
       "version_minor": 0
      },
      "text/plain": [
       "HBox(children=(FloatProgress(value=0.0, description='aia_lev1_193a_2011_06_22t12_30_07_84z_image_lev1.fits', m…"
      ]
     },
     "metadata": {},
     "output_type": "display_data"
    },
    {
     "data": {
      "application/vnd.jupyter.widget-view+json": {
       "model_id": "",
       "version_major": 2,
       "version_minor": 0
      },
      "text/plain": [
       "HBox(children=(FloatProgress(value=0.0, description='aia_lev1_193a_2011_06_22t13_30_07_84z_image_lev1.fits', m…"
      ]
     },
     "metadata": {},
     "output_type": "display_data"
    },
    {
     "data": {
      "application/vnd.jupyter.widget-view+json": {
       "model_id": "",
       "version_major": 2,
       "version_minor": 0
      },
      "text/plain": [
       "HBox(children=(FloatProgress(value=0.0, description='aia_lev1_193a_2011_06_22t18_30_07_84z_image_lev1.fits', m…"
      ]
     },
     "metadata": {},
     "output_type": "display_data"
    },
    {
     "data": {
      "application/vnd.jupyter.widget-view+json": {
       "model_id": "",
       "version_major": 2,
       "version_minor": 0
      },
      "text/plain": [
       "HBox(children=(FloatProgress(value=0.0, description='aia_lev1_193a_2011_06_22t14_30_07_84z_image_lev1.fits', m…"
      ]
     },
     "metadata": {},
     "output_type": "display_data"
    },
    {
     "data": {
      "application/vnd.jupyter.widget-view+json": {
       "model_id": "",
       "version_major": 2,
       "version_minor": 0
      },
      "text/plain": [
       "HBox(children=(FloatProgress(value=0.0, description='aia_lev1_193a_2011_06_22t19_00_07_84z_image_lev1.fits', m…"
      ]
     },
     "metadata": {},
     "output_type": "display_data"
    },
    {
     "data": {
      "application/vnd.jupyter.widget-view+json": {
       "model_id": "",
       "version_major": 2,
       "version_minor": 0
      },
      "text/plain": [
       "HBox(children=(FloatProgress(value=0.0, description='aia_lev1_193a_2011_06_22t20_00_07_84z_image_lev1.fits', m…"
      ]
     },
     "metadata": {},
     "output_type": "display_data"
    },
    {
     "data": {
      "application/vnd.jupyter.widget-view+json": {
       "model_id": "",
       "version_major": 2,
       "version_minor": 0
      },
      "text/plain": [
       "HBox(children=(FloatProgress(value=0.0, description='aia_lev1_193a_2011_06_22t21_00_05_00z_image_lev1.fits', m…"
      ]
     },
     "metadata": {},
     "output_type": "display_data"
    },
    {
     "data": {
      "application/vnd.jupyter.widget-view+json": {
       "model_id": "",
       "version_major": 2,
       "version_minor": 0
      },
      "text/plain": [
       "HBox(children=(FloatProgress(value=0.0, description='aia_lev1_193a_2011_06_22t22_00_07_84z_image_lev1.fits', m…"
      ]
     },
     "metadata": {},
     "output_type": "display_data"
    },
    {
     "data": {
      "application/vnd.jupyter.widget-view+json": {
       "model_id": "",
       "version_major": 2,
       "version_minor": 0
      },
      "text/plain": [
       "HBox(children=(FloatProgress(value=0.0, description='aia_lev1_193a_2011_06_22t19_30_07_84z_image_lev1.fits', m…"
      ]
     },
     "metadata": {},
     "output_type": "display_data"
    },
    {
     "data": {
      "application/vnd.jupyter.widget-view+json": {
       "model_id": "",
       "version_major": 2,
       "version_minor": 0
      },
      "text/plain": [
       "HBox(children=(FloatProgress(value=0.0, description='aia_lev1_193a_2011_06_22t20_30_07_84z_image_lev1.fits', m…"
      ]
     },
     "metadata": {},
     "output_type": "display_data"
    },
    {
     "data": {
      "application/vnd.jupyter.widget-view+json": {
       "model_id": "",
       "version_major": 2,
       "version_minor": 0
      },
      "text/plain": [
       "HBox(children=(FloatProgress(value=0.0, description='aia_lev1_193a_2011_06_22t23_00_07_84z_image_lev1.fits', m…"
      ]
     },
     "metadata": {},
     "output_type": "display_data"
    },
    {
     "data": {
      "application/vnd.jupyter.widget-view+json": {
       "model_id": "",
       "version_major": 2,
       "version_minor": 0
      },
      "text/plain": [
       "HBox(children=(FloatProgress(value=0.0, description='aia_lev1_193a_2011_06_22t21_30_07_84z_image_lev1.fits', m…"
      ]
     },
     "metadata": {},
     "output_type": "display_data"
    },
    {
     "data": {
      "application/vnd.jupyter.widget-view+json": {
       "model_id": "",
       "version_major": 2,
       "version_minor": 0
      },
      "text/plain": [
       "HBox(children=(FloatProgress(value=0.0, description='aia_lev1_193a_2011_06_23t00_00_07_84z_image_lev1.fits', m…"
      ]
     },
     "metadata": {},
     "output_type": "display_data"
    },
    {
     "data": {
      "application/vnd.jupyter.widget-view+json": {
       "model_id": "",
       "version_major": 2,
       "version_minor": 0
      },
      "text/plain": [
       "HBox(children=(FloatProgress(value=0.0, description='aia_lev1_193a_2011_06_23t01_00_07_84z_image_lev1.fits', m…"
      ]
     },
     "metadata": {},
     "output_type": "display_data"
    },
    {
     "data": {
      "application/vnd.jupyter.widget-view+json": {
       "model_id": "894c0106cb854e598933e3f3e677d3af",
       "version_major": 2,
       "version_minor": 0
      },
      "text/plain": [
       "HBox(children=(FloatProgress(value=0.0, description='aia_lev1_193a_2011_06_23t02_00_07_84z_image_lev1.fits', m…"
      ]
     },
     "metadata": {},
     "output_type": "display_data"
    },
    {
     "data": {
      "application/vnd.jupyter.widget-view+json": {
       "model_id": "9c0e6f0b2b6b4dcf84a40c6095f39c4e",
       "version_major": 2,
       "version_minor": 0
      },
      "text/plain": [
       "HBox(children=(FloatProgress(value=0.0, description='aia_lev1_193a_2011_06_22t22_30_07_84z_image_lev1.fits', m…"
      ]
     },
     "metadata": {},
     "output_type": "display_data"
    },
    {
     "data": {
      "application/vnd.jupyter.widget-view+json": {
       "model_id": "99421e5ae93646389cb4f1c7519e7f0f",
       "version_major": 2,
       "version_minor": 0
      },
      "text/plain": [
       "HBox(children=(FloatProgress(value=0.0, description='aia_lev1_193a_2011_06_22t23_30_07_84z_image_lev1.fits', m…"
      ]
     },
     "metadata": {},
     "output_type": "display_data"
    },
    {
     "data": {
      "application/vnd.jupyter.widget-view+json": {
       "model_id": "2ba6323f0f514a9e9ad69f9e36518c8a",
       "version_major": 2,
       "version_minor": 0
      },
      "text/plain": [
       "HBox(children=(FloatProgress(value=0.0, description='aia_lev1_193a_2011_06_23t00_30_07_84z_image_lev1.fits', m…"
      ]
     },
     "metadata": {},
     "output_type": "display_data"
    },
    {
     "data": {
      "application/vnd.jupyter.widget-view+json": {
       "model_id": "6ed7a85eb30847e688c427f5a49100ae",
       "version_major": 2,
       "version_minor": 0
      },
      "text/plain": [
       "HBox(children=(FloatProgress(value=0.0, description='aia_lev1_193a_2011_06_23t03_00_07_84z_image_lev1.fits', m…"
      ]
     },
     "metadata": {},
     "output_type": "display_data"
    },
    {
     "data": {
      "application/vnd.jupyter.widget-view+json": {
       "model_id": "",
       "version_major": 2,
       "version_minor": 0
      },
      "text/plain": [
       "HBox(children=(FloatProgress(value=0.0, description='aia_lev1_193a_2011_06_23t04_00_07_84z_image_lev1.fits', m…"
      ]
     },
     "metadata": {},
     "output_type": "display_data"
    },
    {
     "data": {
      "application/vnd.jupyter.widget-view+json": {
       "model_id": "8bde370a939e446492e39e3b710c9d85",
       "version_major": 2,
       "version_minor": 0
      },
      "text/plain": [
       "HBox(children=(FloatProgress(value=0.0, description='aia_lev1_193a_2011_06_23t02_30_07_84z_image_lev1.fits', m…"
      ]
     },
     "metadata": {},
     "output_type": "display_data"
    },
    {
     "data": {
      "application/vnd.jupyter.widget-view+json": {
       "model_id": "55708506bd8f4f8d82f48cdaed95ad2a",
       "version_major": 2,
       "version_minor": 0
      },
      "text/plain": [
       "HBox(children=(FloatProgress(value=0.0, description='aia_lev1_193a_2011_06_23t05_00_07_84z_image_lev1.fits', m…"
      ]
     },
     "metadata": {},
     "output_type": "display_data"
    },
    {
     "data": {
      "application/vnd.jupyter.widget-view+json": {
       "model_id": "10912d4c5d74471ea6615c7e207652b0",
       "version_major": 2,
       "version_minor": 0
      },
      "text/plain": [
       "HBox(children=(FloatProgress(value=0.0, description='aia_lev1_193a_2011_06_23t01_30_07_84z_image_lev1.fits', m…"
      ]
     },
     "metadata": {},
     "output_type": "display_data"
    },
    {
     "data": {
      "application/vnd.jupyter.widget-view+json": {
       "model_id": "a14f4e4154754e149bee8a6fb19cb9bb",
       "version_major": 2,
       "version_minor": 0
      },
      "text/plain": [
       "HBox(children=(FloatProgress(value=0.0, description='aia_lev1_193a_2011_06_23t03_30_07_84z_image_lev1.fits', m…"
      ]
     },
     "metadata": {},
     "output_type": "display_data"
    },
    {
     "data": {
      "application/vnd.jupyter.widget-view+json": {
       "model_id": "be320b5527734c758fa9a610ff4bf2dc",
       "version_major": 2,
       "version_minor": 0
      },
      "text/plain": [
       "HBox(children=(FloatProgress(value=0.0, description='aia_lev1_193a_2011_06_23t06_00_07_84z_image_lev1.fits', m…"
      ]
     },
     "metadata": {},
     "output_type": "display_data"
    },
    {
     "data": {
      "application/vnd.jupyter.widget-view+json": {
       "model_id": "9761251ae1e64bf9aa69463afb65f1f0",
       "version_major": 2,
       "version_minor": 0
      },
      "text/plain": [
       "HBox(children=(FloatProgress(value=0.0, description='aia_lev1_193a_2011_06_23t04_30_07_84z_image_lev1.fits', m…"
      ]
     },
     "metadata": {},
     "output_type": "display_data"
    },
    {
     "data": {
      "application/vnd.jupyter.widget-view+json": {
       "model_id": "a410b9efbd31434c9bc2c7ebd51db1b7",
       "version_major": 2,
       "version_minor": 0
      },
      "text/plain": [
       "HBox(children=(FloatProgress(value=0.0, description='aia_lev1_193a_2011_06_23t07_00_07_84z_image_lev1.fits', m…"
      ]
     },
     "metadata": {},
     "output_type": "display_data"
    },
    {
     "data": {
      "application/vnd.jupyter.widget-view+json": {
       "model_id": "12c549be392c40818a60e8f90da4dd08",
       "version_major": 2,
       "version_minor": 0
      },
      "text/plain": [
       "HBox(children=(FloatProgress(value=0.0, description='aia_lev1_193a_2011_06_23t08_00_07_84z_image_lev1.fits', m…"
      ]
     },
     "metadata": {},
     "output_type": "display_data"
    },
    {
     "data": {
      "application/vnd.jupyter.widget-view+json": {
       "model_id": "976b90cd8a1d4e17b9ae96d890ab1155",
       "version_major": 2,
       "version_minor": 0
      },
      "text/plain": [
       "HBox(children=(FloatProgress(value=0.0, description='aia_lev1_193a_2011_06_23t05_30_07_84z_image_lev1.fits', m…"
      ]
     },
     "metadata": {},
     "output_type": "display_data"
    },
    {
     "data": {
      "application/vnd.jupyter.widget-view+json": {
       "model_id": "213dd52c37ae4469a5b861175f6ab83d",
       "version_major": 2,
       "version_minor": 0
      },
      "text/plain": [
       "HBox(children=(FloatProgress(value=0.0, description='aia_lev1_193a_2011_06_23t06_30_07_84z_image_lev1.fits', m…"
      ]
     },
     "metadata": {},
     "output_type": "display_data"
    },
    {
     "data": {
      "application/vnd.jupyter.widget-view+json": {
       "model_id": "a997dbd8d5024b4f86b5183d8229010a",
       "version_major": 2,
       "version_minor": 0
      },
      "text/plain": [
       "HBox(children=(FloatProgress(value=0.0, description='aia_lev1_193a_2011_06_23t09_00_07_84z_image_lev1.fits', m…"
      ]
     },
     "metadata": {},
     "output_type": "display_data"
    },
    {
     "data": {
      "application/vnd.jupyter.widget-view+json": {
       "model_id": "",
       "version_major": 2,
       "version_minor": 0
      },
      "text/plain": [
       "HBox(children=(FloatProgress(value=0.0, description='aia_lev1_193a_2011_06_23t10_00_07_84z_image_lev1.fits', m…"
      ]
     },
     "metadata": {},
     "output_type": "display_data"
    },
    {
     "data": {
      "application/vnd.jupyter.widget-view+json": {
       "model_id": "ceb5b4422ddf4732829478b93b110fb2",
       "version_major": 2,
       "version_minor": 0
      },
      "text/plain": [
       "HBox(children=(FloatProgress(value=0.0, description='aia_lev1_193a_2011_06_23t08_30_07_84z_image_lev1.fits', m…"
      ]
     },
     "metadata": {},
     "output_type": "display_data"
    },
    {
     "data": {
      "application/vnd.jupyter.widget-view+json": {
       "model_id": "9398ab3952d14afc88bfb5195ace4740",
       "version_major": 2,
       "version_minor": 0
      },
      "text/plain": [
       "HBox(children=(FloatProgress(value=0.0, description='aia_lev1_193a_2011_06_23t11_00_07_84z_image_lev1.fits', m…"
      ]
     },
     "metadata": {},
     "output_type": "display_data"
    },
    {
     "data": {
      "application/vnd.jupyter.widget-view+json": {
       "model_id": "f4490eb312534bfc94c8e1c9a2306635",
       "version_major": 2,
       "version_minor": 0
      },
      "text/plain": [
       "HBox(children=(FloatProgress(value=0.0, description='aia_lev1_193a_2011_06_23t09_30_07_84z_image_lev1.fits', m…"
      ]
     },
     "metadata": {},
     "output_type": "display_data"
    },
    {
     "data": {
      "application/vnd.jupyter.widget-view+json": {
       "model_id": "947f9d82beb2405e80cc4603ea4c2f6e",
       "version_major": 2,
       "version_minor": 0
      },
      "text/plain": [
       "HBox(children=(FloatProgress(value=0.0, description='aia_lev1_193a_2011_06_23t12_00_07_84z_image_lev1.fits', m…"
      ]
     },
     "metadata": {},
     "output_type": "display_data"
    },
    {
     "data": {
      "application/vnd.jupyter.widget-view+json": {
       "model_id": "",
       "version_major": 2,
       "version_minor": 0
      },
      "text/plain": [
       "HBox(children=(FloatProgress(value=0.0, description='aia_lev1_193a_2011_06_23t13_00_07_84z_image_lev1.fits', m…"
      ]
     },
     "metadata": {},
     "output_type": "display_data"
    },
    {
     "data": {
      "application/vnd.jupyter.widget-view+json": {
       "model_id": "49d6513cf45742e0a0d4d39ef6ec2fc3",
       "version_major": 2,
       "version_minor": 0
      },
      "text/plain": [
       "HBox(children=(FloatProgress(value=0.0, description='aia_lev1_193a_2011_06_23t11_30_07_84z_image_lev1.fits', m…"
      ]
     },
     "metadata": {},
     "output_type": "display_data"
    },
    {
     "data": {
      "application/vnd.jupyter.widget-view+json": {
       "model_id": "",
       "version_major": 2,
       "version_minor": 0
      },
      "text/plain": [
       "HBox(children=(FloatProgress(value=0.0, description='aia_lev1_193a_2011_06_23t14_00_07_84z_image_lev1.fits', m…"
      ]
     },
     "metadata": {},
     "output_type": "display_data"
    },
    {
     "data": {
      "application/vnd.jupyter.widget-view+json": {
       "model_id": "",
       "version_major": 2,
       "version_minor": 0
      },
      "text/plain": [
       "HBox(children=(FloatProgress(value=0.0, description='aia_lev1_193a_2011_06_23t12_30_07_84z_image_lev1.fits', m…"
      ]
     },
     "metadata": {},
     "output_type": "display_data"
    },
    {
     "data": {
      "application/vnd.jupyter.widget-view+json": {
       "model_id": "69f64612ffca4525afc1d773d4fe4d9d",
       "version_major": 2,
       "version_minor": 0
      },
      "text/plain": [
       "HBox(children=(FloatProgress(value=0.0, description='aia_lev1_193a_2011_06_23t13_30_07_84z_image_lev1.fits', m…"
      ]
     },
     "metadata": {},
     "output_type": "display_data"
    },
    {
     "data": {
      "application/vnd.jupyter.widget-view+json": {
       "model_id": "4c33741507fd433ca9877b0618464efd",
       "version_major": 2,
       "version_minor": 0
      },
      "text/plain": [
       "HBox(children=(FloatProgress(value=0.0, description='aia_lev1_193a_2011_06_23t15_00_07_84z_image_lev1.fits', m…"
      ]
     },
     "metadata": {},
     "output_type": "display_data"
    },
    {
     "data": {
      "application/vnd.jupyter.widget-view+json": {
       "model_id": "671b6863cce04aa8b7581555fa39af3a",
       "version_major": 2,
       "version_minor": 0
      },
      "text/plain": [
       "HBox(children=(FloatProgress(value=0.0, description='aia_lev1_193a_2011_06_23t16_00_07_84z_image_lev1.fits', m…"
      ]
     },
     "metadata": {},
     "output_type": "display_data"
    },
    {
     "data": {
      "application/vnd.jupyter.widget-view+json": {
       "model_id": "d1021b58867e425cb2a56e6c07f81284",
       "version_major": 2,
       "version_minor": 0
      },
      "text/plain": [
       "HBox(children=(FloatProgress(value=0.0, description='aia_lev1_193a_2011_06_23t14_30_07_84z_image_lev1.fits', m…"
      ]
     },
     "metadata": {},
     "output_type": "display_data"
    },
    {
     "data": {
      "application/vnd.jupyter.widget-view+json": {
       "model_id": "dd0a6d2c091140e0b658e2e052109098",
       "version_major": 2,
       "version_minor": 0
      },
      "text/plain": [
       "HBox(children=(FloatProgress(value=0.0, description='aia_lev1_193a_2011_06_23t07_30_07_84z_image_lev1.fits', m…"
      ]
     },
     "metadata": {},
     "output_type": "display_data"
    },
    {
     "data": {
      "application/vnd.jupyter.widget-view+json": {
       "model_id": "27a706c79ff843c78c60d0f2758f73fa",
       "version_major": 2,
       "version_minor": 0
      },
      "text/plain": [
       "HBox(children=(FloatProgress(value=0.0, description='aia_lev1_193a_2011_06_23t10_30_07_84z_image_lev1.fits', m…"
      ]
     },
     "metadata": {},
     "output_type": "display_data"
    },
    {
     "data": {
      "application/vnd.jupyter.widget-view+json": {
       "model_id": "1eccdf608e3749cfb16317d8663b4c98",
       "version_major": 2,
       "version_minor": 0
      },
      "text/plain": [
       "HBox(children=(FloatProgress(value=0.0, description='aia_lev1_193a_2011_06_23t17_00_07_84z_image_lev1.fits', m…"
      ]
     },
     "metadata": {},
     "output_type": "display_data"
    },
    {
     "data": {
      "application/vnd.jupyter.widget-view+json": {
       "model_id": "deea979126e64bd09d3133d36c68215c",
       "version_major": 2,
       "version_minor": 0
      },
      "text/plain": [
       "HBox(children=(FloatProgress(value=0.0, description='aia_lev1_193a_2011_06_23t18_00_07_84z_image_lev1.fits', m…"
      ]
     },
     "metadata": {},
     "output_type": "display_data"
    },
    {
     "data": {
      "application/vnd.jupyter.widget-view+json": {
       "model_id": "12766c554e4a490ba319798b21d65c39",
       "version_major": 2,
       "version_minor": 0
      },
      "text/plain": [
       "HBox(children=(FloatProgress(value=0.0, description='aia_lev1_193a_2011_06_23t15_30_07_84z_image_lev1.fits', m…"
      ]
     },
     "metadata": {},
     "output_type": "display_data"
    },
    {
     "data": {
      "application/vnd.jupyter.widget-view+json": {
       "model_id": "20a5021282d14951868833626c2cad5e",
       "version_major": 2,
       "version_minor": 0
      },
      "text/plain": [
       "HBox(children=(FloatProgress(value=0.0, description='aia_lev1_193a_2011_06_23t19_00_07_84z_image_lev1.fits', m…"
      ]
     },
     "metadata": {},
     "output_type": "display_data"
    },
    {
     "data": {
      "application/vnd.jupyter.widget-view+json": {
       "model_id": "",
       "version_major": 2,
       "version_minor": 0
      },
      "text/plain": [
       "HBox(children=(FloatProgress(value=0.0, description='aia_lev1_193a_2011_06_23t20_00_07_84z_image_lev1.fits', m…"
      ]
     },
     "metadata": {},
     "output_type": "display_data"
    },
    {
     "data": {
      "application/vnd.jupyter.widget-view+json": {
       "model_id": "4d8934b6aed9495a817aa1951d722580",
       "version_major": 2,
       "version_minor": 0
      },
      "text/plain": [
       "HBox(children=(FloatProgress(value=0.0, description='aia_lev1_193a_2011_06_23t16_30_07_84z_image_lev1.fits', m…"
      ]
     },
     "metadata": {},
     "output_type": "display_data"
    },
    {
     "data": {
      "application/vnd.jupyter.widget-view+json": {
       "model_id": "0b6e6214bb7849d89957c949bb532c7e",
       "version_major": 2,
       "version_minor": 0
      },
      "text/plain": [
       "HBox(children=(FloatProgress(value=0.0, description='aia_lev1_193a_2011_06_23t18_30_07_84z_image_lev1.fits', m…"
      ]
     },
     "metadata": {},
     "output_type": "display_data"
    },
    {
     "data": {
      "application/vnd.jupyter.widget-view+json": {
       "model_id": "59a630e2bf2242be99133020c2a52e96",
       "version_major": 2,
       "version_minor": 0
      },
      "text/plain": [
       "HBox(children=(FloatProgress(value=0.0, description='aia_lev1_193a_2011_06_23t17_30_07_84z_image_lev1.fits', m…"
      ]
     },
     "metadata": {},
     "output_type": "display_data"
    },
    {
     "data": {
      "application/vnd.jupyter.widget-view+json": {
       "model_id": "2d88ea3a915c4299bb09720940ff348b",
       "version_major": 2,
       "version_minor": 0
      },
      "text/plain": [
       "HBox(children=(FloatProgress(value=0.0, description='aia_lev1_193a_2011_06_23t21_00_05_00z_image_lev1.fits', m…"
      ]
     },
     "metadata": {},
     "output_type": "display_data"
    },
    {
     "data": {
      "application/vnd.jupyter.widget-view+json": {
       "model_id": "",
       "version_major": 2,
       "version_minor": 0
      },
      "text/plain": [
       "HBox(children=(FloatProgress(value=0.0, description='aia_lev1_193a_2011_06_23t22_00_07_84z_image_lev1.fits', m…"
      ]
     },
     "metadata": {},
     "output_type": "display_data"
    },
    {
     "data": {
      "application/vnd.jupyter.widget-view+json": {
       "model_id": "8a2c024e81604ed3ac45b360ae30f043",
       "version_major": 2,
       "version_minor": 0
      },
      "text/plain": [
       "HBox(children=(FloatProgress(value=0.0, description='aia_lev1_193a_2011_06_23t23_00_07_84z_image_lev1.fits', m…"
      ]
     },
     "metadata": {},
     "output_type": "display_data"
    },
    {
     "data": {
      "application/vnd.jupyter.widget-view+json": {
       "model_id": "",
       "version_major": 2,
       "version_minor": 0
      },
      "text/plain": [
       "HBox(children=(FloatProgress(value=0.0, description='aia_lev1_193a_2011_06_23t20_30_07_84z_image_lev1.fits', m…"
      ]
     },
     "metadata": {},
     "output_type": "display_data"
    },
    {
     "data": {
      "application/vnd.jupyter.widget-view+json": {
       "model_id": "31d90dc1a3ec446c9aaa360cbdc11f84",
       "version_major": 2,
       "version_minor": 0
      },
      "text/plain": [
       "HBox(children=(FloatProgress(value=0.0, description='aia_lev1_193a_2011_06_23t21_30_07_84z_image_lev1.fits', m…"
      ]
     },
     "metadata": {},
     "output_type": "display_data"
    },
    {
     "data": {
      "application/vnd.jupyter.widget-view+json": {
       "model_id": "2795c33f128b46eba14a5e18c12c7903",
       "version_major": 2,
       "version_minor": 0
      },
      "text/plain": [
       "HBox(children=(FloatProgress(value=0.0, description='aia_lev1_193a_2011_06_24t00_00_07_84z_image_lev1.fits', m…"
      ]
     },
     "metadata": {},
     "output_type": "display_data"
    },
    {
     "data": {
      "application/vnd.jupyter.widget-view+json": {
       "model_id": "c2c3b9efd0524e24826501c738dba5d3",
       "version_major": 2,
       "version_minor": 0
      },
      "text/plain": [
       "HBox(children=(FloatProgress(value=0.0, description='aia_lev1_193a_2011_06_23t22_30_07_84z_image_lev1.fits', m…"
      ]
     },
     "metadata": {},
     "output_type": "display_data"
    },
    {
     "data": {
      "application/vnd.jupyter.widget-view+json": {
       "model_id": "7494b740f63d4b17a84507dc8617654e",
       "version_major": 2,
       "version_minor": 0
      },
      "text/plain": [
       "HBox(children=(FloatProgress(value=0.0, description='aia_lev1_193a_2011_06_23t23_30_07_84z_image_lev1.fits', m…"
      ]
     },
     "metadata": {},
     "output_type": "display_data"
    },
    {
     "data": {
      "application/vnd.jupyter.widget-view+json": {
       "model_id": "a229a3bbfb60443e89b5202a456adda4",
       "version_major": 2,
       "version_minor": 0
      },
      "text/plain": [
       "HBox(children=(FloatProgress(value=0.0, description='aia_lev1_193a_2011_06_24t01_00_07_84z_image_lev1.fits', m…"
      ]
     },
     "metadata": {},
     "output_type": "display_data"
    },
    {
     "data": {
      "application/vnd.jupyter.widget-view+json": {
       "model_id": "4ceca2e94ce64fffa5f2b6367f8fab1b",
       "version_major": 2,
       "version_minor": 0
      },
      "text/plain": [
       "HBox(children=(FloatProgress(value=0.0, description='aia_lev1_193a_2011_06_24t00_30_07_84z_image_lev1.fits', m…"
      ]
     },
     "metadata": {},
     "output_type": "display_data"
    },
    {
     "name": "stdout",
     "output_type": "stream",
     "text": [
      "\n"
     ]
    }
   ],
   "source": [
    "#@title Fido data search { form-width: \"200px\" }\n",
    "# import pytest\n",
    "\n",
    "results = Fido.search(a.Time(\"2011-06-22T01:30:00\",\"2011-06-24T01:30:00\"), a.Instrument('AIA'),\n",
    "                     a.Wavelength(193*u.angstrom), a.Sample(30*u.min))\n",
    "# print(results)\n",
    "# results = Fido.search(a.Time(\"2011-09-06T00:00:00\",\"2011-09-08T23:50:00\"), a.Instrument('AIA'),\n",
    "#                      a.Wavelength(21.1*u.nm, 21.1*u.nm), a.Sample(2*u.hour))\n",
    "# data_file = Fido.fetch(results, path = 'D:/POLIMI/THESIS/.fits_files/2011_09_06-211A-dimming_validation/DistortionAnalysis' )\n",
    "data_file = Fido.fetch(results, path= r\"C:/Users/galina.chikunova/Documents/python/20110621/load/\")\n",
    "\n",
    "\n",
    "# #opening the folder with maps\n",
    "# data_folder = Path(r\"/content/drive/MyDrive/Colab Notebooks/fits_files\")\n",
    "# listdir = os.listdir(data_folder)"
   ]
  },
  {
   "cell_type": "code",
   "execution_count": null,
   "metadata": {
    "id": "hShPOEsN3P7E"
   },
   "outputs": [],
   "source": [
    "#@title Differential rotation function { form-width: \"200px\" }\n",
    "\n",
    "def diff_rot(mapname, basemap):\n",
    "\n",
    "    #in_time = mapname.date\n",
    "    in_time = time_map\n",
    "    #out_time = basemap.date\n",
    "    out_time = time_base\n",
    "    #out_time = in_time + time_diff  # if we want to shift on a specific time\n",
    "    \n",
    "    # The output frame is shifted in time for an observer at Earth \n",
    "    out_frame = Helioprojective(observer='earth', obstime= out_time, rsun= mapname.meta['rsun_ref']*u.m)\n",
    "    rot_frame = RotatedSunFrame(base=out_frame, rotated_time=in_time)\n",
    "    \n",
    "    # Construct a WCS object for the output map with the target RotatedSunHelioprojective frame specified\n",
    "    # instead of the regular Helioprojective frame.\n",
    "    out_shape = mapname.data.shape\n",
    "\n",
    "    \n",
    "    # WCS converts cdelt and cunit from arcsec to deg\n",
    "    out_wcs = basemap.wcs\n",
    "    out_wcs.coordinate_frame = rot_frame\n",
    "\n",
    "\n",
    "\n",
    "    # Reproject the map from the input frame to the output frame.\n",
    "    with transform_with_sun_center():\n",
    "        arr, _ = reproject_interp(mapname, out_wcs, out_shape)\n",
    "    # Create the output map and preserve the original map’s plot settings.\n",
    "    out_warp = sunpy.map.Map(arr, out_wcs)\n",
    "    out_warp.plot_settings = mapname.plot_settings\n",
    "    # make proper keywords\n",
    "    out_warp.meta[\"date-obs\"]=mapname.meta[\"date-obs\"]\n",
    "    out_warp.meta[\"instrume\"]= mapname.meta['instrume']\n",
    "    out_warp.meta[\"telescop\"]= mapname.meta['telescop']\n",
    "    out_warp.meta[\"wavelnth\"] = mapname.meta['wavelnth']\n",
    "    out_warp.meta[\"waveunit\"] = mapname.meta[\"waveunit\"]\n",
    "    out_warp.meta[\"exptime\"] = mapname.meta['exptime']\n",
    "    \n",
    "    out_warp.meta[\"cdelt1\"]=mapname.meta['cdelt1']\n",
    "    out_warp.meta[\"cdelt2\"]=mapname.meta['cdelt2']\n",
    "    out_warp.meta[\"cunit1\"]=mapname.meta['cunit1']\n",
    "    out_warp.meta[\"cunit2\"]=mapname.meta['cunit2']\n",
    "    out_warp.meta[\"rsun_obs\"]= mapname.meta['rsun_obs']\n",
    "    \n",
    "    return out_warp\n"
   ]
  },
  {
   "cell_type": "code",
   "execution_count": null,
   "metadata": {
    "id": "5njSzMKibmfx"
   },
   "outputs": [],
   "source": [
    "\n",
    "def diff_rot1(mapname, basemap):\n",
    "\n",
    "    #in_time = mapname.date\n",
    "    in_time = time_base\n",
    "    #out_time = basemap.date\n",
    "    out_time = time_base\n",
    "    #out_time = in_time + time_diff  # if we want to shift on a specific time\n",
    "    \n",
    "    # The output frame is shifted in time for an observer at Earth \n",
    "    out_frame = Helioprojective(observer='earth', obstime= out_time, rsun= mapname.meta['rsun_ref']*u.m)\n",
    "    rot_frame = RotatedSunFrame(base=out_frame, rotated_time=in_time)\n",
    "    \n",
    "    # Construct a WCS object for the output map with the target RotatedSunHelioprojective frame specified\n",
    "    # instead of the regular Helioprojective frame.\n",
    "    out_shape = mapname.data.shape\n",
    "\n",
    "    \n",
    "    # WCS converts cdelt and cunit from arcsec to deg\n",
    "    out_wcs = basemap.wcs\n",
    "    out_wcs.coordinate_frame = rot_frame\n",
    "\n",
    "\n",
    "\n",
    "    # Reproject the map from the input frame to the output frame.\n",
    "    with transform_with_sun_center():\n",
    "        arr, _ = reproject_interp(mapname, out_wcs, out_shape)\n",
    "    # Create the output map and preserve the original map’s plot settings.\n",
    "    out_warp = sunpy.map.Map(arr, out_wcs)\n",
    "    out_warp.plot_settings = mapname.plot_settings\n",
    "    # make proper keywords\n",
    "    out_warp.meta[\"date-obs\"]=mapname.meta[\"date-obs\"]\n",
    "    out_warp.meta[\"instrume\"]= mapname.meta['instrume']\n",
    "    out_warp.meta[\"telescop\"]= mapname.meta['telescop']\n",
    "    out_warp.meta[\"wavelnth\"] = mapname.meta['wavelnth']\n",
    "    out_warp.meta[\"waveunit\"] = mapname.meta[\"waveunit\"]\n",
    "    out_warp.meta[\"exptime\"] = mapname.meta['exptime']\n",
    "    \n",
    "    out_warp.meta[\"cdelt1\"]=mapname.meta['cdelt1']\n",
    "    out_warp.meta[\"cdelt2\"]=mapname.meta['cdelt2']\n",
    "    out_warp.meta[\"cunit1\"]=mapname.meta['cunit1']\n",
    "    out_warp.meta[\"cunit2\"]=mapname.meta['cunit2']\n",
    "    out_warp.meta[\"rsun_obs\"]= mapname.meta['rsun_obs']\n",
    "    \n",
    "    return out_warp"
   ]
  },
  {
   "cell_type": "markdown",
   "metadata": {
    "id": "K2cjg-ERbMLe"
   },
   "source": [
    "## Calibration with diff rotation "
   ]
  },
  {
   "cell_type": "markdown",
   "metadata": {},
   "source": [
    "firstly to check the base map"
   ]
  },
  {
   "cell_type": "code",
   "execution_count": null,
   "metadata": {
    "colab": {
     "base_uri": "https://localhost:8080/",
     "height": 488
    },
    "id": "8fZGFj4RJAtC",
    "outputId": "4bbccf7f-ae48-4ae1-db1a-3f9824bca060"
   },
   "outputs": [
    {
     "name": "stderr",
     "output_type": "stream",
     "text": [
      "WARNING: SunpyUserWarning: Integer input data has been cast to float64. [sunpy.image.transform]\n"
     ]
    },
    {
     "data": {
      "text/html": [
       "<pre>&lt;sunpy.map.sources.sdo.AIAMap object at 0x7fcfc5572050&gt;</pre>\n",
       "<table>\n",
       "    <tr>\n",
       "        <td><table style='text-align:left'>    <tr><th>Observatory</th><td>\t SDO</td></tr><tr><th>Instrument</th><td>\t AIA 3</td></tr><tr><th>Detector</th><td>\t AIA</td></tr><tr><th>Measurement</th><td>\t 1600.0 Angstrom</td></tr><tr><th>Wavelength</th><td>\t 1600.0 Angstrom</td></tr><tr><th>Observation Date</th><td> 2021-11-01 23:09:02</td></tr><tr><th>Exposure Time</th><td>\t 2.900727 s</td></tr><tr><th>Dimension</th><td>\t [4096. 4096.] pix</td></tr><tr><th>Coordinate System</th><td> helioprojective</td></tr><tr><th>Scale</th><td>\t\t [0.609373 0.609373] arcsec / pix</td></tr><tr><th>Reference Pixel</th><td> [2051.508789 2046.311523] pix</td></tr><tr><th>Reference Coord</th><td> [0. 0.] arcsec                   </td></tr></table></td>\n",
       "        <td rowspan=3>\n",
       "            <div align=center>\n",
       "                Image colormap uses histogram equalization<br>\n",
       "                Click on the image to toggle between units\n",
       "            </div>\n",
       "            <img src='data:image/png;base64,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'\n",
       "                 src2='data:image/png;base64,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'\n",
       "                 onClick='var temp = this.src;\n",
       "                          this.src = this.getAttribute(\"src2\");\n",
       "                          this.setAttribute(\"src2\", temp)'\n",
       "            />\n",
       "            <div align=center>\n",
       "\n",
       "            </div>\n",
       "        </td>\n",
       "    </tr>\n",
       "    <tr>\n",
       "    </tr>\n",
       "    <tr>\n",
       "        <td><img src='data:image/png;base64,iVBORw0KGgoAAAANSUhEUgAAAVkAAACsCAYAAADR2t/FAAAABHNCSVQICAgIfAhkiAAAAAlwSFlzAAALEgAACxIB0t1+/AAAADh0RVh0U29mdHdhcmUAbWF0cGxvdGxpYiB2ZXJzaW9uMy4yLjIsIGh0dHA6Ly9tYXRwbG90bGliLm9yZy+WH4yJAAAcYElEQVR4nO3de7gcVZnv8e/PRAhIBCERTEgICKKROIARBR2MykjC1SMIRJiBmBFxDuiMIKKAB29nGB05RxQHI5coGK6iBhNEESIoAtkMlxAiGm6SIOQCQRBQAu/8sdYmtTvVe3fv3Ze9O7/P8+xnd9dl1dvVVW+vWlW1ShGBmZk1xyvaHYCZWSdzkjUza6KOTrKSzpV0eoPKGi/pGUnD8vsFkv65EWXn8q6RdHSjyqtjuV+WtErSY/2Yd8DrV9IESSFp+EDKKSl3iqRljSyzhmUukPS8pBtrmPYYSb8uvH9G0g59zFPXupL0cUmP57K3qmWewa5yvfVj/obsZ5Kuz991n7E0dMNuJUkPAVsDa4EXgXuB7wOzIuIlgIg4ro6y/jkirqs2TUT8EdhsYFG/vLwzgB0j4qhC+dMaUXadcYwHTgS2i4gV9c5f6/rdwBwfEefVO1NENGTb6ibplcBZwDsi4q5Glj1UNHM/i4j3SjoG6LOiNdRrsgdGxEhgO+BM4DPA+Y1eSKNrWYPIeGB1fxKsDXpbAyOAxfXOqGSo54ZBoyNWZEQ8FRFzgcOBoyXtAiBptqQv59ejJP1U0hpJT0i6SdIrJF1ESjZX58OqkwuHZTMl/RG4vsqh2usl3Sbpz5J+ImnLvKz1DlUlPSRpH0lTgc8Bh+fl3ZXHv9z8kOM6TdLDklZI+r6kzfO47jiOlvTHfKh/arV1I2nzPP/KXN5pufx9gF8AY3Ics0vmnSJpmaTP5eU8JOnIwvji+v2MpFu7108+VF0saURe3imS7pe0WtLl3euqN7nMKyuGfUPS2fn1DElLJD0t6QFJH+ulrJC0Y1ns+f0Bku7M28fNkt5SEcfyvJz7JL2vr9gL846TdFVe/6slfauv+CRtIunr+ft6StKvJW1SMs8h+TvZpWL4G4D78ts1kq7Pw/eStDCXuVDSXoV5Fkj6iqTfAM8C6zVdVPssks6QdHFhuh77Si77y3m9PiPpaklbSfpB3ncWSppQNm9h/tIaY94eHsnl3C7p7/PwXvczSRvn73qXQlmjJT0n6bX5fdVtoh4dkWS7RcRtwDLg70tGn5jHjSb9yn8uzRL/CPyRVCveLCK+Wpjn3cCbgH2rLPKfgI8AryM1W5xdQ4w/A/4vcFle3t+VTHZM/nsPaWPfDKjcOd8F7Ay8D/i8pDdVWeQ3gc1zOe/OMc/ITSPTgEdzHMdUmX8bYBQwFjgamCVp55Lpvgb8FThN0k75Mx4VEc8DJwAfyMsfAzwJnFNleUWXAvtJGgmg1B5+GDAnj18BHAC8GpgB/D9Ju9dQbg+SdgMuAD4GbAV8B5ibd8SdgeOBt+Wjpn2Bh2osdxjwU+BhYAJpHV5aw6z/CbwV2AvYEjgZeKmi7BnAfwD7RMQ9xXER8XvgzfntFvnQdktgHmkb3YrUlDBPPdtq/xE4FhiZY27EZ+l2RC5/LPB64LfAhfnzLQH+Tx1lFS0Eds3lzAGukDSir/0sIv4KXAVMLww+DPhVRKzobZuoN8COSrLZo6QVXukFUjLcLiJeiIibou+LhM+IiL9ExHNVxl8UEfdExF+A04HD8sY4UEcCZ0XEAxHxDPBZ4Aj1rEV/ISKey+1tdwHrJescyxHAZyPi6Yh4CPg6aWOvx+kR8deI+BVpRz2scoLcDv5PwCeAucBXI+KOPPo44NSIWJY37jOAQ9VHM0xEPAz8N/C/8qD3As9GxC15/LyIuD+SXwE/p/wHti/HAt+JiFsj4sWI+B7pB+MdpPb+jYGJkl4ZEQ9FxP01lrsH6Ufl03k7ej4iej1RonSY/hHgkxGxPMdzc15v3f4V+DQwJSKW1hjL/sAfIuKiiFgbEZcAvwMOLEwzOyIW5/EvDPSzVLgwf1dPAdcA90fEdRGxFrgC2K2Osl4WERdHxOoc89dJ31VZJaDMHNL+0e3DrPsB722bqEsnJtmxwBMlw78GLAV+ng8tT6mhrEfqGP8w8EpSrW+gxtCzJvEw6STl1oVhxasBnqX8pNyoHFNlWWPriOXJ/CNSnH9M2YQ5id9AqukUa6rbAT/Kh11rSDWXF+n5eaqZw7raRnEnQNI0SbcoNf+sAfajf+t/O+DE7vhyWeOAMTmJ/Svph2GFpEsllX7+EuOAh3MiqdUoUltqb4n808A5EVHP1ROV2xSsvy30tr3357MUPV54/VzJ+36d+JN0Um4yeip/b5tT+zZwA7CppLfn5opdgR/lcVW3iXpj7KgkK+ltpI1mvV/YXJM7MSJ2AA4CPlVoW6tWo+2rpjuu8Ho8qba8CvgLsGkhrmGkZopay32U9CUXy15Lzw2zFqtyTJVlLa+jjNdIelXF/I+WTShpf2BP4JekH7VujwDTImKLwt+IiKgljiuAKZK2JdVo5+RlbQz8kHRovXVEbAHMB1SlnGcpfCekZpBifF+piG/TXNsjIuZExLtI6zFIh+m1eAQY31eNvcIq4HnSIXU17yc1yxxSR7mV2xSsvy30tl329ll6bO/0XLf16v5B77O83P56MunI6jV5G3iKddtAr/tZRLwIXE76EZ8O/DQins6je90m6tERSVbSqyUdQGojujgiFpVMc4CkHSWJ9EW8yLp2rscpaeivwVGSJkraFPgicGX+4n4PjJC0v9KlNKeRDmO6PQ5MUPUzuJcA/yZpe0mbsa5tqa5aRGEj+oqkkZK2Az4FXNz7nOv5gqSN8kZ9ACnx9SBpFHAe6ZKWo4EDJe2XR5+bY9guTzta0sE1foaVwAJS+92DEbEkj9qItE5XAmslTSMln2ruBD4saVg+KfLuwrjvAsflGo0kvSp/dyMl7SzpvTmpP0+qdb1UUn6Z24A/AWfmMkdIemcfn/clUlvgWZLG5Hj3rGgLXAxMBc6RdFCNscwH3iDpw5KGSzocmEhqZx3oZ7kT2FvpWvLNSc1b/ZK/7+WkfWuYpI9Q/QdnJKnysRIYLunzpPb5bn3tZ5B+tA8nNdHNKQyvuk3U+5mGepK9WtLTpF+dU0mN+TOqTLsTcB3wDKnR/dsRcUMe9++kmsEaSSfVsfyLgNmkQ/cRpPZIcrvTv5CSznLSr3Px0K47Sa2W9N8l5V6Qy74ReJC0c59QR1xFJ+TlP0Cq4c/J5dfqMdKJqkeBHwDHRcTvSqabBfwkIuZHxGpgJnBePrHyDVI77c/z93UL8PY6YpgD7ENhJ8g1jk+QfkSeJDUlzO2ljE+S2h/XkHaoHxfK6gI+Sjq5+CSpWemYPHpj0uWBq0jr4rXUmETyj9yBwI6kk6vLSDt0X04CFpFO6jxBqjn32FdzW/wBwHfzD0xfsazO058IrCbVAA+IiFUD/SwR8QvgMuBu4HZqT9zVfJTUJLKadALv5irTXQv8jFSpeZi0nxSbPPraz4iIW0n7xxhSW3H38N62ibqo73M/tqGSNIV0ZLBtu2MZCiT9nNRc0hUR72l3PNY8kn5BOgl2W0T0eklfp15kb9ZyEdFbc4V1kIj4h1qnHerNBWZmg5qbC8zMmsg1WTOzJhpSbbKjRo2KCRMmtDsMM7NSt99++6qIKF4TP7SS7IQJE+jq6mp3GGZmpSRV3lXn5gIzs2ZykjUzayInWTOzJhpSbbJ1u+YUeKzQjcGkQ2Fytbtuzcwar21JNnc2cmSOYWJE7NXHLP2yZs0aADZ75sH0YZ1kzayFGv2E0AtInVCsiIjiYx2mkjoJGQacFxFnRsRNwE2SPkDqCKPxpp3JnZssAGDXO05li6YsxMysuka3yc4mdcH2styX6jmkR51MBKZLmliYpEdHzGZmnaShSTYibmT9pxLsASzNj1L5G6nP14Ph5UdSP1XoKHc9ko6V1CWpa+XKlY0M18ys6VpxdcFYevbxuIx1j7yYSeqMuaqImBURkyNi8ujRo3ub1Mxs0Gnr1QUR0d8nVJqZDQmtqMkup+ezsLalvmdMmZkNWa1IsguBnfLzqjYiPYK3t8eEmJl1jIYmWUmXkJ6ftbOkZZJm5of/HU96Hs8S4PKIWNzI5ZqZDVYNbZONiOlVhs8nPS3TzGyD4r4LzMyayEnWzKyJnGTNzJrISdbMrImcZM3MmshJ1sysiZxkzcyayEnWzKyJnGTNzJrISdbMrImcZM3MmshJ1sysiZxkzcyayEnWzKyJnGTNzJrISdbMrImcZM3MmshJ1sysiZxkzcyayEnWzKyJ1kuykj4kaWR+fZqkqyTt3ugFS5oi6SZJ50qa0ujyzcwGg7Ka7OkR8bSkdwH7AOcD/1VLYZIukLRC0j0Vw6dKuk/SUkmn5MEBPAOMAJb1/yPU4bFFcOH+6a/rwpYs0sw2bGVJ9sX8f39gVkTMAzaqsbzZwNTiAEnDgHOAacBEYLqkicBNETEN+AzwhfpDr8/jW+8N20xKbx5bBIuubPYizcxKk+xySd8BDgfmS9q4ynTriYgbgScqBu8BLI2IByLib8ClwMER8VIe/ySwcbUyJR0rqUtS18qVK2sJo9SfxuwLM+alv+5ka2bWZGXJ8zDgWmDfiFgDbAl8egDLGAs8Uni/DBgr6YM5mV8EfKvazBExKyImR8Tk0aNHDyAMM7PWG979QtKWheELCsP+CnQ1esERcRVwVaPLNTMbTIYXXt9OOhmlkukC2KGfy1gOjCu83zYPMzPreC8n2YjYvknLWAjsJGl7UnI9Avhwk5ZlZjaolF0nK0lHSTo9vx8vaY9aCpN0CfBbYGdJyyTNjIi1wPGkdt4lwOURsbhxH8HMbPAaXjLs28BLwHuBLwFPAz8E3tZXYRExvcrw+cD8/odpZjY0lSXZt0fE7pLuAIiIJyXVep2smZkVlF3C9UK+gSAAJI0m1WzNzKxOZUn2bOBHwGslfQX4NfDvLY3KzKxDrNdcEBE/kHQ78D7S5VwfiIglLY/MzKwDlF1d8CXSbbDnRMS3SLfZujcVM7N+KGsuGA7cKuktkv6BdJ3r7a0Ny8ysM5Q1F3xW0nXAraTOW/aOiKUtj8zMrAOUNRfsTTr59UVSHwbflDSmxXGZmXWEsutk/xP4UETcCyDpg8D1wBtbGZiZWScoS7J7RkR3x91ExFWSftXCmMzMOkaxq8OjIuJi4JNSWUdcnNWyqMzMOkSxJvuq/H9kOwIxM+tExa4Ov5P/N/15W2ZmG4qyqwt2kHS1pJX5ybM/kdTfDrvNzDZoZTcjzAEuB14HjAGuAC5pZVBmZp2iLMluGhEXRcTa/HcxMKLVgZmZdYKyS7iukXQK6dHdwbpHg28JEBGVj/w2M7MqypLsYfn/xyqGH8HAHqhoZrbBKeu7oFkPVBxcHlsEF+4Pkw6FyTPaHY2Zdaiymmznm3Ro+v/YovTfSdbMmqTsxFdLSHqTpHMlXSnp4y1d+OQZMGMebDOppYs1sw3Py0lW0jvz/437W5ikC/K1tfdUDJ8q6T5JS/NJNSJiSUQcR2oDfmd/l2lmNpgVa7Jn5/+/HUB5s4GpxQH5oYznANOAicB0SRPzuIOAefhx4WbWoYptsi9ImgWMlXR25YQR8Ym+CouIGyVNqBi8B+lxNg8ASLoUOBi4NyLmAnMlzSPdBLEeSccCxwKMHz++zw9kZjaYFJPsAcA+wL409nEzY4FHCu+XAW+XNAX4ILAxvdRkI2IWMAtg8uTJ0cC4zMyarthBzCrgUklLIuKuZi84IhaQnrxgZtaxyq4uWC3pR/kE1gpJP5S07QCWsRwYV3i/bR5mZtbxypLshcBcUucwY4Cr87D+WgjsJGl7SRuR7hybO4DyzMyGjLIk+9qIuLDQQcxsYHQthUm6hHR1ws6SlkmaGRFrgeOBa4ElwOURsbhB8ZuZDWpld3ytknQU67o3nA6srqWwiJheZfh8fJmWmW2AymqyHyHdIPAY8CfgUMD3nZqZ9UNZBzEPAwe1IRYzs47Ttr4LzMw2BE6yZmZN5CRrZtZEZU+rPa3wut89cpmZWc+uDj8jaU/S1QTdBtIjl5nZBq94dcHvgA8BO0i6Kb/fStLOEXFfW6IzMxviis0Fa4DPAUuBKcA38vBTJN3c4rhap/tZXxfuD10DuXvYzGx9xZrsvsDngdcDZwF3A3+JiM69EWFSoWXEz/sysyYodnX4OQBJdwEXAbsDoyX9GngyIg5sT4hNNHnGuqR64f7tjcXMOlJZ3wXXRkQX0CXp4xHxLkmjWh2YmVknWO8Srog4ufD2mDxsVasCMjPrJL3ejNCKJySYmXWysuaCDVf3lQaQTor5JJiZDZCTbDdfaWBmTeAk281XGphZE7iDGDOzJnKSNTNrIidZM7MmaluSlbSDpPMlXdmuGHrVfaWB+zMwswFoaJKVdIGkFZLuqRg+VdJ9kpZKOgUgIh6IiJmNXH7DTDoUtpmUEu2iwfkbYGZDQ6NrsrOBqcUBkoYB5wDTgInAdEkTG7zcxpo8A2bMS4nWzGwAGppkI+JG4ImKwXsAS3PN9W/ApcDBtZYp6VhJXZK6Vq5c2cBozcyarxVtsmOBRwrvlwFjJW0l6VxgN0mfrTZzRMyKiMkRMXn06NHNjtXMrKHadjNCRKwGjmvX8s3MWqEVNdnlwLjC+23zMDOzjteKJLsQ2EnS9pI2Ao4A5rZguWZmbdfoS7guIT3hdmdJyyTNjIi1wPHAtcAS4PKIWNzI5TaVnwFmZgPQ0DbZiJheZfh8YH4jl9US7pnLzAbIvXD1plrPXF0X9rxJwX3PmlkV7rugPxZdua5m67vCzKwXTrL9tc0k3xVmZn1ykq1H90mw7lqsmVkf3CZbq+JJsG0m9XxvZlaFk2ytiifBzMxq5OYCM7MmcpI1M2siNxc0w2C/jnawx2fWDsX9YptJMO3MhhTrmmwzDPbraAd7fGbtUNwvGshJtlkG+3W0gz0+s3bo3i8aVIsFJ1kzs6ZykjUzayInWTOzJlJEtDuGmklaCTxc52yjgFVNCKfRHGfjDIUYwXE20mCJcbuI6PEwwiGVZPtDUldETG53HH1xnI0zFGIEx9lIgzlGNxeYmTWRk6yZWRNtCEl2VrsDqJHjbJyhECM4zkYatDF2fJusmVk7bQg1WTOztnGSNTNroo5JspKmSrpP0lJJp5SM31jSZXn8rZImtD7KmuL8lKR7Jd0t6ZeSthtsMRamO0RSSGrLpTO1xCnpsLw+F0ua0+oYcwx9fefjJd0g6Y78ve/XhhgvkLRC0j1VxkvS2fkz3C1p90EY45E5tkWSbpb0d62OsVREDPk/YBhwP7ADsBFwFzCxYpp/Ac7Nr48ALhukcb4H2DS//nir46wlxjzdSOBG4BZg8iBdlzsBdwCvye9fO0jjnAV8PL+eCDzUhjj3BnYH7qkyfj/gGkDAO4BbB2GMexW+62ntiLHsr1NqsnsASyPigYj4G3ApcHDFNAcD38uvrwTeJ0ktjBFqiDMiboiIZ/PbW4BtB1uM2ZeA/wCeb2VwBbXE+VHgnIh4EiAiVrQ4RqgtzgBenV9vDjzawvhSABE3Ak/0MsnBwPcjuQXYQtLrWhNd0leMEXFz93dNe/adUp2SZMcCjxTeL8vDSqeJiLXAU8BWLYmuJIasLM6imaTaQyv1GWM+VBwXEfNaGViFWtblG4A3SPqNpFskTW1ZdOvUEucZwFGSlgHzgRNaE1pd6t12260d+04pPxlhkJJ0FDAZeHe7YymS9ArgLOCYNodSi+GkJoMppFrNjZImRcSatka1vunA7Ij4uqQ9gYsk7RIRL7U7sKFI0ntISfZd7Y4FOqcmuxwYV3i/bR5WOo2k4aTDstUtia4khqwsTiTtA5wKHBQRf21RbN36inEksAuwQNJDpPa5uW04+VXLulwGzI2IFyLiQeD3pKTbSrXEORO4HCAifguMIHV4MpjUtO22m6S3AOcBB0dEq/fvcu1uFG5Qg/hw4AFge9adXHhzxTT/m54nvi4fpHHuRjpRstNgXZcV0y+gPSe+almXU4Hv5dejSIe7Ww3COK8Bjsmv30Rqk1Ub1ukEqp9U2p+eJ75ua3V8NcQ4HlgK7NWO2KrG3O4AGrjy9yPVVO4HTs3DvkiqDUKqHVyRv4TbgB0GaZzXAY8Dd+a/uYMtxopp25Jka1yXIjVt3AssAo4YpHFOBH6TE/CdwPvbEOMlwJ+AF0hHADOB44DjCuvynPwZFrXph7WvGM8DnizsO13t+L4r/3xbrZlZE3VKm6yZ2aDkJGtm1kROsmZmTeQka2bWRE6yZrbB66vzmSrz1NRBkpOs9SDpRUl3SrpH0hWSNpU0WdLZ/SxvtqRDGxBXo8oZI+nKOudZ0L0jSZovaYuBxlHHsqdI+mmVcS2NpcPNJl1XXRNJI4FPArf2Na2TrFV6LiJ2jYhdgL+RrkHsiohPtDuwRoiIRyOi38k6IvaLJt6Wm+9GHBSxbEiipPMZSa+X9DNJt0u6SdIbC6Nr7iDJSdZ6cxOwY7E2Jekbkj6fX+8r6UZJr5D0Vkm/yhvktb310CTpjZJuK7yfIGlRfv15SQtzTXpWWU9pkh6SNCq/nixpQX79qnzYd1vum3W93sPysu7Jr4+RdFXekf4g6at9rZDuZedylkj6bu6r9ueSNsnTlO6ckg5U6sv4DknXSdo6Dz9D0kWSfgNcVLLYV0uap9Qn7bm5/4haY/mE1vVPfGlfn896mAWcEBFvBU4Cvg31d5DkJGulco1qGununqLPAofnTjjOBmaQ+kz9JnBo3iAvAL5SreyI+B2wkaTt86DDgcvy629FxNtyTXoT4IA6wj4VuD4i9iD1y/s1Sa/qY55d8/In5c81ro/pi3YidaX4ZmANcEgeXrpzAr8G3hERu5G6PDy5UNZEYJ+ImF6ynD1IPXNNBF4PfLCOWE4BdouIt5DujrIaSNqM1D/tFZLuBL4DvK7QQdKJtZblXris0iZ5o4JUkz2ftLEBEBHPSvooqcPuf4uI+yXtQuo05he54jmMdPtjby4nJbcz8//D8/D3SDoZ2BTYElgMXF1j7O8HDpJ0Un4/gnQ/+5Je5vllRDwFIOleYDt6dunXmwcjontd3Q5MqNg5u6fbOP/fFrgs1/I3Ah4slDU3Ip6rspzbIuKBHOMlpN6lKtuV14slv74b+IGkHwM/rvFzWaqAromIXYsDJW3Oug6SALYhdZB0UER0lRXkJGuVnivZsCqnmUTqwWxM9yTA4ojYs47lXEZKRFcBERF/kDSCVOubHBGPSDqDlCgrrWXdUVhxvIBDIuK+OuIo9nL2IvXtE5XzbkKVnTP7JnBWRMyVNIXUj2y3v/SynMp738vuhS+LBVLHLnsDBwKnKnX1uLaXZRkQEX+W9KCkD0XEFbnZ6i0RcReFHtJyU9VJ1RIsuLnA6qT0zLETSb2FTZP0duA+YLRSX6hIeqWkN/dWTkTcT0oGp7OuqaA7Ya7KNcJqJ6geAt6aXx9SGH4tcEJ3O66k3er4aA0REX8GHpT0oRyDtO5ZU5uzrnvAo+sodg9J2+dD1cNJzQ59ytOPi4gbgM/k5W9Wx3I3GPkI4bfAzpKWSZoJHAnMlHQX6Yiq7AkhfXJN1mqWk9f5pF/uR/OGOBt4Gykhnp0Pp4YD/5+0YfbmMuBrpG4AiYg1kr4L3AM8BiysMt8XgPMlfYnUC1i3L+Xl3p0TzIPU16bbKEcC/yXpNOCVpPbXu0g11yskPQlcT/7cNVgIfAvYEbgB+FGN8w0DLs7fiYCzfTVCuSpt4dDHZV0RMaWvst0Ll5lZE7m5wMysiZxkzcyayEnWzKyJ/ge/F5Mf5qWanQAAAABJRU5ErkJggg=='\n",
       "                 src2='data:image/png;base64,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'\n",
       "                 onClick='var temp = this.src;\n",
       "                          this.src = this.getAttribute(\"src2\");\n",
       "                          this.setAttribute(\"src2\", temp)'\n",
       "            />\n",
       "        </td>\n",
       "    </tr>\n",
       "</table>"
      ],
      "text/plain": [
       "<sunpy.map.sources.sdo.AIAMap object at 0x7fcfc5572050>\n",
       "SunPy Map\n",
       "---------\n",
       "Observatory:\t\t SDO\n",
       "Instrument:\t\t AIA 3\n",
       "Detector:\t\t AIA\n",
       "Measurement:\t\t 1600.0 Angstrom\n",
       "Wavelength:\t\t 1600.0 Angstrom\n",
       "Observation Date:\t 2021-11-01 23:09:02\n",
       "Exposure Time:\t\t 2.900727 s\n",
       "Dimension:\t\t [4096. 4096.] pix\n",
       "Coordinate System:\t helioprojective\n",
       "Scale:\t\t\t [0.609373 0.609373] arcsec / pix\n",
       "Reference Pixel:\t [2051.508789 2046.311523] pix\n",
       "Reference Coord:\t [0. 0.] arcsec                   \n",
       "array([[-1,  1, -1, ...,  0, -1,  1],\n",
       "       [ 1,  1,  0, ...,  0,  3,  1],\n",
       "       [ 0,  0,  1, ..., -1,  2, -1],\n",
       "       ...,\n",
       "       [ 0,  0,  0, ..., -2, -1, -1],\n",
       "       [-1,  1,  0, ..., -2,  1,  1],\n",
       "       [ 0,  2, -1, ...,  1,  0,  1]], dtype=int16)"
      ]
     },
     "execution_count": 7,
     "metadata": {},
     "output_type": "execute_result"
    }
   ],
   "source": [
    "data_folder = \"/content/drive/MyDrive/Colab Notebooks/20211101_flare_rib/load/\" # put your data folder\n",
    "listdir = os.listdir(data_folder) #show elements in the folder\n",
    "listdir = sorted(listdir)\n",
    "\n",
    "base = data_folder+listdir[10]\n",
    "basemap= sunpy.map.Map(base)\n",
    "\n",
    "updated_pointing = update_pointing(basemap)\n",
    "#observer_fixed = fix_observer_location(updated_pointing)\n",
    "\n",
    "registered = register(updated_pointing)\n",
    "basemap\n",
    "#ormalized = normalize_exposure(registered)\n",
    "#basemap = sunpy.map.Map(normalized)\n",
    "#base_time=basemap.date\n",
    "#basemap\n"
   ]
  },
  {
   "cell_type": "markdown",
   "metadata": {},
   "source": [
    "then code of calibrating and diff rotating"
   ]
  },
  {
   "cell_type": "code",
   "execution_count": null,
   "metadata": {
    "id": "aaA_uzoCCiit"
   },
   "outputs": [],
   "source": [
    "data_folder = \"/content/drive/MyDrive/Colab Notebooks/20211101_flare_rib/load/\"# put your data folder\n",
    "data_save = \"/content/drive/MyDrive/Colab Notebooks/20211101_flare_rib/fits_diff/\"\n",
    "listdir = os.listdir(data_folder) #show elements in the folder\n",
    "listdir = sorted(listdir)\n",
    "\n",
    "base = data_folder+listdir[0]\n",
    "basemap= sunpy.map.Map(base)\n",
    "base_time=basemap.date\n",
    "\n",
    "updated_pointing = update_pointing(basemap)\n",
    "observer_fixed = fix_observer_location(updated_pointing)\n",
    "registered = register(observer_fixed)\n",
    "normalized = normalize_exposure(registered)\n",
    "basemap = sunpy.map.Map(normalized)\n",
    "\n",
    "\n",
    "for i in range(0,len(listdir)):\n",
    "\n",
    "    try:\n",
    "        file_i=data_folder+listdir[i]\n",
    "\n",
    "        # Map\n",
    "        raw=sunpy.map.Map(file_i)\n",
    "\n",
    "        in_time = raw.date\n",
    "        print(listdir[i], 'i = ', i)\n",
    "\n",
    "        # Calibrate the map\n",
    "        updated_pointing = update_pointing(raw)\n",
    "        observer_fixed = fix_observer_location(updated_pointing)\n",
    "        registered = register(observer_fixed)\n",
    "        normalized = normalize_exposure(registered)\n",
    "        map = sunpy.map.Map(normalized)\n",
    "\n",
    "        # Normalization\n",
    "        #map = sunpy.map.Map(registered.data/registered.exposure_time.to(u.s).value,\n",
    "        #                            registered.meta)\n",
    "\n",
    "        diff_map = diff_rot(map, basemap)\n",
    "\n",
    "\n",
    "        # Resampling\n",
    "        new_dimensions = [2048, 2048] * u.pixel\n",
    "        smap = diff_map.resample(new_dimensions) #out_warp\n",
    "        smap.save(data_save+listdir[i][14:33]+'.fits')\n",
    "    except OSError:\n",
    "        pass\n"
   ]
  },
  {
   "cell_type": "markdown",
   "metadata": {},
   "source": [
    "## Just calibration - without diff rotation"
   ]
  },
  {
   "cell_type": "code",
   "execution_count": null,
   "metadata": {
    "id": "lsNUI-o-DKij"
   },
   "outputs": [],
   "source": [
    "data_folder = r\"/content/drive/MyDrive/Colab Notebooks/load_Oct2021/304_load/\"# put your data folder\n",
    "listdir = os.listdir(data_folder) #show elements in the folder\n",
    "listdir = sorted(listdir)\n",
    "\n",
    "base = data_folder+listdir[0]\n",
    "basemap= sunpy.map.Map(base)\n",
    "base_time=basemap.date\n",
    "\n",
    "for i in range(21,len(listdir)):\n",
    "\n",
    "    file_i=data_folder+listdir[i]\n",
    "\n",
    "    # Map\n",
    "    raw=sunpy.map.Map(file_i)\n",
    "\n",
    "    #in_time = raw.date\n",
    "    print(listdir[i], 'бубу', i)\n",
    "\n",
    "    # Calibrate the map\n",
    "    updated_pointing = update_pointing(raw)\n",
    "    observer_fixed = fix_observer_location(updated_pointing)\n",
    "    registered = register(observer_fixed)\n",
    "\n",
    "    # Normalization\n",
    "    map = sunpy.map.Map(registered.data/registered.exposure_time.to(u.s).value,\n",
    "                              registered.meta)\n",
    "\n",
    "    # Resampling\n",
    "    new_dimensions = [2048, 2048] * u.pixel\n",
    "    res_map = map.resample(new_dimensions)\n",
    "    # Saving to the folder\n",
    "    res_map.save(data_folder+'fits_calibrated/'+listdir[i])"
   ]
  },
  {
   "cell_type": "markdown",
   "metadata": {},
   "source": [
    "## Just diff rotation"
   ]
  },
  {
   "cell_type": "code",
   "execution_count": null,
   "metadata": {
    "colab": {
     "base_uri": "https://localhost:8080/",
     "height": 1000
    },
    "id": "Uhxa5b8LAdj1",
    "outputId": "d71df508-d0e5-49ef-d87f-1d7a5c992bc6"
   },
   "outputs": [
    {
     "name": "stdout",
     "output_type": "stream",
     "text": [
      "AIA20211101_230614_1600.fits i =  1\n"
     ]
    },
    {
     "name": "stderr",
     "output_type": "stream",
     "text": [
      "WARNING: VerifyWarning: Verification reported errors: [astropy.io.fits.verify]\n",
      "WARNING: VerifyWarning: HDU 0: [astropy.io.fits.verify]\n",
      "WARNING: VerifyWarning:     'NAXIS1' card at the wrong place (card 29).  Fixed by moving it to the right place (card 3). [astropy.io.fits.verify]\n",
      "WARNING: VerifyWarning:     'NAXIS2' card at the wrong place (card 30).  Fixed by moving it to the right place (card 4). [astropy.io.fits.verify]\n",
      "WARNING: VerifyWarning: Note: astropy.io.fits uses zero-based indexing.\n",
      " [astropy.io.fits.verify]\n"
     ]
    },
    {
     "name": "stdout",
     "output_type": "stream",
     "text": [
      "AIA20211101_230638_1600.fits i =  2\n"
     ]
    },
    {
     "name": "stderr",
     "output_type": "stream",
     "text": [
      "WARNING: VerifyWarning: Verification reported errors: [astropy.io.fits.verify]\n",
      "WARNING: VerifyWarning: HDU 0: [astropy.io.fits.verify]\n",
      "WARNING: VerifyWarning:     'NAXIS1' card at the wrong place (card 29).  Fixed by moving it to the right place (card 3). [astropy.io.fits.verify]\n",
      "WARNING: VerifyWarning:     'NAXIS2' card at the wrong place (card 30).  Fixed by moving it to the right place (card 4). [astropy.io.fits.verify]\n",
      "WARNING: VerifyWarning: Note: astropy.io.fits uses zero-based indexing.\n",
      " [astropy.io.fits.verify]\n"
     ]
    },
    {
     "name": "stdout",
     "output_type": "stream",
     "text": [
      "AIA20211101_230702_1600.fits i =  3\n"
     ]
    },
    {
     "name": "stderr",
     "output_type": "stream",
     "text": [
      "WARNING: VerifyWarning: Verification reported errors: [astropy.io.fits.verify]\n",
      "WARNING: VerifyWarning: HDU 0: [astropy.io.fits.verify]\n",
      "WARNING: VerifyWarning:     'NAXIS1' card at the wrong place (card 29).  Fixed by moving it to the right place (card 3). [astropy.io.fits.verify]\n",
      "WARNING: VerifyWarning:     'NAXIS2' card at the wrong place (card 30).  Fixed by moving it to the right place (card 4). [astropy.io.fits.verify]\n",
      "WARNING: VerifyWarning: Note: astropy.io.fits uses zero-based indexing.\n",
      " [astropy.io.fits.verify]\n"
     ]
    },
    {
     "name": "stdout",
     "output_type": "stream",
     "text": [
      "AIA20211101_230726_1600.fits i =  4\n"
     ]
    },
    {
     "name": "stderr",
     "output_type": "stream",
     "text": [
      "WARNING: VerifyWarning: Verification reported errors: [astropy.io.fits.verify]\n",
      "WARNING: VerifyWarning: HDU 0: [astropy.io.fits.verify]\n",
      "WARNING: VerifyWarning:     'NAXIS1' card at the wrong place (card 29).  Fixed by moving it to the right place (card 3). [astropy.io.fits.verify]\n",
      "WARNING: VerifyWarning:     'NAXIS2' card at the wrong place (card 30).  Fixed by moving it to the right place (card 4). [astropy.io.fits.verify]\n",
      "WARNING: VerifyWarning: Note: astropy.io.fits uses zero-based indexing.\n",
      " [astropy.io.fits.verify]\n"
     ]
    },
    {
     "name": "stdout",
     "output_type": "stream",
     "text": [
      "AIA20211101_230750_1600.fits i =  5\n"
     ]
    },
    {
     "name": "stderr",
     "output_type": "stream",
     "text": [
      "WARNING: VerifyWarning: Verification reported errors: [astropy.io.fits.verify]\n",
      "WARNING: VerifyWarning: HDU 0: [astropy.io.fits.verify]\n",
      "WARNING: VerifyWarning:     'NAXIS1' card at the wrong place (card 29).  Fixed by moving it to the right place (card 3). [astropy.io.fits.verify]\n",
      "WARNING: VerifyWarning:     'NAXIS2' card at the wrong place (card 30).  Fixed by moving it to the right place (card 4). [astropy.io.fits.verify]\n",
      "WARNING: VerifyWarning: Note: astropy.io.fits uses zero-based indexing.\n",
      " [astropy.io.fits.verify]\n"
     ]
    },
    {
     "name": "stdout",
     "output_type": "stream",
     "text": [
      "AIA20211101_230814_1600.fits i =  6\n"
     ]
    },
    {
     "name": "stderr",
     "output_type": "stream",
     "text": [
      "WARNING: VerifyWarning: Verification reported errors: [astropy.io.fits.verify]\n",
      "WARNING: VerifyWarning: HDU 0: [astropy.io.fits.verify]\n",
      "WARNING: VerifyWarning:     'NAXIS1' card at the wrong place (card 29).  Fixed by moving it to the right place (card 3). [astropy.io.fits.verify]\n",
      "WARNING: VerifyWarning:     'NAXIS2' card at the wrong place (card 30).  Fixed by moving it to the right place (card 4). [astropy.io.fits.verify]\n",
      "WARNING: VerifyWarning: Note: astropy.io.fits uses zero-based indexing.\n",
      " [astropy.io.fits.verify]\n"
     ]
    },
    {
     "name": "stdout",
     "output_type": "stream",
     "text": [
      "AIA20211101_230950_1600.fits i =  7\n"
     ]
    },
    {
     "name": "stderr",
     "output_type": "stream",
     "text": [
      "WARNING: VerifyWarning: Verification reported errors: [astropy.io.fits.verify]\n",
      "WARNING: VerifyWarning: HDU 0: [astropy.io.fits.verify]\n",
      "WARNING: VerifyWarning:     'NAXIS1' card at the wrong place (card 29).  Fixed by moving it to the right place (card 3). [astropy.io.fits.verify]\n",
      "WARNING: VerifyWarning:     'NAXIS2' card at the wrong place (card 30).  Fixed by moving it to the right place (card 4). [astropy.io.fits.verify]\n",
      "WARNING: VerifyWarning: Note: astropy.io.fits uses zero-based indexing.\n",
      " [astropy.io.fits.verify]\n"
     ]
    },
    {
     "name": "stdout",
     "output_type": "stream",
     "text": [
      "AIA20211101_231014_1600.fits i =  8\n"
     ]
    },
    {
     "name": "stderr",
     "output_type": "stream",
     "text": [
      "WARNING: VerifyWarning: Verification reported errors: [astropy.io.fits.verify]\n",
      "WARNING: VerifyWarning: HDU 0: [astropy.io.fits.verify]\n",
      "WARNING: VerifyWarning:     'NAXIS1' card at the wrong place (card 29).  Fixed by moving it to the right place (card 3). [astropy.io.fits.verify]\n",
      "WARNING: VerifyWarning:     'NAXIS2' card at the wrong place (card 30).  Fixed by moving it to the right place (card 4). [astropy.io.fits.verify]\n",
      "WARNING: VerifyWarning: Note: astropy.io.fits uses zero-based indexing.\n",
      " [astropy.io.fits.verify]\n"
     ]
    },
    {
     "name": "stdout",
     "output_type": "stream",
     "text": [
      "AIA20211101_231038_1600.fits i =  9\n"
     ]
    },
    {
     "name": "stderr",
     "output_type": "stream",
     "text": [
      "WARNING: VerifyWarning: Verification reported errors: [astropy.io.fits.verify]\n",
      "WARNING: VerifyWarning: HDU 0: [astropy.io.fits.verify]\n",
      "WARNING: VerifyWarning:     'NAXIS1' card at the wrong place (card 29).  Fixed by moving it to the right place (card 3). [astropy.io.fits.verify]\n",
      "WARNING: VerifyWarning:     'NAXIS2' card at the wrong place (card 30).  Fixed by moving it to the right place (card 4). [astropy.io.fits.verify]\n",
      "WARNING: VerifyWarning: Note: astropy.io.fits uses zero-based indexing.\n",
      " [astropy.io.fits.verify]\n"
     ]
    },
    {
     "name": "stdout",
     "output_type": "stream",
     "text": [
      "AIA20211101_231102_1600.fits i =  10\n"
     ]
    },
    {
     "name": "stderr",
     "output_type": "stream",
     "text": [
      "WARNING: VerifyWarning: Verification reported errors: [astropy.io.fits.verify]\n",
      "WARNING: VerifyWarning: HDU 0: [astropy.io.fits.verify]\n",
      "WARNING: VerifyWarning:     'NAXIS1' card at the wrong place (card 29).  Fixed by moving it to the right place (card 3). [astropy.io.fits.verify]\n",
      "WARNING: VerifyWarning:     'NAXIS2' card at the wrong place (card 30).  Fixed by moving it to the right place (card 4). [astropy.io.fits.verify]\n",
      "WARNING: VerifyWarning: Note: astropy.io.fits uses zero-based indexing.\n",
      " [astropy.io.fits.verify]\n"
     ]
    },
    {
     "name": "stdout",
     "output_type": "stream",
     "text": [
      "AIA20211101_231126_1600.fits i =  11\n"
     ]
    },
    {
     "name": "stderr",
     "output_type": "stream",
     "text": [
      "WARNING: VerifyWarning: Verification reported errors: [astropy.io.fits.verify]\n",
      "WARNING: VerifyWarning: HDU 0: [astropy.io.fits.verify]\n",
      "WARNING: VerifyWarning:     'NAXIS1' card at the wrong place (card 29).  Fixed by moving it to the right place (card 3). [astropy.io.fits.verify]\n",
      "WARNING: VerifyWarning:     'NAXIS2' card at the wrong place (card 30).  Fixed by moving it to the right place (card 4). [astropy.io.fits.verify]\n",
      "WARNING: VerifyWarning: Note: astropy.io.fits uses zero-based indexing.\n",
      " [astropy.io.fits.verify]\n"
     ]
    },
    {
     "name": "stdout",
     "output_type": "stream",
     "text": [
      "AIA20211101_231150_1600.fits i =  12\n"
     ]
    },
    {
     "name": "stderr",
     "output_type": "stream",
     "text": [
      "WARNING: VerifyWarning: Verification reported errors: [astropy.io.fits.verify]\n",
      "WARNING: VerifyWarning: HDU 0: [astropy.io.fits.verify]\n",
      "WARNING: VerifyWarning:     'NAXIS1' card at the wrong place (card 29).  Fixed by moving it to the right place (card 3). [astropy.io.fits.verify]\n",
      "WARNING: VerifyWarning:     'NAXIS2' card at the wrong place (card 30).  Fixed by moving it to the right place (card 4). [astropy.io.fits.verify]\n",
      "WARNING: VerifyWarning: Note: astropy.io.fits uses zero-based indexing.\n",
      " [astropy.io.fits.verify]\n"
     ]
    },
    {
     "name": "stdout",
     "output_type": "stream",
     "text": [
      "AIA20211101_231214_1600.fits i =  13\n"
     ]
    },
    {
     "name": "stderr",
     "output_type": "stream",
     "text": [
      "WARNING: VerifyWarning: Verification reported errors: [astropy.io.fits.verify]\n",
      "WARNING: VerifyWarning: HDU 0: [astropy.io.fits.verify]\n",
      "WARNING: VerifyWarning:     'NAXIS1' card at the wrong place (card 29).  Fixed by moving it to the right place (card 3). [astropy.io.fits.verify]\n",
      "WARNING: VerifyWarning:     'NAXIS2' card at the wrong place (card 30).  Fixed by moving it to the right place (card 4). [astropy.io.fits.verify]\n",
      "WARNING: VerifyWarning: Note: astropy.io.fits uses zero-based indexing.\n",
      " [astropy.io.fits.verify]\n"
     ]
    },
    {
     "name": "stdout",
     "output_type": "stream",
     "text": [
      "AIA20211101_231238_1600.fits i =  14\n"
     ]
    },
    {
     "name": "stderr",
     "output_type": "stream",
     "text": [
      "WARNING: VerifyWarning: Verification reported errors: [astropy.io.fits.verify]\n",
      "WARNING: VerifyWarning: HDU 0: [astropy.io.fits.verify]\n",
      "WARNING: VerifyWarning:     'NAXIS1' card at the wrong place (card 29).  Fixed by moving it to the right place (card 3). [astropy.io.fits.verify]\n",
      "WARNING: VerifyWarning:     'NAXIS2' card at the wrong place (card 30).  Fixed by moving it to the right place (card 4). [astropy.io.fits.verify]\n",
      "WARNING: VerifyWarning: Note: astropy.io.fits uses zero-based indexing.\n",
      " [astropy.io.fits.verify]\n"
     ]
    },
    {
     "name": "stdout",
     "output_type": "stream",
     "text": [
      "AIA20211101_231302_1600.fits i =  15\n"
     ]
    },
    {
     "name": "stderr",
     "output_type": "stream",
     "text": [
      "WARNING: VerifyWarning: Verification reported errors: [astropy.io.fits.verify]\n",
      "WARNING: VerifyWarning: HDU 0: [astropy.io.fits.verify]\n",
      "WARNING: VerifyWarning:     'NAXIS1' card at the wrong place (card 29).  Fixed by moving it to the right place (card 3). [astropy.io.fits.verify]\n",
      "WARNING: VerifyWarning:     'NAXIS2' card at the wrong place (card 30).  Fixed by moving it to the right place (card 4). [astropy.io.fits.verify]\n",
      "WARNING: VerifyWarning: Note: astropy.io.fits uses zero-based indexing.\n",
      " [astropy.io.fits.verify]\n"
     ]
    },
    {
     "name": "stdout",
     "output_type": "stream",
     "text": [
      "AIA20211101_231326_1600.fits i =  16\n"
     ]
    },
    {
     "name": "stderr",
     "output_type": "stream",
     "text": [
      "WARNING: VerifyWarning: Verification reported errors: [astropy.io.fits.verify]\n",
      "WARNING: VerifyWarning: HDU 0: [astropy.io.fits.verify]\n",
      "WARNING: VerifyWarning:     'NAXIS1' card at the wrong place (card 29).  Fixed by moving it to the right place (card 3). [astropy.io.fits.verify]\n",
      "WARNING: VerifyWarning:     'NAXIS2' card at the wrong place (card 30).  Fixed by moving it to the right place (card 4). [astropy.io.fits.verify]\n",
      "WARNING: VerifyWarning: Note: astropy.io.fits uses zero-based indexing.\n",
      " [astropy.io.fits.verify]\n"
     ]
    },
    {
     "name": "stdout",
     "output_type": "stream",
     "text": [
      "AIA20211101_231350_1600.fits i =  17\n"
     ]
    },
    {
     "name": "stderr",
     "output_type": "stream",
     "text": [
      "WARNING: VerifyWarning: Verification reported errors: [astropy.io.fits.verify]\n",
      "WARNING: VerifyWarning: HDU 0: [astropy.io.fits.verify]\n",
      "WARNING: VerifyWarning:     'NAXIS1' card at the wrong place (card 29).  Fixed by moving it to the right place (card 3). [astropy.io.fits.verify]\n",
      "WARNING: VerifyWarning:     'NAXIS2' card at the wrong place (card 30).  Fixed by moving it to the right place (card 4). [astropy.io.fits.verify]\n",
      "WARNING: VerifyWarning: Note: astropy.io.fits uses zero-based indexing.\n",
      " [astropy.io.fits.verify]\n"
     ]
    },
    {
     "name": "stdout",
     "output_type": "stream",
     "text": [
      "AIA20211101_231414_1600.fits i =  18\n"
     ]
    },
    {
     "name": "stderr",
     "output_type": "stream",
     "text": [
      "WARNING: VerifyWarning: Verification reported errors: [astropy.io.fits.verify]\n",
      "WARNING: VerifyWarning: HDU 0: [astropy.io.fits.verify]\n",
      "WARNING: VerifyWarning:     'NAXIS1' card at the wrong place (card 29).  Fixed by moving it to the right place (card 3). [astropy.io.fits.verify]\n",
      "WARNING: VerifyWarning:     'NAXIS2' card at the wrong place (card 30).  Fixed by moving it to the right place (card 4). [astropy.io.fits.verify]\n",
      "WARNING: VerifyWarning: Note: astropy.io.fits uses zero-based indexing.\n",
      " [astropy.io.fits.verify]\n"
     ]
    },
    {
     "name": "stdout",
     "output_type": "stream",
     "text": [
      "AIA20211101_231502_1600.fits i =  19\n"
     ]
    },
    {
     "name": "stderr",
     "output_type": "stream",
     "text": [
      "WARNING: VerifyWarning: Verification reported errors: [astropy.io.fits.verify]\n",
      "WARNING: VerifyWarning: HDU 0: [astropy.io.fits.verify]\n",
      "WARNING: VerifyWarning:     'NAXIS1' card at the wrong place (card 29).  Fixed by moving it to the right place (card 3). [astropy.io.fits.verify]\n",
      "WARNING: VerifyWarning:     'NAXIS2' card at the wrong place (card 30).  Fixed by moving it to the right place (card 4). [astropy.io.fits.verify]\n",
      "WARNING: VerifyWarning: Note: astropy.io.fits uses zero-based indexing.\n",
      " [astropy.io.fits.verify]\n"
     ]
    },
    {
     "name": "stdout",
     "output_type": "stream",
     "text": [
      "AIA20211101_231526_1600.fits i =  20\n"
     ]
    },
    {
     "name": "stderr",
     "output_type": "stream",
     "text": [
      "WARNING: VerifyWarning: Verification reported errors: [astropy.io.fits.verify]\n",
      "WARNING: VerifyWarning: HDU 0: [astropy.io.fits.verify]\n",
      "WARNING: VerifyWarning:     'NAXIS1' card at the wrong place (card 29).  Fixed by moving it to the right place (card 3). [astropy.io.fits.verify]\n",
      "WARNING: VerifyWarning:     'NAXIS2' card at the wrong place (card 30).  Fixed by moving it to the right place (card 4). [astropy.io.fits.verify]\n",
      "WARNING: VerifyWarning: Note: astropy.io.fits uses zero-based indexing.\n",
      " [astropy.io.fits.verify]\n"
     ]
    },
    {
     "name": "stdout",
     "output_type": "stream",
     "text": [
      "AIA20211101_231550_1600.fits i =  21\n"
     ]
    },
    {
     "name": "stderr",
     "output_type": "stream",
     "text": [
      "WARNING: VerifyWarning: Verification reported errors: [astropy.io.fits.verify]\n",
      "WARNING: VerifyWarning: HDU 0: [astropy.io.fits.verify]\n",
      "WARNING: VerifyWarning:     'NAXIS1' card at the wrong place (card 29).  Fixed by moving it to the right place (card 3). [astropy.io.fits.verify]\n",
      "WARNING: VerifyWarning:     'NAXIS2' card at the wrong place (card 30).  Fixed by moving it to the right place (card 4). [astropy.io.fits.verify]\n",
      "WARNING: VerifyWarning: Note: astropy.io.fits uses zero-based indexing.\n",
      " [astropy.io.fits.verify]\n"
     ]
    },
    {
     "name": "stdout",
     "output_type": "stream",
     "text": [
      "AIA20211101_231614_1600.fits i =  22\n"
     ]
    },
    {
     "name": "stderr",
     "output_type": "stream",
     "text": [
      "WARNING: VerifyWarning: Verification reported errors: [astropy.io.fits.verify]\n",
      "WARNING: VerifyWarning: HDU 0: [astropy.io.fits.verify]\n",
      "WARNING: VerifyWarning:     'NAXIS1' card at the wrong place (card 29).  Fixed by moving it to the right place (card 3). [astropy.io.fits.verify]\n",
      "WARNING: VerifyWarning:     'NAXIS2' card at the wrong place (card 30).  Fixed by moving it to the right place (card 4). [astropy.io.fits.verify]\n",
      "WARNING: VerifyWarning: Note: astropy.io.fits uses zero-based indexing.\n",
      " [astropy.io.fits.verify]\n"
     ]
    },
    {
     "name": "stdout",
     "output_type": "stream",
     "text": [
      "AIA20211101_231702_1600.fits i =  23\n"
     ]
    },
    {
     "name": "stderr",
     "output_type": "stream",
     "text": [
      "WARNING: VerifyWarning: Verification reported errors: [astropy.io.fits.verify]\n",
      "WARNING: VerifyWarning: HDU 0: [astropy.io.fits.verify]\n",
      "WARNING: VerifyWarning:     'NAXIS1' card at the wrong place (card 29).  Fixed by moving it to the right place (card 3). [astropy.io.fits.verify]\n",
      "WARNING: VerifyWarning:     'NAXIS2' card at the wrong place (card 30).  Fixed by moving it to the right place (card 4). [astropy.io.fits.verify]\n",
      "WARNING: VerifyWarning: Note: astropy.io.fits uses zero-based indexing.\n",
      " [astropy.io.fits.verify]\n"
     ]
    },
    {
     "name": "stdout",
     "output_type": "stream",
     "text": [
      "AIA20211101_231726_1600.fits i =  24\n"
     ]
    },
    {
     "name": "stderr",
     "output_type": "stream",
     "text": [
      "WARNING: VerifyWarning: Verification reported errors: [astropy.io.fits.verify]\n",
      "WARNING: VerifyWarning: HDU 0: [astropy.io.fits.verify]\n",
      "WARNING: VerifyWarning:     'NAXIS1' card at the wrong place (card 29).  Fixed by moving it to the right place (card 3). [astropy.io.fits.verify]\n",
      "WARNING: VerifyWarning:     'NAXIS2' card at the wrong place (card 30).  Fixed by moving it to the right place (card 4). [astropy.io.fits.verify]\n",
      "WARNING: VerifyWarning: Note: astropy.io.fits uses zero-based indexing.\n",
      " [astropy.io.fits.verify]\n"
     ]
    },
    {
     "name": "stdout",
     "output_type": "stream",
     "text": [
      "AIA20211101_231750_1600.fits i =  25\n"
     ]
    },
    {
     "name": "stderr",
     "output_type": "stream",
     "text": [
      "WARNING: VerifyWarning: Verification reported errors: [astropy.io.fits.verify]\n",
      "WARNING: VerifyWarning: HDU 0: [astropy.io.fits.verify]\n",
      "WARNING: VerifyWarning:     'NAXIS1' card at the wrong place (card 29).  Fixed by moving it to the right place (card 3). [astropy.io.fits.verify]\n",
      "WARNING: VerifyWarning:     'NAXIS2' card at the wrong place (card 30).  Fixed by moving it to the right place (card 4). [astropy.io.fits.verify]\n",
      "WARNING: VerifyWarning: Note: astropy.io.fits uses zero-based indexing.\n",
      " [astropy.io.fits.verify]\n"
     ]
    },
    {
     "name": "stdout",
     "output_type": "stream",
     "text": [
      "AIA20211101_231814_1600.fits i =  26\n"
     ]
    },
    {
     "name": "stderr",
     "output_type": "stream",
     "text": [
      "WARNING: VerifyWarning: Verification reported errors: [astropy.io.fits.verify]\n",
      "WARNING: VerifyWarning: HDU 0: [astropy.io.fits.verify]\n",
      "WARNING: VerifyWarning:     'NAXIS1' card at the wrong place (card 29).  Fixed by moving it to the right place (card 3). [astropy.io.fits.verify]\n",
      "WARNING: VerifyWarning:     'NAXIS2' card at the wrong place (card 30).  Fixed by moving it to the right place (card 4). [astropy.io.fits.verify]\n",
      "WARNING: VerifyWarning: Note: astropy.io.fits uses zero-based indexing.\n",
      " [astropy.io.fits.verify]\n"
     ]
    },
    {
     "name": "stdout",
     "output_type": "stream",
     "text": [
      "AIA20211101_231902_1600.fits i =  27\n"
     ]
    },
    {
     "name": "stderr",
     "output_type": "stream",
     "text": [
      "WARNING: VerifyWarning: Verification reported errors: [astropy.io.fits.verify]\n",
      "WARNING: VerifyWarning: HDU 0: [astropy.io.fits.verify]\n",
      "WARNING: VerifyWarning:     'NAXIS1' card at the wrong place (card 29).  Fixed by moving it to the right place (card 3). [astropy.io.fits.verify]\n",
      "WARNING: VerifyWarning:     'NAXIS2' card at the wrong place (card 30).  Fixed by moving it to the right place (card 4). [astropy.io.fits.verify]\n",
      "WARNING: VerifyWarning: Note: astropy.io.fits uses zero-based indexing.\n",
      " [astropy.io.fits.verify]\n"
     ]
    },
    {
     "name": "stdout",
     "output_type": "stream",
     "text": [
      "AIA20211101_231950_1600.fits i =  28\n"
     ]
    },
    {
     "name": "stderr",
     "output_type": "stream",
     "text": [
      "WARNING: VerifyWarning: Verification reported errors: [astropy.io.fits.verify]\n",
      "WARNING: VerifyWarning: HDU 0: [astropy.io.fits.verify]\n",
      "WARNING: VerifyWarning:     'NAXIS1' card at the wrong place (card 29).  Fixed by moving it to the right place (card 3). [astropy.io.fits.verify]\n",
      "WARNING: VerifyWarning:     'NAXIS2' card at the wrong place (card 30).  Fixed by moving it to the right place (card 4). [astropy.io.fits.verify]\n",
      "WARNING: VerifyWarning: Note: astropy.io.fits uses zero-based indexing.\n",
      " [astropy.io.fits.verify]\n"
     ]
    },
    {
     "name": "stdout",
     "output_type": "stream",
     "text": [
      "AIA20211101_232014_1600.fits i =  29\n"
     ]
    },
    {
     "name": "stderr",
     "output_type": "stream",
     "text": [
      "WARNING: VerifyWarning: Verification reported errors: [astropy.io.fits.verify]\n",
      "WARNING: VerifyWarning: HDU 0: [astropy.io.fits.verify]\n",
      "WARNING: VerifyWarning:     'NAXIS1' card at the wrong place (card 29).  Fixed by moving it to the right place (card 3). [astropy.io.fits.verify]\n",
      "WARNING: VerifyWarning:     'NAXIS2' card at the wrong place (card 30).  Fixed by moving it to the right place (card 4). [astropy.io.fits.verify]\n",
      "WARNING: VerifyWarning: Note: astropy.io.fits uses zero-based indexing.\n",
      " [astropy.io.fits.verify]\n"
     ]
    },
    {
     "name": "stdout",
     "output_type": "stream",
     "text": [
      "AIA20211101_232126_1600.fits i =  30\n"
     ]
    },
    {
     "name": "stderr",
     "output_type": "stream",
     "text": [
      "WARNING: VerifyWarning: Verification reported errors: [astropy.io.fits.verify]\n",
      "WARNING: VerifyWarning: HDU 0: [astropy.io.fits.verify]\n",
      "WARNING: VerifyWarning:     'NAXIS1' card at the wrong place (card 29).  Fixed by moving it to the right place (card 3). [astropy.io.fits.verify]\n",
      "WARNING: VerifyWarning:     'NAXIS2' card at the wrong place (card 30).  Fixed by moving it to the right place (card 4). [astropy.io.fits.verify]\n",
      "WARNING: VerifyWarning: Note: astropy.io.fits uses zero-based indexing.\n",
      " [astropy.io.fits.verify]\n"
     ]
    },
    {
     "name": "stdout",
     "output_type": "stream",
     "text": [
      "AIA20211101_232150_1600.fits i =  31\n"
     ]
    },
    {
     "name": "stderr",
     "output_type": "stream",
     "text": [
      "WARNING: VerifyWarning: Verification reported errors: [astropy.io.fits.verify]\n",
      "WARNING: VerifyWarning: HDU 0: [astropy.io.fits.verify]\n",
      "WARNING: VerifyWarning:     'NAXIS1' card at the wrong place (card 29).  Fixed by moving it to the right place (card 3). [astropy.io.fits.verify]\n",
      "WARNING: VerifyWarning:     'NAXIS2' card at the wrong place (card 30).  Fixed by moving it to the right place (card 4). [astropy.io.fits.verify]\n",
      "WARNING: VerifyWarning: Note: astropy.io.fits uses zero-based indexing.\n",
      " [astropy.io.fits.verify]\n"
     ]
    },
    {
     "name": "stdout",
     "output_type": "stream",
     "text": [
      "AIA20211101_232214_1600.fits i =  32\n"
     ]
    },
    {
     "name": "stderr",
     "output_type": "stream",
     "text": [
      "WARNING: VerifyWarning: Verification reported errors: [astropy.io.fits.verify]\n",
      "WARNING: VerifyWarning: HDU 0: [astropy.io.fits.verify]\n",
      "WARNING: VerifyWarning:     'NAXIS1' card at the wrong place (card 29).  Fixed by moving it to the right place (card 3). [astropy.io.fits.verify]\n",
      "WARNING: VerifyWarning:     'NAXIS2' card at the wrong place (card 30).  Fixed by moving it to the right place (card 4). [astropy.io.fits.verify]\n",
      "WARNING: VerifyWarning: Note: astropy.io.fits uses zero-based indexing.\n",
      " [astropy.io.fits.verify]\n"
     ]
    },
    {
     "name": "stdout",
     "output_type": "stream",
     "text": [
      "AIA20211101_232302_1600.fits i =  33\n"
     ]
    },
    {
     "name": "stderr",
     "output_type": "stream",
     "text": [
      "WARNING: VerifyWarning: Verification reported errors: [astropy.io.fits.verify]\n",
      "WARNING: VerifyWarning: HDU 0: [astropy.io.fits.verify]\n",
      "WARNING: VerifyWarning:     'NAXIS1' card at the wrong place (card 29).  Fixed by moving it to the right place (card 3). [astropy.io.fits.verify]\n",
      "WARNING: VerifyWarning:     'NAXIS2' card at the wrong place (card 30).  Fixed by moving it to the right place (card 4). [astropy.io.fits.verify]\n",
      "WARNING: VerifyWarning: Note: astropy.io.fits uses zero-based indexing.\n",
      " [astropy.io.fits.verify]\n"
     ]
    },
    {
     "name": "stdout",
     "output_type": "stream",
     "text": [
      "AIA20211101_232326_1600.fits i =  34\n"
     ]
    },
    {
     "name": "stderr",
     "output_type": "stream",
     "text": [
      "WARNING: VerifyWarning: Verification reported errors: [astropy.io.fits.verify]\n",
      "WARNING: VerifyWarning: HDU 0: [astropy.io.fits.verify]\n",
      "WARNING: VerifyWarning:     'NAXIS1' card at the wrong place (card 29).  Fixed by moving it to the right place (card 3). [astropy.io.fits.verify]\n",
      "WARNING: VerifyWarning:     'NAXIS2' card at the wrong place (card 30).  Fixed by moving it to the right place (card 4). [astropy.io.fits.verify]\n",
      "WARNING: VerifyWarning: Note: astropy.io.fits uses zero-based indexing.\n",
      " [astropy.io.fits.verify]\n"
     ]
    },
    {
     "name": "stdout",
     "output_type": "stream",
     "text": [
      "AIA20211101_232414_1600.fits i =  35\n"
     ]
    },
    {
     "name": "stderr",
     "output_type": "stream",
     "text": [
      "WARNING: VerifyWarning: Verification reported errors: [astropy.io.fits.verify]\n",
      "WARNING: VerifyWarning: HDU 0: [astropy.io.fits.verify]\n",
      "WARNING: VerifyWarning:     'NAXIS1' card at the wrong place (card 29).  Fixed by moving it to the right place (card 3). [astropy.io.fits.verify]\n",
      "WARNING: VerifyWarning:     'NAXIS2' card at the wrong place (card 30).  Fixed by moving it to the right place (card 4). [astropy.io.fits.verify]\n",
      "WARNING: VerifyWarning: Note: astropy.io.fits uses zero-based indexing.\n",
      " [astropy.io.fits.verify]\n"
     ]
    },
    {
     "name": "stdout",
     "output_type": "stream",
     "text": [
      "AIA20211101_232502_1600.fits i =  36\n"
     ]
    },
    {
     "name": "stderr",
     "output_type": "stream",
     "text": [
      "WARNING: VerifyWarning: Verification reported errors: [astropy.io.fits.verify]\n",
      "WARNING: VerifyWarning: HDU 0: [astropy.io.fits.verify]\n",
      "WARNING: VerifyWarning:     'NAXIS1' card at the wrong place (card 29).  Fixed by moving it to the right place (card 3). [astropy.io.fits.verify]\n",
      "WARNING: VerifyWarning:     'NAXIS2' card at the wrong place (card 30).  Fixed by moving it to the right place (card 4). [astropy.io.fits.verify]\n",
      "WARNING: VerifyWarning: Note: astropy.io.fits uses zero-based indexing.\n",
      " [astropy.io.fits.verify]\n"
     ]
    },
    {
     "name": "stdout",
     "output_type": "stream",
     "text": [
      "AIA20211101_232526_1600.fits i =  37\n"
     ]
    },
    {
     "name": "stderr",
     "output_type": "stream",
     "text": [
      "WARNING: VerifyWarning: Verification reported errors: [astropy.io.fits.verify]\n",
      "WARNING: VerifyWarning: HDU 0: [astropy.io.fits.verify]\n",
      "WARNING: VerifyWarning:     'NAXIS1' card at the wrong place (card 29).  Fixed by moving it to the right place (card 3). [astropy.io.fits.verify]\n",
      "WARNING: VerifyWarning:     'NAXIS2' card at the wrong place (card 30).  Fixed by moving it to the right place (card 4). [astropy.io.fits.verify]\n",
      "WARNING: VerifyWarning: Note: astropy.io.fits uses zero-based indexing.\n",
      " [astropy.io.fits.verify]\n"
     ]
    },
    {
     "name": "stdout",
     "output_type": "stream",
     "text": [
      "AIA20211101_232550_1600.fits i =  38\n"
     ]
    },
    {
     "name": "stderr",
     "output_type": "stream",
     "text": [
      "WARNING: VerifyWarning: Verification reported errors: [astropy.io.fits.verify]\n",
      "WARNING: VerifyWarning: HDU 0: [astropy.io.fits.verify]\n",
      "WARNING: VerifyWarning:     'NAXIS1' card at the wrong place (card 29).  Fixed by moving it to the right place (card 3). [astropy.io.fits.verify]\n",
      "WARNING: VerifyWarning:     'NAXIS2' card at the wrong place (card 30).  Fixed by moving it to the right place (card 4). [astropy.io.fits.verify]\n",
      "WARNING: VerifyWarning: Note: astropy.io.fits uses zero-based indexing.\n",
      " [astropy.io.fits.verify]\n"
     ]
    },
    {
     "name": "stdout",
     "output_type": "stream",
     "text": [
      "AIA20211101_232614_1600.fits i =  39\n"
     ]
    },
    {
     "name": "stderr",
     "output_type": "stream",
     "text": [
      "WARNING: VerifyWarning: Verification reported errors: [astropy.io.fits.verify]\n",
      "WARNING: VerifyWarning: HDU 0: [astropy.io.fits.verify]\n",
      "WARNING: VerifyWarning:     'NAXIS1' card at the wrong place (card 29).  Fixed by moving it to the right place (card 3). [astropy.io.fits.verify]\n",
      "WARNING: VerifyWarning:     'NAXIS2' card at the wrong place (card 30).  Fixed by moving it to the right place (card 4). [astropy.io.fits.verify]\n",
      "WARNING: VerifyWarning: Note: astropy.io.fits uses zero-based indexing.\n",
      " [astropy.io.fits.verify]\n"
     ]
    },
    {
     "name": "stdout",
     "output_type": "stream",
     "text": [
      "AIA20211101_232638_1600.fits i =  40\n"
     ]
    },
    {
     "name": "stderr",
     "output_type": "stream",
     "text": [
      "WARNING: VerifyWarning: Verification reported errors: [astropy.io.fits.verify]\n",
      "WARNING: VerifyWarning: HDU 0: [astropy.io.fits.verify]\n",
      "WARNING: VerifyWarning:     'NAXIS1' card at the wrong place (card 29).  Fixed by moving it to the right place (card 3). [astropy.io.fits.verify]\n",
      "WARNING: VerifyWarning:     'NAXIS2' card at the wrong place (card 30).  Fixed by moving it to the right place (card 4). [astropy.io.fits.verify]\n",
      "WARNING: VerifyWarning: Note: astropy.io.fits uses zero-based indexing.\n",
      " [astropy.io.fits.verify]\n"
     ]
    },
    {
     "name": "stdout",
     "output_type": "stream",
     "text": [
      "AIA20211101_232702_1600.fits i =  41\n"
     ]
    },
    {
     "name": "stderr",
     "output_type": "stream",
     "text": [
      "WARNING: VerifyWarning: Verification reported errors: [astropy.io.fits.verify]\n",
      "WARNING: VerifyWarning: HDU 0: [astropy.io.fits.verify]\n",
      "WARNING: VerifyWarning:     'NAXIS1' card at the wrong place (card 29).  Fixed by moving it to the right place (card 3). [astropy.io.fits.verify]\n",
      "WARNING: VerifyWarning:     'NAXIS2' card at the wrong place (card 30).  Fixed by moving it to the right place (card 4). [astropy.io.fits.verify]\n",
      "WARNING: VerifyWarning: Note: astropy.io.fits uses zero-based indexing.\n",
      " [astropy.io.fits.verify]\n"
     ]
    },
    {
     "name": "stdout",
     "output_type": "stream",
     "text": [
      "AIA20211101_232726_1600.fits i =  42\n"
     ]
    },
    {
     "name": "stderr",
     "output_type": "stream",
     "text": [
      "WARNING: VerifyWarning: Verification reported errors: [astropy.io.fits.verify]\n",
      "WARNING: VerifyWarning: HDU 0: [astropy.io.fits.verify]\n",
      "WARNING: VerifyWarning:     'NAXIS1' card at the wrong place (card 29).  Fixed by moving it to the right place (card 3). [astropy.io.fits.verify]\n",
      "WARNING: VerifyWarning:     'NAXIS2' card at the wrong place (card 30).  Fixed by moving it to the right place (card 4). [astropy.io.fits.verify]\n",
      "WARNING: VerifyWarning: Note: astropy.io.fits uses zero-based indexing.\n",
      " [astropy.io.fits.verify]\n"
     ]
    },
    {
     "name": "stdout",
     "output_type": "stream",
     "text": [
      "AIA20211101_232750_1600.fits i =  43\n"
     ]
    },
    {
     "name": "stderr",
     "output_type": "stream",
     "text": [
      "WARNING: VerifyWarning: Verification reported errors: [astropy.io.fits.verify]\n",
      "WARNING: VerifyWarning: HDU 0: [astropy.io.fits.verify]\n",
      "WARNING: VerifyWarning:     'NAXIS1' card at the wrong place (card 29).  Fixed by moving it to the right place (card 3). [astropy.io.fits.verify]\n",
      "WARNING: VerifyWarning:     'NAXIS2' card at the wrong place (card 30).  Fixed by moving it to the right place (card 4). [astropy.io.fits.verify]\n",
      "WARNING: VerifyWarning: Note: astropy.io.fits uses zero-based indexing.\n",
      " [astropy.io.fits.verify]\n"
     ]
    },
    {
     "name": "stdout",
     "output_type": "stream",
     "text": [
      "AIA20211101_232814_1600.fits i =  44\n"
     ]
    },
    {
     "name": "stderr",
     "output_type": "stream",
     "text": [
      "WARNING: VerifyWarning: Verification reported errors: [astropy.io.fits.verify]\n",
      "WARNING: VerifyWarning: HDU 0: [astropy.io.fits.verify]\n",
      "WARNING: VerifyWarning:     'NAXIS1' card at the wrong place (card 29).  Fixed by moving it to the right place (card 3). [astropy.io.fits.verify]\n",
      "WARNING: VerifyWarning:     'NAXIS2' card at the wrong place (card 30).  Fixed by moving it to the right place (card 4). [astropy.io.fits.verify]\n",
      "WARNING: VerifyWarning: Note: astropy.io.fits uses zero-based indexing.\n",
      " [astropy.io.fits.verify]\n"
     ]
    },
    {
     "name": "stdout",
     "output_type": "stream",
     "text": [
      "AIA20211101_232926_1600.fits i =  45\n"
     ]
    },
    {
     "name": "stderr",
     "output_type": "stream",
     "text": [
      "WARNING: VerifyWarning: Verification reported errors: [astropy.io.fits.verify]\n",
      "WARNING: VerifyWarning: HDU 0: [astropy.io.fits.verify]\n",
      "WARNING: VerifyWarning:     'NAXIS1' card at the wrong place (card 29).  Fixed by moving it to the right place (card 3). [astropy.io.fits.verify]\n",
      "WARNING: VerifyWarning:     'NAXIS2' card at the wrong place (card 30).  Fixed by moving it to the right place (card 4). [astropy.io.fits.verify]\n",
      "WARNING: VerifyWarning: Note: astropy.io.fits uses zero-based indexing.\n",
      " [astropy.io.fits.verify]\n"
     ]
    },
    {
     "name": "stdout",
     "output_type": "stream",
     "text": [
      "AIA20211101_232950_1600.fits i =  46\n"
     ]
    },
    {
     "name": "stderr",
     "output_type": "stream",
     "text": [
      "WARNING: VerifyWarning: Verification reported errors: [astropy.io.fits.verify]\n",
      "WARNING: VerifyWarning: HDU 0: [astropy.io.fits.verify]\n",
      "WARNING: VerifyWarning:     'NAXIS1' card at the wrong place (card 29).  Fixed by moving it to the right place (card 3). [astropy.io.fits.verify]\n",
      "WARNING: VerifyWarning:     'NAXIS2' card at the wrong place (card 30).  Fixed by moving it to the right place (card 4). [astropy.io.fits.verify]\n",
      "WARNING: VerifyWarning: Note: astropy.io.fits uses zero-based indexing.\n",
      " [astropy.io.fits.verify]\n"
     ]
    },
    {
     "name": "stdout",
     "output_type": "stream",
     "text": [
      "AIA20211101_233014_1600.fits i =  47\n"
     ]
    },
    {
     "name": "stderr",
     "output_type": "stream",
     "text": [
      "WARNING: VerifyWarning: Verification reported errors: [astropy.io.fits.verify]\n",
      "WARNING: VerifyWarning: HDU 0: [astropy.io.fits.verify]\n",
      "WARNING: VerifyWarning:     'NAXIS1' card at the wrong place (card 29).  Fixed by moving it to the right place (card 3). [astropy.io.fits.verify]\n",
      "WARNING: VerifyWarning:     'NAXIS2' card at the wrong place (card 30).  Fixed by moving it to the right place (card 4). [astropy.io.fits.verify]\n",
      "WARNING: VerifyWarning: Note: astropy.io.fits uses zero-based indexing.\n",
      " [astropy.io.fits.verify]\n"
     ]
    },
    {
     "name": "stdout",
     "output_type": "stream",
     "text": [
      "AIA20211101_233038_1600.fits i =  48\n"
     ]
    },
    {
     "name": "stderr",
     "output_type": "stream",
     "text": [
      "WARNING: VerifyWarning: Verification reported errors: [astropy.io.fits.verify]\n",
      "WARNING: VerifyWarning: HDU 0: [astropy.io.fits.verify]\n",
      "WARNING: VerifyWarning:     'NAXIS1' card at the wrong place (card 29).  Fixed by moving it to the right place (card 3). [astropy.io.fits.verify]\n",
      "WARNING: VerifyWarning:     'NAXIS2' card at the wrong place (card 30).  Fixed by moving it to the right place (card 4). [astropy.io.fits.verify]\n",
      "WARNING: VerifyWarning: Note: astropy.io.fits uses zero-based indexing.\n",
      " [astropy.io.fits.verify]\n"
     ]
    },
    {
     "name": "stdout",
     "output_type": "stream",
     "text": [
      "AIA20211101_233126_1600.fits i =  49\n"
     ]
    },
    {
     "name": "stderr",
     "output_type": "stream",
     "text": [
      "WARNING: VerifyWarning: Verification reported errors: [astropy.io.fits.verify]\n",
      "WARNING: VerifyWarning: HDU 0: [astropy.io.fits.verify]\n",
      "WARNING: VerifyWarning:     'NAXIS1' card at the wrong place (card 29).  Fixed by moving it to the right place (card 3). [astropy.io.fits.verify]\n",
      "WARNING: VerifyWarning:     'NAXIS2' card at the wrong place (card 30).  Fixed by moving it to the right place (card 4). [astropy.io.fits.verify]\n",
      "WARNING: VerifyWarning: Note: astropy.io.fits uses zero-based indexing.\n",
      " [astropy.io.fits.verify]\n"
     ]
    },
    {
     "name": "stdout",
     "output_type": "stream",
     "text": [
      "AIA20211101_233214_1600.fits i =  50\n"
     ]
    },
    {
     "name": "stderr",
     "output_type": "stream",
     "text": [
      "WARNING: VerifyWarning: Verification reported errors: [astropy.io.fits.verify]\n",
      "WARNING: VerifyWarning: HDU 0: [astropy.io.fits.verify]\n",
      "WARNING: VerifyWarning:     'NAXIS1' card at the wrong place (card 29).  Fixed by moving it to the right place (card 3). [astropy.io.fits.verify]\n",
      "WARNING: VerifyWarning:     'NAXIS2' card at the wrong place (card 30).  Fixed by moving it to the right place (card 4). [astropy.io.fits.verify]\n",
      "WARNING: VerifyWarning: Note: astropy.io.fits uses zero-based indexing.\n",
      " [astropy.io.fits.verify]\n"
     ]
    },
    {
     "name": "stdout",
     "output_type": "stream",
     "text": [
      "AIA20211101_233238_1600.fits i =  51\n"
     ]
    },
    {
     "name": "stderr",
     "output_type": "stream",
     "text": [
      "WARNING: VerifyWarning: Verification reported errors: [astropy.io.fits.verify]\n",
      "WARNING: VerifyWarning: HDU 0: [astropy.io.fits.verify]\n",
      "WARNING: VerifyWarning:     'NAXIS1' card at the wrong place (card 29).  Fixed by moving it to the right place (card 3). [astropy.io.fits.verify]\n",
      "WARNING: VerifyWarning:     'NAXIS2' card at the wrong place (card 30).  Fixed by moving it to the right place (card 4). [astropy.io.fits.verify]\n",
      "WARNING: VerifyWarning: Note: astropy.io.fits uses zero-based indexing.\n",
      " [astropy.io.fits.verify]\n"
     ]
    },
    {
     "name": "stdout",
     "output_type": "stream",
     "text": [
      "AIA20211101_233302_1600.fits i =  52\n"
     ]
    },
    {
     "name": "stderr",
     "output_type": "stream",
     "text": [
      "WARNING: VerifyWarning: Verification reported errors: [astropy.io.fits.verify]\n",
      "WARNING: VerifyWarning: HDU 0: [astropy.io.fits.verify]\n",
      "WARNING: VerifyWarning:     'NAXIS1' card at the wrong place (card 29).  Fixed by moving it to the right place (card 3). [astropy.io.fits.verify]\n",
      "WARNING: VerifyWarning:     'NAXIS2' card at the wrong place (card 30).  Fixed by moving it to the right place (card 4). [astropy.io.fits.verify]\n",
      "WARNING: VerifyWarning: Note: astropy.io.fits uses zero-based indexing.\n",
      " [astropy.io.fits.verify]\n"
     ]
    },
    {
     "name": "stdout",
     "output_type": "stream",
     "text": [
      "AIA20211101_233326_1600.fits i =  53\n"
     ]
    },
    {
     "name": "stderr",
     "output_type": "stream",
     "text": [
      "WARNING: VerifyWarning: Verification reported errors: [astropy.io.fits.verify]\n",
      "WARNING: VerifyWarning: HDU 0: [astropy.io.fits.verify]\n",
      "WARNING: VerifyWarning:     'NAXIS1' card at the wrong place (card 29).  Fixed by moving it to the right place (card 3). [astropy.io.fits.verify]\n",
      "WARNING: VerifyWarning:     'NAXIS2' card at the wrong place (card 30).  Fixed by moving it to the right place (card 4). [astropy.io.fits.verify]\n",
      "WARNING: VerifyWarning: Note: astropy.io.fits uses zero-based indexing.\n",
      " [astropy.io.fits.verify]\n"
     ]
    },
    {
     "name": "stdout",
     "output_type": "stream",
     "text": [
      "AIA20211101_233350_1600.fits i =  54\n"
     ]
    },
    {
     "name": "stderr",
     "output_type": "stream",
     "text": [
      "WARNING: VerifyWarning: Verification reported errors: [astropy.io.fits.verify]\n",
      "WARNING: VerifyWarning: HDU 0: [astropy.io.fits.verify]\n",
      "WARNING: VerifyWarning:     'NAXIS1' card at the wrong place (card 29).  Fixed by moving it to the right place (card 3). [astropy.io.fits.verify]\n",
      "WARNING: VerifyWarning:     'NAXIS2' card at the wrong place (card 30).  Fixed by moving it to the right place (card 4). [astropy.io.fits.verify]\n",
      "WARNING: VerifyWarning: Note: astropy.io.fits uses zero-based indexing.\n",
      " [astropy.io.fits.verify]\n"
     ]
    },
    {
     "name": "stdout",
     "output_type": "stream",
     "text": [
      "AIA20211101_233414_1600.fits i =  55\n"
     ]
    },
    {
     "name": "stderr",
     "output_type": "stream",
     "text": [
      "WARNING: VerifyWarning: Verification reported errors: [astropy.io.fits.verify]\n",
      "WARNING: VerifyWarning: HDU 0: [astropy.io.fits.verify]\n",
      "WARNING: VerifyWarning:     'NAXIS1' card at the wrong place (card 29).  Fixed by moving it to the right place (card 3). [astropy.io.fits.verify]\n",
      "WARNING: VerifyWarning:     'NAXIS2' card at the wrong place (card 30).  Fixed by moving it to the right place (card 4). [astropy.io.fits.verify]\n",
      "WARNING: VerifyWarning: Note: astropy.io.fits uses zero-based indexing.\n",
      " [astropy.io.fits.verify]\n"
     ]
    },
    {
     "name": "stdout",
     "output_type": "stream",
     "text": [
      "AIA20211101_233438_1600.fits i =  56\n"
     ]
    },
    {
     "name": "stderr",
     "output_type": "stream",
     "text": [
      "WARNING: VerifyWarning: Verification reported errors: [astropy.io.fits.verify]\n",
      "WARNING: VerifyWarning: HDU 0: [astropy.io.fits.verify]\n",
      "WARNING: VerifyWarning:     'NAXIS1' card at the wrong place (card 29).  Fixed by moving it to the right place (card 3). [astropy.io.fits.verify]\n",
      "WARNING: VerifyWarning:     'NAXIS2' card at the wrong place (card 30).  Fixed by moving it to the right place (card 4). [astropy.io.fits.verify]\n",
      "WARNING: VerifyWarning: Note: astropy.io.fits uses zero-based indexing.\n",
      " [astropy.io.fits.verify]\n"
     ]
    },
    {
     "name": "stdout",
     "output_type": "stream",
     "text": [
      "AIA20211101_233526_1600.fits i =  57\n"
     ]
    },
    {
     "name": "stderr",
     "output_type": "stream",
     "text": [
      "WARNING: VerifyWarning: Verification reported errors: [astropy.io.fits.verify]\n",
      "WARNING: VerifyWarning: HDU 0: [astropy.io.fits.verify]\n",
      "WARNING: VerifyWarning:     'NAXIS1' card at the wrong place (card 29).  Fixed by moving it to the right place (card 3). [astropy.io.fits.verify]\n",
      "WARNING: VerifyWarning:     'NAXIS2' card at the wrong place (card 30).  Fixed by moving it to the right place (card 4). [astropy.io.fits.verify]\n",
      "WARNING: VerifyWarning: Note: astropy.io.fits uses zero-based indexing.\n",
      " [astropy.io.fits.verify]\n"
     ]
    },
    {
     "name": "stdout",
     "output_type": "stream",
     "text": [
      "AIA20211101_233614_1600.fits i =  58\n"
     ]
    },
    {
     "name": "stderr",
     "output_type": "stream",
     "text": [
      "WARNING: VerifyWarning: Verification reported errors: [astropy.io.fits.verify]\n",
      "WARNING: VerifyWarning: HDU 0: [astropy.io.fits.verify]\n",
      "WARNING: VerifyWarning:     'NAXIS1' card at the wrong place (card 29).  Fixed by moving it to the right place (card 3). [astropy.io.fits.verify]\n",
      "WARNING: VerifyWarning:     'NAXIS2' card at the wrong place (card 30).  Fixed by moving it to the right place (card 4). [astropy.io.fits.verify]\n",
      "WARNING: VerifyWarning: Note: astropy.io.fits uses zero-based indexing.\n",
      " [astropy.io.fits.verify]\n"
     ]
    },
    {
     "name": "stdout",
     "output_type": "stream",
     "text": [
      "AIA20211101_233638_1600.fits i =  59\n"
     ]
    },
    {
     "name": "stderr",
     "output_type": "stream",
     "text": [
      "WARNING: VerifyWarning: Verification reported errors: [astropy.io.fits.verify]\n",
      "WARNING: VerifyWarning: HDU 0: [astropy.io.fits.verify]\n",
      "WARNING: VerifyWarning:     'NAXIS1' card at the wrong place (card 29).  Fixed by moving it to the right place (card 3). [astropy.io.fits.verify]\n",
      "WARNING: VerifyWarning:     'NAXIS2' card at the wrong place (card 30).  Fixed by moving it to the right place (card 4). [astropy.io.fits.verify]\n",
      "WARNING: VerifyWarning: Note: astropy.io.fits uses zero-based indexing.\n",
      " [astropy.io.fits.verify]\n"
     ]
    },
    {
     "name": "stdout",
     "output_type": "stream",
     "text": [
      "AIA20211101_233702_1600.fits i =  60\n"
     ]
    },
    {
     "name": "stderr",
     "output_type": "stream",
     "text": [
      "WARNING: VerifyWarning: Verification reported errors: [astropy.io.fits.verify]\n",
      "WARNING: VerifyWarning: HDU 0: [astropy.io.fits.verify]\n",
      "WARNING: VerifyWarning:     'NAXIS1' card at the wrong place (card 29).  Fixed by moving it to the right place (card 3). [astropy.io.fits.verify]\n",
      "WARNING: VerifyWarning:     'NAXIS2' card at the wrong place (card 30).  Fixed by moving it to the right place (card 4). [astropy.io.fits.verify]\n",
      "WARNING: VerifyWarning: Note: astropy.io.fits uses zero-based indexing.\n",
      " [astropy.io.fits.verify]\n"
     ]
    },
    {
     "name": "stdout",
     "output_type": "stream",
     "text": [
      "AIA20211101_233726_1600.fits i =  61\n"
     ]
    },
    {
     "name": "stderr",
     "output_type": "stream",
     "text": [
      "WARNING: VerifyWarning: Verification reported errors: [astropy.io.fits.verify]\n",
      "WARNING: VerifyWarning: HDU 0: [astropy.io.fits.verify]\n",
      "WARNING: VerifyWarning:     'NAXIS1' card at the wrong place (card 29).  Fixed by moving it to the right place (card 3). [astropy.io.fits.verify]\n",
      "WARNING: VerifyWarning:     'NAXIS2' card at the wrong place (card 30).  Fixed by moving it to the right place (card 4). [astropy.io.fits.verify]\n",
      "WARNING: VerifyWarning: Note: astropy.io.fits uses zero-based indexing.\n",
      " [astropy.io.fits.verify]\n"
     ]
    },
    {
     "name": "stdout",
     "output_type": "stream",
     "text": [
      "AIA20211101_233750_1600.fits i =  62\n"
     ]
    },
    {
     "name": "stderr",
     "output_type": "stream",
     "text": [
      "WARNING: VerifyWarning: Verification reported errors: [astropy.io.fits.verify]\n",
      "WARNING: VerifyWarning: HDU 0: [astropy.io.fits.verify]\n",
      "WARNING: VerifyWarning:     'NAXIS1' card at the wrong place (card 29).  Fixed by moving it to the right place (card 3). [astropy.io.fits.verify]\n",
      "WARNING: VerifyWarning:     'NAXIS2' card at the wrong place (card 30).  Fixed by moving it to the right place (card 4). [astropy.io.fits.verify]\n",
      "WARNING: VerifyWarning: Note: astropy.io.fits uses zero-based indexing.\n",
      " [astropy.io.fits.verify]\n"
     ]
    },
    {
     "name": "stdout",
     "output_type": "stream",
     "text": [
      "AIA20211101_233814_1600.fits i =  63\n"
     ]
    },
    {
     "name": "stderr",
     "output_type": "stream",
     "text": [
      "WARNING: VerifyWarning: Verification reported errors: [astropy.io.fits.verify]\n",
      "WARNING: VerifyWarning: HDU 0: [astropy.io.fits.verify]\n",
      "WARNING: VerifyWarning:     'NAXIS1' card at the wrong place (card 29).  Fixed by moving it to the right place (card 3). [astropy.io.fits.verify]\n",
      "WARNING: VerifyWarning:     'NAXIS2' card at the wrong place (card 30).  Fixed by moving it to the right place (card 4). [astropy.io.fits.verify]\n",
      "WARNING: VerifyWarning: Note: astropy.io.fits uses zero-based indexing.\n",
      " [astropy.io.fits.verify]\n"
     ]
    },
    {
     "name": "stdout",
     "output_type": "stream",
     "text": [
      "AIA20211101_233902_1600.fits i =  64\n"
     ]
    },
    {
     "name": "stderr",
     "output_type": "stream",
     "text": [
      "WARNING: VerifyWarning: Verification reported errors: [astropy.io.fits.verify]\n",
      "WARNING: VerifyWarning: HDU 0: [astropy.io.fits.verify]\n",
      "WARNING: VerifyWarning:     'NAXIS1' card at the wrong place (card 29).  Fixed by moving it to the right place (card 3). [astropy.io.fits.verify]\n",
      "WARNING: VerifyWarning:     'NAXIS2' card at the wrong place (card 30).  Fixed by moving it to the right place (card 4). [astropy.io.fits.verify]\n",
      "WARNING: VerifyWarning: Note: astropy.io.fits uses zero-based indexing.\n",
      " [astropy.io.fits.verify]\n"
     ]
    },
    {
     "name": "stdout",
     "output_type": "stream",
     "text": [
      "AIA20211101_233926_1600.fits i =  65\n"
     ]
    },
    {
     "name": "stderr",
     "output_type": "stream",
     "text": [
      "WARNING: VerifyWarning: Verification reported errors: [astropy.io.fits.verify]\n",
      "WARNING: VerifyWarning: HDU 0: [astropy.io.fits.verify]\n",
      "WARNING: VerifyWarning:     'NAXIS1' card at the wrong place (card 29).  Fixed by moving it to the right place (card 3). [astropy.io.fits.verify]\n",
      "WARNING: VerifyWarning:     'NAXIS2' card at the wrong place (card 30).  Fixed by moving it to the right place (card 4). [astropy.io.fits.verify]\n",
      "WARNING: VerifyWarning: Note: astropy.io.fits uses zero-based indexing.\n",
      " [astropy.io.fits.verify]\n"
     ]
    },
    {
     "name": "stdout",
     "output_type": "stream",
     "text": [
      "AIA20211101_233950_1600.fits i =  66\n"
     ]
    },
    {
     "name": "stderr",
     "output_type": "stream",
     "text": [
      "WARNING: VerifyWarning: Verification reported errors: [astropy.io.fits.verify]\n",
      "WARNING: VerifyWarning: HDU 0: [astropy.io.fits.verify]\n",
      "WARNING: VerifyWarning:     'NAXIS1' card at the wrong place (card 29).  Fixed by moving it to the right place (card 3). [astropy.io.fits.verify]\n",
      "WARNING: VerifyWarning:     'NAXIS2' card at the wrong place (card 30).  Fixed by moving it to the right place (card 4). [astropy.io.fits.verify]\n",
      "WARNING: VerifyWarning: Note: astropy.io.fits uses zero-based indexing.\n",
      " [astropy.io.fits.verify]\n"
     ]
    },
    {
     "name": "stdout",
     "output_type": "stream",
     "text": [
      "AIA20211101_234014_1600.fits i =  67\n"
     ]
    },
    {
     "name": "stderr",
     "output_type": "stream",
     "text": [
      "WARNING: VerifyWarning: Verification reported errors: [astropy.io.fits.verify]\n",
      "WARNING: VerifyWarning: HDU 0: [astropy.io.fits.verify]\n",
      "WARNING: VerifyWarning:     'NAXIS1' card at the wrong place (card 29).  Fixed by moving it to the right place (card 3). [astropy.io.fits.verify]\n",
      "WARNING: VerifyWarning:     'NAXIS2' card at the wrong place (card 30).  Fixed by moving it to the right place (card 4). [astropy.io.fits.verify]\n",
      "WARNING: VerifyWarning: Note: astropy.io.fits uses zero-based indexing.\n",
      " [astropy.io.fits.verify]\n"
     ]
    },
    {
     "name": "stdout",
     "output_type": "stream",
     "text": [
      "AIA20211101_234038_1600.fits i =  68\n"
     ]
    },
    {
     "name": "stderr",
     "output_type": "stream",
     "text": [
      "WARNING: VerifyWarning: Verification reported errors: [astropy.io.fits.verify]\n",
      "WARNING: VerifyWarning: HDU 0: [astropy.io.fits.verify]\n",
      "WARNING: VerifyWarning:     'NAXIS1' card at the wrong place (card 29).  Fixed by moving it to the right place (card 3). [astropy.io.fits.verify]\n",
      "WARNING: VerifyWarning:     'NAXIS2' card at the wrong place (card 30).  Fixed by moving it to the right place (card 4). [astropy.io.fits.verify]\n",
      "WARNING: VerifyWarning: Note: astropy.io.fits uses zero-based indexing.\n",
      " [astropy.io.fits.verify]\n"
     ]
    },
    {
     "name": "stdout",
     "output_type": "stream",
     "text": [
      "AIA20211101_234126_1600.fits i =  69\n"
     ]
    },
    {
     "name": "stderr",
     "output_type": "stream",
     "text": [
      "WARNING: VerifyWarning: Verification reported errors: [astropy.io.fits.verify]\n",
      "WARNING: VerifyWarning: HDU 0: [astropy.io.fits.verify]\n",
      "WARNING: VerifyWarning:     'NAXIS1' card at the wrong place (card 29).  Fixed by moving it to the right place (card 3). [astropy.io.fits.verify]\n",
      "WARNING: VerifyWarning:     'NAXIS2' card at the wrong place (card 30).  Fixed by moving it to the right place (card 4). [astropy.io.fits.verify]\n",
      "WARNING: VerifyWarning: Note: astropy.io.fits uses zero-based indexing.\n",
      " [astropy.io.fits.verify]\n"
     ]
    },
    {
     "name": "stdout",
     "output_type": "stream",
     "text": [
      "AIA20211101_234150_1600.fits i =  70\n"
     ]
    },
    {
     "name": "stderr",
     "output_type": "stream",
     "text": [
      "WARNING: VerifyWarning: Verification reported errors: [astropy.io.fits.verify]\n",
      "WARNING: VerifyWarning: HDU 0: [astropy.io.fits.verify]\n",
      "WARNING: VerifyWarning:     'NAXIS1' card at the wrong place (card 29).  Fixed by moving it to the right place (card 3). [astropy.io.fits.verify]\n",
      "WARNING: VerifyWarning:     'NAXIS2' card at the wrong place (card 30).  Fixed by moving it to the right place (card 4). [astropy.io.fits.verify]\n",
      "WARNING: VerifyWarning: Note: astropy.io.fits uses zero-based indexing.\n",
      " [astropy.io.fits.verify]\n"
     ]
    },
    {
     "name": "stdout",
     "output_type": "stream",
     "text": [
      "AIA20211101_234214_1600.fits i =  71\n"
     ]
    },
    {
     "name": "stderr",
     "output_type": "stream",
     "text": [
      "WARNING: VerifyWarning: Verification reported errors: [astropy.io.fits.verify]\n",
      "WARNING: VerifyWarning: HDU 0: [astropy.io.fits.verify]\n",
      "WARNING: VerifyWarning:     'NAXIS1' card at the wrong place (card 29).  Fixed by moving it to the right place (card 3). [astropy.io.fits.verify]\n",
      "WARNING: VerifyWarning:     'NAXIS2' card at the wrong place (card 30).  Fixed by moving it to the right place (card 4). [astropy.io.fits.verify]\n",
      "WARNING: VerifyWarning: Note: astropy.io.fits uses zero-based indexing.\n",
      " [astropy.io.fits.verify]\n"
     ]
    },
    {
     "name": "stdout",
     "output_type": "stream",
     "text": [
      "AIA20211101_234238_1600.fits i =  72\n"
     ]
    },
    {
     "name": "stderr",
     "output_type": "stream",
     "text": [
      "WARNING: VerifyWarning: Verification reported errors: [astropy.io.fits.verify]\n",
      "WARNING: VerifyWarning: HDU 0: [astropy.io.fits.verify]\n",
      "WARNING: VerifyWarning:     'NAXIS1' card at the wrong place (card 29).  Fixed by moving it to the right place (card 3). [astropy.io.fits.verify]\n",
      "WARNING: VerifyWarning:     'NAXIS2' card at the wrong place (card 30).  Fixed by moving it to the right place (card 4). [astropy.io.fits.verify]\n",
      "WARNING: VerifyWarning: Note: astropy.io.fits uses zero-based indexing.\n",
      " [astropy.io.fits.verify]\n"
     ]
    },
    {
     "name": "stdout",
     "output_type": "stream",
     "text": [
      "AIA20211101_234302_1600.fits i =  73\n"
     ]
    },
    {
     "name": "stderr",
     "output_type": "stream",
     "text": [
      "WARNING: VerifyWarning: Verification reported errors: [astropy.io.fits.verify]\n",
      "WARNING: VerifyWarning: HDU 0: [astropy.io.fits.verify]\n",
      "WARNING: VerifyWarning:     'NAXIS1' card at the wrong place (card 29).  Fixed by moving it to the right place (card 3). [astropy.io.fits.verify]\n",
      "WARNING: VerifyWarning:     'NAXIS2' card at the wrong place (card 30).  Fixed by moving it to the right place (card 4). [astropy.io.fits.verify]\n",
      "WARNING: VerifyWarning: Note: astropy.io.fits uses zero-based indexing.\n",
      " [astropy.io.fits.verify]\n"
     ]
    },
    {
     "name": "stdout",
     "output_type": "stream",
     "text": [
      "AIA20211101_234326_1600.fits i =  74\n"
     ]
    },
    {
     "name": "stderr",
     "output_type": "stream",
     "text": [
      "WARNING: VerifyWarning: Verification reported errors: [astropy.io.fits.verify]\n",
      "WARNING: VerifyWarning: HDU 0: [astropy.io.fits.verify]\n",
      "WARNING: VerifyWarning:     'NAXIS1' card at the wrong place (card 29).  Fixed by moving it to the right place (card 3). [astropy.io.fits.verify]\n",
      "WARNING: VerifyWarning:     'NAXIS2' card at the wrong place (card 30).  Fixed by moving it to the right place (card 4). [astropy.io.fits.verify]\n",
      "WARNING: VerifyWarning: Note: astropy.io.fits uses zero-based indexing.\n",
      " [astropy.io.fits.verify]\n"
     ]
    },
    {
     "name": "stdout",
     "output_type": "stream",
     "text": [
      "AIA20211101_234350_1600.fits i =  75\n"
     ]
    },
    {
     "name": "stderr",
     "output_type": "stream",
     "text": [
      "WARNING: VerifyWarning: Verification reported errors: [astropy.io.fits.verify]\n",
      "WARNING: VerifyWarning: HDU 0: [astropy.io.fits.verify]\n",
      "WARNING: VerifyWarning:     'NAXIS1' card at the wrong place (card 29).  Fixed by moving it to the right place (card 3). [astropy.io.fits.verify]\n",
      "WARNING: VerifyWarning:     'NAXIS2' card at the wrong place (card 30).  Fixed by moving it to the right place (card 4). [astropy.io.fits.verify]\n",
      "WARNING: VerifyWarning: Note: astropy.io.fits uses zero-based indexing.\n",
      " [astropy.io.fits.verify]\n"
     ]
    },
    {
     "name": "stdout",
     "output_type": "stream",
     "text": [
      "AIA20211101_234414_1600.fits i =  76\n"
     ]
    },
    {
     "name": "stderr",
     "output_type": "stream",
     "text": [
      "WARNING: VerifyWarning: Verification reported errors: [astropy.io.fits.verify]\n",
      "WARNING: VerifyWarning: HDU 0: [astropy.io.fits.verify]\n",
      "WARNING: VerifyWarning:     'NAXIS1' card at the wrong place (card 29).  Fixed by moving it to the right place (card 3). [astropy.io.fits.verify]\n",
      "WARNING: VerifyWarning:     'NAXIS2' card at the wrong place (card 30).  Fixed by moving it to the right place (card 4). [astropy.io.fits.verify]\n",
      "WARNING: VerifyWarning: Note: astropy.io.fits uses zero-based indexing.\n",
      " [astropy.io.fits.verify]\n"
     ]
    },
    {
     "name": "stdout",
     "output_type": "stream",
     "text": [
      "AIA20211101_234438_1600.fits i =  77\n"
     ]
    },
    {
     "name": "stderr",
     "output_type": "stream",
     "text": [
      "WARNING: VerifyWarning: Verification reported errors: [astropy.io.fits.verify]\n",
      "WARNING: VerifyWarning: HDU 0: [astropy.io.fits.verify]\n",
      "WARNING: VerifyWarning:     'NAXIS1' card at the wrong place (card 29).  Fixed by moving it to the right place (card 3). [astropy.io.fits.verify]\n",
      "WARNING: VerifyWarning:     'NAXIS2' card at the wrong place (card 30).  Fixed by moving it to the right place (card 4). [astropy.io.fits.verify]\n",
      "WARNING: VerifyWarning: Note: astropy.io.fits uses zero-based indexing.\n",
      " [astropy.io.fits.verify]\n"
     ]
    },
    {
     "name": "stdout",
     "output_type": "stream",
     "text": [
      "AIA20211101_234814_1600.fits i =  78\n"
     ]
    },
    {
     "name": "stderr",
     "output_type": "stream",
     "text": [
      "WARNING: VerifyWarning: Verification reported errors: [astropy.io.fits.verify]\n",
      "WARNING: VerifyWarning: HDU 0: [astropy.io.fits.verify]\n",
      "WARNING: VerifyWarning:     'NAXIS1' card at the wrong place (card 29).  Fixed by moving it to the right place (card 3). [astropy.io.fits.verify]\n",
      "WARNING: VerifyWarning:     'NAXIS2' card at the wrong place (card 30).  Fixed by moving it to the right place (card 4). [astropy.io.fits.verify]\n",
      "WARNING: VerifyWarning: Note: astropy.io.fits uses zero-based indexing.\n",
      " [astropy.io.fits.verify]\n"
     ]
    },
    {
     "name": "stdout",
     "output_type": "stream",
     "text": [
      "AIA20211101_234838_1600.fits i =  79\n"
     ]
    },
    {
     "name": "stderr",
     "output_type": "stream",
     "text": [
      "WARNING: VerifyWarning: Verification reported errors: [astropy.io.fits.verify]\n",
      "WARNING: VerifyWarning: HDU 0: [astropy.io.fits.verify]\n",
      "WARNING: VerifyWarning:     'NAXIS1' card at the wrong place (card 29).  Fixed by moving it to the right place (card 3). [astropy.io.fits.verify]\n",
      "WARNING: VerifyWarning:     'NAXIS2' card at the wrong place (card 30).  Fixed by moving it to the right place (card 4). [astropy.io.fits.verify]\n",
      "WARNING: VerifyWarning: Note: astropy.io.fits uses zero-based indexing.\n",
      " [astropy.io.fits.verify]\n"
     ]
    },
    {
     "name": "stdout",
     "output_type": "stream",
     "text": [
      "AIA20211101_234902_1600.fits i =  80\n"
     ]
    },
    {
     "name": "stderr",
     "output_type": "stream",
     "text": [
      "WARNING: VerifyWarning: Verification reported errors: [astropy.io.fits.verify]\n",
      "WARNING: VerifyWarning: HDU 0: [astropy.io.fits.verify]\n",
      "WARNING: VerifyWarning:     'NAXIS1' card at the wrong place (card 29).  Fixed by moving it to the right place (card 3). [astropy.io.fits.verify]\n",
      "WARNING: VerifyWarning:     'NAXIS2' card at the wrong place (card 30).  Fixed by moving it to the right place (card 4). [astropy.io.fits.verify]\n",
      "WARNING: VerifyWarning: Note: astropy.io.fits uses zero-based indexing.\n",
      " [astropy.io.fits.verify]\n"
     ]
    },
    {
     "name": "stdout",
     "output_type": "stream",
     "text": [
      "AIA20211101_234926_1600.fits i =  81\n"
     ]
    },
    {
     "name": "stderr",
     "output_type": "stream",
     "text": [
      "WARNING: VerifyWarning: Verification reported errors: [astropy.io.fits.verify]\n",
      "WARNING: VerifyWarning: HDU 0: [astropy.io.fits.verify]\n",
      "WARNING: VerifyWarning:     'NAXIS1' card at the wrong place (card 29).  Fixed by moving it to the right place (card 3). [astropy.io.fits.verify]\n",
      "WARNING: VerifyWarning:     'NAXIS2' card at the wrong place (card 30).  Fixed by moving it to the right place (card 4). [astropy.io.fits.verify]\n",
      "WARNING: VerifyWarning: Note: astropy.io.fits uses zero-based indexing.\n",
      " [astropy.io.fits.verify]\n"
     ]
    },
    {
     "name": "stdout",
     "output_type": "stream",
     "text": [
      "AIA20211101_234950_1600.fits i =  82\n"
     ]
    },
    {
     "name": "stderr",
     "output_type": "stream",
     "text": [
      "WARNING: VerifyWarning: Verification reported errors: [astropy.io.fits.verify]\n",
      "WARNING: VerifyWarning: HDU 0: [astropy.io.fits.verify]\n",
      "WARNING: VerifyWarning:     'NAXIS1' card at the wrong place (card 29).  Fixed by moving it to the right place (card 3). [astropy.io.fits.verify]\n",
      "WARNING: VerifyWarning:     'NAXIS2' card at the wrong place (card 30).  Fixed by moving it to the right place (card 4). [astropy.io.fits.verify]\n",
      "WARNING: VerifyWarning: Note: astropy.io.fits uses zero-based indexing.\n",
      " [astropy.io.fits.verify]\n"
     ]
    },
    {
     "name": "stdout",
     "output_type": "stream",
     "text": [
      "AIA20211101_235014_1600.fits i =  83\n"
     ]
    },
    {
     "name": "stderr",
     "output_type": "stream",
     "text": [
      "WARNING: VerifyWarning: Verification reported errors: [astropy.io.fits.verify]\n",
      "WARNING: VerifyWarning: HDU 0: [astropy.io.fits.verify]\n",
      "WARNING: VerifyWarning:     'NAXIS1' card at the wrong place (card 29).  Fixed by moving it to the right place (card 3). [astropy.io.fits.verify]\n",
      "WARNING: VerifyWarning:     'NAXIS2' card at the wrong place (card 30).  Fixed by moving it to the right place (card 4). [astropy.io.fits.verify]\n",
      "WARNING: VerifyWarning: Note: astropy.io.fits uses zero-based indexing.\n",
      " [astropy.io.fits.verify]\n"
     ]
    },
    {
     "name": "stdout",
     "output_type": "stream",
     "text": [
      "AIA20211101_235038_1600.fits i =  84\n"
     ]
    },
    {
     "name": "stderr",
     "output_type": "stream",
     "text": [
      "WARNING: VerifyWarning: Verification reported errors: [astropy.io.fits.verify]\n",
      "WARNING: VerifyWarning: HDU 0: [astropy.io.fits.verify]\n",
      "WARNING: VerifyWarning:     'NAXIS1' card at the wrong place (card 29).  Fixed by moving it to the right place (card 3). [astropy.io.fits.verify]\n",
      "WARNING: VerifyWarning:     'NAXIS2' card at the wrong place (card 30).  Fixed by moving it to the right place (card 4). [astropy.io.fits.verify]\n",
      "WARNING: VerifyWarning: Note: astropy.io.fits uses zero-based indexing.\n",
      " [astropy.io.fits.verify]\n"
     ]
    },
    {
     "name": "stdout",
     "output_type": "stream",
     "text": [
      "AIA20211101_235102_1600.fits i =  85\n"
     ]
    },
    {
     "name": "stderr",
     "output_type": "stream",
     "text": [
      "WARNING: VerifyWarning: Verification reported errors: [astropy.io.fits.verify]\n",
      "WARNING: VerifyWarning: HDU 0: [astropy.io.fits.verify]\n",
      "WARNING: VerifyWarning:     'NAXIS1' card at the wrong place (card 29).  Fixed by moving it to the right place (card 3). [astropy.io.fits.verify]\n",
      "WARNING: VerifyWarning:     'NAXIS2' card at the wrong place (card 30).  Fixed by moving it to the right place (card 4). [astropy.io.fits.verify]\n",
      "WARNING: VerifyWarning: Note: astropy.io.fits uses zero-based indexing.\n",
      " [astropy.io.fits.verify]\n"
     ]
    },
    {
     "name": "stdout",
     "output_type": "stream",
     "text": [
      "AIA20211101_235126_1600.fits i =  86\n"
     ]
    },
    {
     "name": "stderr",
     "output_type": "stream",
     "text": [
      "WARNING: VerifyWarning: Verification reported errors: [astropy.io.fits.verify]\n",
      "WARNING: VerifyWarning: HDU 0: [astropy.io.fits.verify]\n",
      "WARNING: VerifyWarning:     'NAXIS1' card at the wrong place (card 29).  Fixed by moving it to the right place (card 3). [astropy.io.fits.verify]\n",
      "WARNING: VerifyWarning:     'NAXIS2' card at the wrong place (card 30).  Fixed by moving it to the right place (card 4). [astropy.io.fits.verify]\n",
      "WARNING: VerifyWarning: Note: astropy.io.fits uses zero-based indexing.\n",
      " [astropy.io.fits.verify]\n"
     ]
    },
    {
     "name": "stdout",
     "output_type": "stream",
     "text": [
      "AIA20211101_235150_1600.fits i =  87\n"
     ]
    },
    {
     "name": "stderr",
     "output_type": "stream",
     "text": [
      "WARNING: VerifyWarning: Verification reported errors: [astropy.io.fits.verify]\n",
      "WARNING: VerifyWarning: HDU 0: [astropy.io.fits.verify]\n",
      "WARNING: VerifyWarning:     'NAXIS1' card at the wrong place (card 29).  Fixed by moving it to the right place (card 3). [astropy.io.fits.verify]\n",
      "WARNING: VerifyWarning:     'NAXIS2' card at the wrong place (card 30).  Fixed by moving it to the right place (card 4). [astropy.io.fits.verify]\n",
      "WARNING: VerifyWarning: Note: astropy.io.fits uses zero-based indexing.\n",
      " [astropy.io.fits.verify]\n"
     ]
    },
    {
     "name": "stdout",
     "output_type": "stream",
     "text": [
      "AIA20211101_235214_1600.fits i =  88\n"
     ]
    },
    {
     "name": "stderr",
     "output_type": "stream",
     "text": [
      "WARNING: VerifyWarning: Verification reported errors: [astropy.io.fits.verify]\n",
      "WARNING: VerifyWarning: HDU 0: [astropy.io.fits.verify]\n",
      "WARNING: VerifyWarning:     'NAXIS1' card at the wrong place (card 29).  Fixed by moving it to the right place (card 3). [astropy.io.fits.verify]\n",
      "WARNING: VerifyWarning:     'NAXIS2' card at the wrong place (card 30).  Fixed by moving it to the right place (card 4). [astropy.io.fits.verify]\n",
      "WARNING: VerifyWarning: Note: astropy.io.fits uses zero-based indexing.\n",
      " [astropy.io.fits.verify]\n"
     ]
    },
    {
     "name": "stdout",
     "output_type": "stream",
     "text": [
      "AIA20211101_235238_1600.fits i =  89\n"
     ]
    },
    {
     "name": "stderr",
     "output_type": "stream",
     "text": [
      "WARNING: VerifyWarning: Verification reported errors: [astropy.io.fits.verify]\n",
      "WARNING: VerifyWarning: HDU 0: [astropy.io.fits.verify]\n",
      "WARNING: VerifyWarning:     'NAXIS1' card at the wrong place (card 29).  Fixed by moving it to the right place (card 3). [astropy.io.fits.verify]\n",
      "WARNING: VerifyWarning:     'NAXIS2' card at the wrong place (card 30).  Fixed by moving it to the right place (card 4). [astropy.io.fits.verify]\n",
      "WARNING: VerifyWarning: Note: astropy.io.fits uses zero-based indexing.\n",
      " [astropy.io.fits.verify]\n"
     ]
    },
    {
     "name": "stdout",
     "output_type": "stream",
     "text": [
      "AIA20211101_235302_1600.fits i =  90\n"
     ]
    },
    {
     "name": "stderr",
     "output_type": "stream",
     "text": [
      "WARNING: VerifyWarning: Verification reported errors: [astropy.io.fits.verify]\n",
      "WARNING: VerifyWarning: HDU 0: [astropy.io.fits.verify]\n",
      "WARNING: VerifyWarning:     'NAXIS1' card at the wrong place (card 29).  Fixed by moving it to the right place (card 3). [astropy.io.fits.verify]\n",
      "WARNING: VerifyWarning:     'NAXIS2' card at the wrong place (card 30).  Fixed by moving it to the right place (card 4). [astropy.io.fits.verify]\n",
      "WARNING: VerifyWarning: Note: astropy.io.fits uses zero-based indexing.\n",
      " [astropy.io.fits.verify]\n"
     ]
    },
    {
     "name": "stdout",
     "output_type": "stream",
     "text": [
      "AIA20211101_235326_1600.fits i =  91\n"
     ]
    },
    {
     "name": "stderr",
     "output_type": "stream",
     "text": [
      "WARNING: VerifyWarning: Verification reported errors: [astropy.io.fits.verify]\n",
      "WARNING: VerifyWarning: HDU 0: [astropy.io.fits.verify]\n",
      "WARNING: VerifyWarning:     'NAXIS1' card at the wrong place (card 29).  Fixed by moving it to the right place (card 3). [astropy.io.fits.verify]\n",
      "WARNING: VerifyWarning:     'NAXIS2' card at the wrong place (card 30).  Fixed by moving it to the right place (card 4). [astropy.io.fits.verify]\n",
      "WARNING: VerifyWarning: Note: astropy.io.fits uses zero-based indexing.\n",
      " [astropy.io.fits.verify]\n"
     ]
    },
    {
     "name": "stdout",
     "output_type": "stream",
     "text": [
      "AIA20211101_235350_1600.fits i =  92\n"
     ]
    },
    {
     "name": "stderr",
     "output_type": "stream",
     "text": [
      "WARNING: VerifyWarning: Verification reported errors: [astropy.io.fits.verify]\n",
      "WARNING: VerifyWarning: HDU 0: [astropy.io.fits.verify]\n",
      "WARNING: VerifyWarning:     'NAXIS1' card at the wrong place (card 29).  Fixed by moving it to the right place (card 3). [astropy.io.fits.verify]\n",
      "WARNING: VerifyWarning:     'NAXIS2' card at the wrong place (card 30).  Fixed by moving it to the right place (card 4). [astropy.io.fits.verify]\n",
      "WARNING: VerifyWarning: Note: astropy.io.fits uses zero-based indexing.\n",
      " [astropy.io.fits.verify]\n"
     ]
    },
    {
     "name": "stdout",
     "output_type": "stream",
     "text": [
      "AIA20211101_235414_1600.fits i =  93\n"
     ]
    },
    {
     "name": "stderr",
     "output_type": "stream",
     "text": [
      "WARNING: VerifyWarning: Verification reported errors: [astropy.io.fits.verify]\n",
      "WARNING: VerifyWarning: HDU 0: [astropy.io.fits.verify]\n",
      "WARNING: VerifyWarning:     'NAXIS1' card at the wrong place (card 29).  Fixed by moving it to the right place (card 3). [astropy.io.fits.verify]\n",
      "WARNING: VerifyWarning:     'NAXIS2' card at the wrong place (card 30).  Fixed by moving it to the right place (card 4). [astropy.io.fits.verify]\n",
      "WARNING: VerifyWarning: Note: astropy.io.fits uses zero-based indexing.\n",
      " [astropy.io.fits.verify]\n"
     ]
    },
    {
     "name": "stdout",
     "output_type": "stream",
     "text": [
      "AIA20211101_235438_1600.fits i =  94\n"
     ]
    },
    {
     "name": "stderr",
     "output_type": "stream",
     "text": [
      "WARNING: VerifyWarning: Verification reported errors: [astropy.io.fits.verify]\n",
      "WARNING: VerifyWarning: HDU 0: [astropy.io.fits.verify]\n",
      "WARNING: VerifyWarning:     'NAXIS1' card at the wrong place (card 29).  Fixed by moving it to the right place (card 3). [astropy.io.fits.verify]\n",
      "WARNING: VerifyWarning:     'NAXIS2' card at the wrong place (card 30).  Fixed by moving it to the right place (card 4). [astropy.io.fits.verify]\n",
      "WARNING: VerifyWarning: Note: astropy.io.fits uses zero-based indexing.\n",
      " [astropy.io.fits.verify]\n"
     ]
    },
    {
     "name": "stdout",
     "output_type": "stream",
     "text": [
      "AIA20211101_235502_1600.fits i =  95\n"
     ]
    },
    {
     "name": "stderr",
     "output_type": "stream",
     "text": [
      "WARNING: VerifyWarning: Verification reported errors: [astropy.io.fits.verify]\n",
      "WARNING: VerifyWarning: HDU 0: [astropy.io.fits.verify]\n",
      "WARNING: VerifyWarning:     'NAXIS1' card at the wrong place (card 29).  Fixed by moving it to the right place (card 3). [astropy.io.fits.verify]\n",
      "WARNING: VerifyWarning:     'NAXIS2' card at the wrong place (card 30).  Fixed by moving it to the right place (card 4). [astropy.io.fits.verify]\n",
      "WARNING: VerifyWarning: Note: astropy.io.fits uses zero-based indexing.\n",
      " [astropy.io.fits.verify]\n"
     ]
    },
    {
     "name": "stdout",
     "output_type": "stream",
     "text": [
      "AIA20211101_235526_1600.fits i =  96\n"
     ]
    },
    {
     "name": "stderr",
     "output_type": "stream",
     "text": [
      "WARNING: VerifyWarning: Verification reported errors: [astropy.io.fits.verify]\n",
      "WARNING: VerifyWarning: HDU 0: [astropy.io.fits.verify]\n",
      "WARNING: VerifyWarning:     'NAXIS1' card at the wrong place (card 29).  Fixed by moving it to the right place (card 3). [astropy.io.fits.verify]\n",
      "WARNING: VerifyWarning:     'NAXIS2' card at the wrong place (card 30).  Fixed by moving it to the right place (card 4). [astropy.io.fits.verify]\n",
      "WARNING: VerifyWarning: Note: astropy.io.fits uses zero-based indexing.\n",
      " [astropy.io.fits.verify]\n"
     ]
    },
    {
     "name": "stdout",
     "output_type": "stream",
     "text": [
      "AIA20211101_235550_1600.fits i =  97\n"
     ]
    },
    {
     "name": "stderr",
     "output_type": "stream",
     "text": [
      "WARNING: VerifyWarning: Verification reported errors: [astropy.io.fits.verify]\n",
      "WARNING: VerifyWarning: HDU 0: [astropy.io.fits.verify]\n",
      "WARNING: VerifyWarning:     'NAXIS1' card at the wrong place (card 29).  Fixed by moving it to the right place (card 3). [astropy.io.fits.verify]\n",
      "WARNING: VerifyWarning:     'NAXIS2' card at the wrong place (card 30).  Fixed by moving it to the right place (card 4). [astropy.io.fits.verify]\n",
      "WARNING: VerifyWarning: Note: astropy.io.fits uses zero-based indexing.\n",
      " [astropy.io.fits.verify]\n"
     ]
    },
    {
     "name": "stdout",
     "output_type": "stream",
     "text": [
      "AIA20211101_235638_1600.fits i =  98\n"
     ]
    },
    {
     "name": "stderr",
     "output_type": "stream",
     "text": [
      "WARNING: VerifyWarning: Verification reported errors: [astropy.io.fits.verify]\n",
      "WARNING: VerifyWarning: HDU 0: [astropy.io.fits.verify]\n",
      "WARNING: VerifyWarning:     'NAXIS1' card at the wrong place (card 29).  Fixed by moving it to the right place (card 3). [astropy.io.fits.verify]\n",
      "WARNING: VerifyWarning:     'NAXIS2' card at the wrong place (card 30).  Fixed by moving it to the right place (card 4). [astropy.io.fits.verify]\n",
      "WARNING: VerifyWarning: Note: astropy.io.fits uses zero-based indexing.\n",
      " [astropy.io.fits.verify]\n"
     ]
    },
    {
     "name": "stdout",
     "output_type": "stream",
     "text": [
      "AIA20211101_235702_1600.fits i =  99\n"
     ]
    },
    {
     "name": "stderr",
     "output_type": "stream",
     "text": [
      "WARNING: VerifyWarning: Verification reported errors: [astropy.io.fits.verify]\n",
      "WARNING: VerifyWarning: HDU 0: [astropy.io.fits.verify]\n",
      "WARNING: VerifyWarning:     'NAXIS1' card at the wrong place (card 29).  Fixed by moving it to the right place (card 3). [astropy.io.fits.verify]\n",
      "WARNING: VerifyWarning:     'NAXIS2' card at the wrong place (card 30).  Fixed by moving it to the right place (card 4). [astropy.io.fits.verify]\n",
      "WARNING: VerifyWarning: Note: astropy.io.fits uses zero-based indexing.\n",
      " [astropy.io.fits.verify]\n"
     ]
    },
    {
     "name": "stdout",
     "output_type": "stream",
     "text": [
      "AIA20211101_235726_1600.fits i =  100\n"
     ]
    },
    {
     "name": "stderr",
     "output_type": "stream",
     "text": [
      "WARNING: VerifyWarning: Verification reported errors: [astropy.io.fits.verify]\n",
      "WARNING: VerifyWarning: HDU 0: [astropy.io.fits.verify]\n",
      "WARNING: VerifyWarning:     'NAXIS1' card at the wrong place (card 29).  Fixed by moving it to the right place (card 3). [astropy.io.fits.verify]\n",
      "WARNING: VerifyWarning:     'NAXIS2' card at the wrong place (card 30).  Fixed by moving it to the right place (card 4). [astropy.io.fits.verify]\n",
      "WARNING: VerifyWarning: Note: astropy.io.fits uses zero-based indexing.\n",
      " [astropy.io.fits.verify]\n"
     ]
    },
    {
     "name": "stdout",
     "output_type": "stream",
     "text": [
      "AIA20211101_235750_1600.fits i =  101\n"
     ]
    },
    {
     "name": "stderr",
     "output_type": "stream",
     "text": [
      "WARNING: VerifyWarning: Verification reported errors: [astropy.io.fits.verify]\n",
      "WARNING: VerifyWarning: HDU 0: [astropy.io.fits.verify]\n",
      "WARNING: VerifyWarning:     'NAXIS1' card at the wrong place (card 29).  Fixed by moving it to the right place (card 3). [astropy.io.fits.verify]\n",
      "WARNING: VerifyWarning:     'NAXIS2' card at the wrong place (card 30).  Fixed by moving it to the right place (card 4). [astropy.io.fits.verify]\n",
      "WARNING: VerifyWarning: Note: astropy.io.fits uses zero-based indexing.\n",
      " [astropy.io.fits.verify]\n"
     ]
    },
    {
     "name": "stdout",
     "output_type": "stream",
     "text": [
      "AIA20211101_235814_1600.fits i =  102\n"
     ]
    },
    {
     "name": "stderr",
     "output_type": "stream",
     "text": [
      "WARNING: VerifyWarning: Verification reported errors: [astropy.io.fits.verify]\n",
      "WARNING: VerifyWarning: HDU 0: [astropy.io.fits.verify]\n",
      "WARNING: VerifyWarning:     'NAXIS1' card at the wrong place (card 29).  Fixed by moving it to the right place (card 3). [astropy.io.fits.verify]\n",
      "WARNING: VerifyWarning:     'NAXIS2' card at the wrong place (card 30).  Fixed by moving it to the right place (card 4). [astropy.io.fits.verify]\n",
      "WARNING: VerifyWarning: Note: astropy.io.fits uses zero-based indexing.\n",
      " [astropy.io.fits.verify]\n"
     ]
    },
    {
     "name": "stdout",
     "output_type": "stream",
     "text": [
      "AIA20211101_235902_1600.fits i =  103\n"
     ]
    },
    {
     "name": "stderr",
     "output_type": "stream",
     "text": [
      "WARNING: VerifyWarning: Verification reported errors: [astropy.io.fits.verify]\n",
      "WARNING: VerifyWarning: HDU 0: [astropy.io.fits.verify]\n",
      "WARNING: VerifyWarning:     'NAXIS1' card at the wrong place (card 29).  Fixed by moving it to the right place (card 3). [astropy.io.fits.verify]\n",
      "WARNING: VerifyWarning:     'NAXIS2' card at the wrong place (card 30).  Fixed by moving it to the right place (card 4). [astropy.io.fits.verify]\n",
      "WARNING: VerifyWarning: Note: astropy.io.fits uses zero-based indexing.\n",
      " [astropy.io.fits.verify]\n"
     ]
    },
    {
     "name": "stdout",
     "output_type": "stream",
     "text": [
      "AIA20211101_235926_1600.fits i =  104\n"
     ]
    },
    {
     "name": "stderr",
     "output_type": "stream",
     "text": [
      "WARNING: VerifyWarning: Verification reported errors: [astropy.io.fits.verify]\n",
      "WARNING: VerifyWarning: HDU 0: [astropy.io.fits.verify]\n",
      "WARNING: VerifyWarning:     'NAXIS1' card at the wrong place (card 29).  Fixed by moving it to the right place (card 3). [astropy.io.fits.verify]\n",
      "WARNING: VerifyWarning:     'NAXIS2' card at the wrong place (card 30).  Fixed by moving it to the right place (card 4). [astropy.io.fits.verify]\n",
      "WARNING: VerifyWarning: Note: astropy.io.fits uses zero-based indexing.\n",
      " [astropy.io.fits.verify]\n"
     ]
    },
    {
     "name": "stdout",
     "output_type": "stream",
     "text": [
      "AIA20211101_235950_1600.fits i =  105\n"
     ]
    },
    {
     "name": "stderr",
     "output_type": "stream",
     "text": [
      "WARNING: VerifyWarning: Verification reported errors: [astropy.io.fits.verify]\n",
      "WARNING: VerifyWarning: HDU 0: [astropy.io.fits.verify]\n",
      "WARNING: VerifyWarning:     'NAXIS1' card at the wrong place (card 29).  Fixed by moving it to the right place (card 3). [astropy.io.fits.verify]\n",
      "WARNING: VerifyWarning:     'NAXIS2' card at the wrong place (card 30).  Fixed by moving it to the right place (card 4). [astropy.io.fits.verify]\n",
      "WARNING: VerifyWarning: Note: astropy.io.fits uses zero-based indexing.\n",
      " [astropy.io.fits.verify]\n"
     ]
    },
    {
     "name": "stdout",
     "output_type": "stream",
     "text": [
      "AIA20211102_000014_1600.fits i =  106\n"
     ]
    },
    {
     "name": "stderr",
     "output_type": "stream",
     "text": [
      "WARNING: VerifyWarning: Verification reported errors: [astropy.io.fits.verify]\n",
      "WARNING: VerifyWarning: HDU 0: [astropy.io.fits.verify]\n",
      "WARNING: VerifyWarning:     'NAXIS1' card at the wrong place (card 29).  Fixed by moving it to the right place (card 3). [astropy.io.fits.verify]\n",
      "WARNING: VerifyWarning:     'NAXIS2' card at the wrong place (card 30).  Fixed by moving it to the right place (card 4). [astropy.io.fits.verify]\n",
      "WARNING: VerifyWarning: Note: astropy.io.fits uses zero-based indexing.\n",
      " [astropy.io.fits.verify]\n"
     ]
    },
    {
     "name": "stdout",
     "output_type": "stream",
     "text": [
      "AIA20211102_000038_1600.fits i =  107\n"
     ]
    },
    {
     "name": "stderr",
     "output_type": "stream",
     "text": [
      "WARNING: VerifyWarning: Verification reported errors: [astropy.io.fits.verify]\n",
      "WARNING: VerifyWarning: HDU 0: [astropy.io.fits.verify]\n",
      "WARNING: VerifyWarning:     'NAXIS1' card at the wrong place (card 29).  Fixed by moving it to the right place (card 3). [astropy.io.fits.verify]\n",
      "WARNING: VerifyWarning:     'NAXIS2' card at the wrong place (card 30).  Fixed by moving it to the right place (card 4). [astropy.io.fits.verify]\n",
      "WARNING: VerifyWarning: Note: astropy.io.fits uses zero-based indexing.\n",
      " [astropy.io.fits.verify]\n"
     ]
    },
    {
     "name": "stdout",
     "output_type": "stream",
     "text": [
      "AIA20211102_000126_1600.fits i =  108\n"
     ]
    },
    {
     "name": "stderr",
     "output_type": "stream",
     "text": [
      "WARNING: VerifyWarning: Verification reported errors: [astropy.io.fits.verify]\n",
      "WARNING: VerifyWarning: HDU 0: [astropy.io.fits.verify]\n",
      "WARNING: VerifyWarning:     'NAXIS1' card at the wrong place (card 29).  Fixed by moving it to the right place (card 3). [astropy.io.fits.verify]\n",
      "WARNING: VerifyWarning:     'NAXIS2' card at the wrong place (card 30).  Fixed by moving it to the right place (card 4). [astropy.io.fits.verify]\n",
      "WARNING: VerifyWarning: Note: astropy.io.fits uses zero-based indexing.\n",
      " [astropy.io.fits.verify]\n"
     ]
    },
    {
     "name": "stdout",
     "output_type": "stream",
     "text": [
      "AIA20211102_000150_1600.fits i =  109\n"
     ]
    },
    {
     "name": "stderr",
     "output_type": "stream",
     "text": [
      "WARNING: VerifyWarning: Verification reported errors: [astropy.io.fits.verify]\n",
      "WARNING: VerifyWarning: HDU 0: [astropy.io.fits.verify]\n",
      "WARNING: VerifyWarning:     'NAXIS1' card at the wrong place (card 29).  Fixed by moving it to the right place (card 3). [astropy.io.fits.verify]\n",
      "WARNING: VerifyWarning:     'NAXIS2' card at the wrong place (card 30).  Fixed by moving it to the right place (card 4). [astropy.io.fits.verify]\n",
      "WARNING: VerifyWarning: Note: astropy.io.fits uses zero-based indexing.\n",
      " [astropy.io.fits.verify]\n"
     ]
    },
    {
     "name": "stdout",
     "output_type": "stream",
     "text": [
      "AIA20211102_000214_1600.fits i =  110\n"
     ]
    },
    {
     "name": "stderr",
     "output_type": "stream",
     "text": [
      "WARNING: VerifyWarning: Verification reported errors: [astropy.io.fits.verify]\n",
      "WARNING: VerifyWarning: HDU 0: [astropy.io.fits.verify]\n",
      "WARNING: VerifyWarning:     'NAXIS1' card at the wrong place (card 29).  Fixed by moving it to the right place (card 3). [astropy.io.fits.verify]\n",
      "WARNING: VerifyWarning:     'NAXIS2' card at the wrong place (card 30).  Fixed by moving it to the right place (card 4). [astropy.io.fits.verify]\n",
      "WARNING: VerifyWarning: Note: astropy.io.fits uses zero-based indexing.\n",
      " [astropy.io.fits.verify]\n"
     ]
    },
    {
     "name": "stdout",
     "output_type": "stream",
     "text": [
      "AIA20211102_000238_1600.fits i =  111\n"
     ]
    },
    {
     "name": "stderr",
     "output_type": "stream",
     "text": [
      "WARNING: VerifyWarning: Verification reported errors: [astropy.io.fits.verify]\n",
      "WARNING: VerifyWarning: HDU 0: [astropy.io.fits.verify]\n",
      "WARNING: VerifyWarning:     'NAXIS1' card at the wrong place (card 29).  Fixed by moving it to the right place (card 3). [astropy.io.fits.verify]\n",
      "WARNING: VerifyWarning:     'NAXIS2' card at the wrong place (card 30).  Fixed by moving it to the right place (card 4). [astropy.io.fits.verify]\n",
      "WARNING: VerifyWarning: Note: astropy.io.fits uses zero-based indexing.\n",
      " [astropy.io.fits.verify]\n"
     ]
    },
    {
     "name": "stdout",
     "output_type": "stream",
     "text": [
      "AIA20211102_000302_1600.fits i =  112\n"
     ]
    },
    {
     "name": "stderr",
     "output_type": "stream",
     "text": [
      "WARNING: VerifyWarning: Verification reported errors: [astropy.io.fits.verify]\n",
      "WARNING: VerifyWarning: HDU 0: [astropy.io.fits.verify]\n",
      "WARNING: VerifyWarning:     'NAXIS1' card at the wrong place (card 29).  Fixed by moving it to the right place (card 3). [astropy.io.fits.verify]\n",
      "WARNING: VerifyWarning:     'NAXIS2' card at the wrong place (card 30).  Fixed by moving it to the right place (card 4). [astropy.io.fits.verify]\n",
      "WARNING: VerifyWarning: Note: astropy.io.fits uses zero-based indexing.\n",
      " [astropy.io.fits.verify]\n"
     ]
    },
    {
     "name": "stdout",
     "output_type": "stream",
     "text": [
      "AIA20211102_000326_1600.fits i =  113\n"
     ]
    },
    {
     "name": "stderr",
     "output_type": "stream",
     "text": [
      "WARNING: VerifyWarning: Verification reported errors: [astropy.io.fits.verify]\n",
      "WARNING: VerifyWarning: HDU 0: [astropy.io.fits.verify]\n",
      "WARNING: VerifyWarning:     'NAXIS1' card at the wrong place (card 29).  Fixed by moving it to the right place (card 3). [astropy.io.fits.verify]\n",
      "WARNING: VerifyWarning:     'NAXIS2' card at the wrong place (card 30).  Fixed by moving it to the right place (card 4). [astropy.io.fits.verify]\n",
      "WARNING: VerifyWarning: Note: astropy.io.fits uses zero-based indexing.\n",
      " [astropy.io.fits.verify]\n"
     ]
    },
    {
     "name": "stdout",
     "output_type": "stream",
     "text": [
      "AIA20211102_000414_1600.fits i =  114\n"
     ]
    },
    {
     "name": "stderr",
     "output_type": "stream",
     "text": [
      "WARNING: VerifyWarning: Verification reported errors: [astropy.io.fits.verify]\n",
      "WARNING: VerifyWarning: HDU 0: [astropy.io.fits.verify]\n",
      "WARNING: VerifyWarning:     'NAXIS1' card at the wrong place (card 29).  Fixed by moving it to the right place (card 3). [astropy.io.fits.verify]\n",
      "WARNING: VerifyWarning:     'NAXIS2' card at the wrong place (card 30).  Fixed by moving it to the right place (card 4). [astropy.io.fits.verify]\n",
      "WARNING: VerifyWarning: Note: astropy.io.fits uses zero-based indexing.\n",
      " [astropy.io.fits.verify]\n"
     ]
    },
    {
     "name": "stdout",
     "output_type": "stream",
     "text": [
      "AIA20211102_000438_1600.fits i =  115\n"
     ]
    },
    {
     "name": "stderr",
     "output_type": "stream",
     "text": [
      "WARNING: VerifyWarning: Verification reported errors: [astropy.io.fits.verify]\n",
      "WARNING: VerifyWarning: HDU 0: [astropy.io.fits.verify]\n",
      "WARNING: VerifyWarning:     'NAXIS1' card at the wrong place (card 29).  Fixed by moving it to the right place (card 3). [astropy.io.fits.verify]\n",
      "WARNING: VerifyWarning:     'NAXIS2' card at the wrong place (card 30).  Fixed by moving it to the right place (card 4). [astropy.io.fits.verify]\n",
      "WARNING: VerifyWarning: Note: astropy.io.fits uses zero-based indexing.\n",
      " [astropy.io.fits.verify]\n"
     ]
    },
    {
     "name": "stdout",
     "output_type": "stream",
     "text": [
      "AIA20211102_000502_1600.fits i =  116\n"
     ]
    },
    {
     "name": "stderr",
     "output_type": "stream",
     "text": [
      "WARNING: VerifyWarning: Verification reported errors: [astropy.io.fits.verify]\n",
      "WARNING: VerifyWarning: HDU 0: [astropy.io.fits.verify]\n",
      "WARNING: VerifyWarning:     'NAXIS1' card at the wrong place (card 29).  Fixed by moving it to the right place (card 3). [astropy.io.fits.verify]\n",
      "WARNING: VerifyWarning:     'NAXIS2' card at the wrong place (card 30).  Fixed by moving it to the right place (card 4). [astropy.io.fits.verify]\n",
      "WARNING: VerifyWarning: Note: astropy.io.fits uses zero-based indexing.\n",
      " [astropy.io.fits.verify]\n"
     ]
    },
    {
     "name": "stdout",
     "output_type": "stream",
     "text": [
      "AIA20211102_000550_1600.fits i =  117\n"
     ]
    },
    {
     "name": "stderr",
     "output_type": "stream",
     "text": [
      "WARNING: VerifyWarning: Verification reported errors: [astropy.io.fits.verify]\n",
      "WARNING: VerifyWarning: HDU 0: [astropy.io.fits.verify]\n",
      "WARNING: VerifyWarning:     'NAXIS1' card at the wrong place (card 29).  Fixed by moving it to the right place (card 3). [astropy.io.fits.verify]\n",
      "WARNING: VerifyWarning:     'NAXIS2' card at the wrong place (card 30).  Fixed by moving it to the right place (card 4). [astropy.io.fits.verify]\n",
      "WARNING: VerifyWarning: Note: astropy.io.fits uses zero-based indexing.\n",
      " [astropy.io.fits.verify]\n"
     ]
    },
    {
     "name": "stdout",
     "output_type": "stream",
     "text": [
      "AIA20211102_000614_1600.fits i =  118\n"
     ]
    },
    {
     "name": "stderr",
     "output_type": "stream",
     "text": [
      "WARNING: VerifyWarning: Verification reported errors: [astropy.io.fits.verify]\n",
      "WARNING: VerifyWarning: HDU 0: [astropy.io.fits.verify]\n",
      "WARNING: VerifyWarning:     'NAXIS1' card at the wrong place (card 29).  Fixed by moving it to the right place (card 3). [astropy.io.fits.verify]\n",
      "WARNING: VerifyWarning:     'NAXIS2' card at the wrong place (card 30).  Fixed by moving it to the right place (card 4). [astropy.io.fits.verify]\n",
      "WARNING: VerifyWarning: Note: astropy.io.fits uses zero-based indexing.\n",
      " [astropy.io.fits.verify]\n"
     ]
    },
    {
     "name": "stdout",
     "output_type": "stream",
     "text": [
      "AIA20211102_000638_1600.fits i =  119\n"
     ]
    },
    {
     "name": "stderr",
     "output_type": "stream",
     "text": [
      "WARNING: VerifyWarning: Verification reported errors: [astropy.io.fits.verify]\n",
      "WARNING: VerifyWarning: HDU 0: [astropy.io.fits.verify]\n",
      "WARNING: VerifyWarning:     'NAXIS1' card at the wrong place (card 29).  Fixed by moving it to the right place (card 3). [astropy.io.fits.verify]\n",
      "WARNING: VerifyWarning:     'NAXIS2' card at the wrong place (card 30).  Fixed by moving it to the right place (card 4). [astropy.io.fits.verify]\n",
      "WARNING: VerifyWarning: Note: astropy.io.fits uses zero-based indexing.\n",
      " [astropy.io.fits.verify]\n"
     ]
    },
    {
     "name": "stdout",
     "output_type": "stream",
     "text": [
      "AIA20211102_000702_1600.fits i =  120\n"
     ]
    },
    {
     "name": "stderr",
     "output_type": "stream",
     "text": [
      "WARNING: VerifyWarning: Verification reported errors: [astropy.io.fits.verify]\n",
      "WARNING: VerifyWarning: HDU 0: [astropy.io.fits.verify]\n",
      "WARNING: VerifyWarning:     'NAXIS1' card at the wrong place (card 29).  Fixed by moving it to the right place (card 3). [astropy.io.fits.verify]\n",
      "WARNING: VerifyWarning:     'NAXIS2' card at the wrong place (card 30).  Fixed by moving it to the right place (card 4). [astropy.io.fits.verify]\n",
      "WARNING: VerifyWarning: Note: astropy.io.fits uses zero-based indexing.\n",
      " [astropy.io.fits.verify]\n"
     ]
    },
    {
     "name": "stdout",
     "output_type": "stream",
     "text": [
      "AIA20211102_000726_1600.fits i =  121\n"
     ]
    },
    {
     "name": "stderr",
     "output_type": "stream",
     "text": [
      "WARNING: VerifyWarning: Verification reported errors: [astropy.io.fits.verify]\n",
      "WARNING: VerifyWarning: HDU 0: [astropy.io.fits.verify]\n",
      "WARNING: VerifyWarning:     'NAXIS1' card at the wrong place (card 29).  Fixed by moving it to the right place (card 3). [astropy.io.fits.verify]\n",
      "WARNING: VerifyWarning:     'NAXIS2' card at the wrong place (card 30).  Fixed by moving it to the right place (card 4). [astropy.io.fits.verify]\n",
      "WARNING: VerifyWarning: Note: astropy.io.fits uses zero-based indexing.\n",
      " [astropy.io.fits.verify]\n"
     ]
    },
    {
     "name": "stdout",
     "output_type": "stream",
     "text": [
      "AIA20211102_000750_1600.fits i =  122\n"
     ]
    },
    {
     "name": "stderr",
     "output_type": "stream",
     "text": [
      "WARNING: VerifyWarning: Verification reported errors: [astropy.io.fits.verify]\n",
      "WARNING: VerifyWarning: HDU 0: [astropy.io.fits.verify]\n",
      "WARNING: VerifyWarning:     'NAXIS1' card at the wrong place (card 29).  Fixed by moving it to the right place (card 3). [astropy.io.fits.verify]\n",
      "WARNING: VerifyWarning:     'NAXIS2' card at the wrong place (card 30).  Fixed by moving it to the right place (card 4). [astropy.io.fits.verify]\n",
      "WARNING: VerifyWarning: Note: astropy.io.fits uses zero-based indexing.\n",
      " [astropy.io.fits.verify]\n"
     ]
    },
    {
     "name": "stdout",
     "output_type": "stream",
     "text": [
      "AIA20211102_000814_1600.fits i =  123\n"
     ]
    },
    {
     "name": "stderr",
     "output_type": "stream",
     "text": [
      "WARNING: VerifyWarning: Verification reported errors: [astropy.io.fits.verify]\n",
      "WARNING: VerifyWarning: HDU 0: [astropy.io.fits.verify]\n",
      "WARNING: VerifyWarning:     'NAXIS1' card at the wrong place (card 29).  Fixed by moving it to the right place (card 3). [astropy.io.fits.verify]\n",
      "WARNING: VerifyWarning:     'NAXIS2' card at the wrong place (card 30).  Fixed by moving it to the right place (card 4). [astropy.io.fits.verify]\n",
      "WARNING: VerifyWarning: Note: astropy.io.fits uses zero-based indexing.\n",
      " [astropy.io.fits.verify]\n"
     ]
    },
    {
     "name": "stdout",
     "output_type": "stream",
     "text": [
      "AIA20211102_000838_1600.fits i =  124\n"
     ]
    },
    {
     "name": "stderr",
     "output_type": "stream",
     "text": [
      "WARNING: VerifyWarning: Verification reported errors: [astropy.io.fits.verify]\n",
      "WARNING: VerifyWarning: HDU 0: [astropy.io.fits.verify]\n",
      "WARNING: VerifyWarning:     'NAXIS1' card at the wrong place (card 29).  Fixed by moving it to the right place (card 3). [astropy.io.fits.verify]\n",
      "WARNING: VerifyWarning:     'NAXIS2' card at the wrong place (card 30).  Fixed by moving it to the right place (card 4). [astropy.io.fits.verify]\n",
      "WARNING: VerifyWarning: Note: astropy.io.fits uses zero-based indexing.\n",
      " [astropy.io.fits.verify]\n"
     ]
    },
    {
     "name": "stdout",
     "output_type": "stream",
     "text": [
      "AIA20211102_000902_1600.fits i =  125\n"
     ]
    },
    {
     "name": "stderr",
     "output_type": "stream",
     "text": [
      "WARNING: VerifyWarning: Verification reported errors: [astropy.io.fits.verify]\n",
      "WARNING: VerifyWarning: HDU 0: [astropy.io.fits.verify]\n",
      "WARNING: VerifyWarning:     'NAXIS1' card at the wrong place (card 29).  Fixed by moving it to the right place (card 3). [astropy.io.fits.verify]\n",
      "WARNING: VerifyWarning:     'NAXIS2' card at the wrong place (card 30).  Fixed by moving it to the right place (card 4). [astropy.io.fits.verify]\n",
      "WARNING: VerifyWarning: Note: astropy.io.fits uses zero-based indexing.\n",
      " [astropy.io.fits.verify]\n"
     ]
    },
    {
     "name": "stdout",
     "output_type": "stream",
     "text": [
      "AIA20211102_000926_1600.fits i =  126\n"
     ]
    },
    {
     "name": "stderr",
     "output_type": "stream",
     "text": [
      "WARNING: VerifyWarning: Verification reported errors: [astropy.io.fits.verify]\n",
      "WARNING: VerifyWarning: HDU 0: [astropy.io.fits.verify]\n",
      "WARNING: VerifyWarning:     'NAXIS1' card at the wrong place (card 29).  Fixed by moving it to the right place (card 3). [astropy.io.fits.verify]\n",
      "WARNING: VerifyWarning:     'NAXIS2' card at the wrong place (card 30).  Fixed by moving it to the right place (card 4). [astropy.io.fits.verify]\n",
      "WARNING: VerifyWarning: Note: astropy.io.fits uses zero-based indexing.\n",
      " [astropy.io.fits.verify]\n"
     ]
    },
    {
     "name": "stdout",
     "output_type": "stream",
     "text": [
      "AIA20211102_000950_1600.fits i =  127\n"
     ]
    },
    {
     "name": "stderr",
     "output_type": "stream",
     "text": [
      "WARNING: VerifyWarning: Verification reported errors: [astropy.io.fits.verify]\n",
      "WARNING: VerifyWarning: HDU 0: [astropy.io.fits.verify]\n",
      "WARNING: VerifyWarning:     'NAXIS1' card at the wrong place (card 29).  Fixed by moving it to the right place (card 3). [astropy.io.fits.verify]\n",
      "WARNING: VerifyWarning:     'NAXIS2' card at the wrong place (card 30).  Fixed by moving it to the right place (card 4). [astropy.io.fits.verify]\n",
      "WARNING: VerifyWarning: Note: astropy.io.fits uses zero-based indexing.\n",
      " [astropy.io.fits.verify]\n"
     ]
    },
    {
     "name": "stdout",
     "output_type": "stream",
     "text": [
      "AIA20211102_001014_1600.fits i =  128\n"
     ]
    },
    {
     "name": "stderr",
     "output_type": "stream",
     "text": [
      "WARNING: VerifyWarning: Verification reported errors: [astropy.io.fits.verify]\n",
      "WARNING: VerifyWarning: HDU 0: [astropy.io.fits.verify]\n",
      "WARNING: VerifyWarning:     'NAXIS1' card at the wrong place (card 29).  Fixed by moving it to the right place (card 3). [astropy.io.fits.verify]\n",
      "WARNING: VerifyWarning:     'NAXIS2' card at the wrong place (card 30).  Fixed by moving it to the right place (card 4). [astropy.io.fits.verify]\n",
      "WARNING: VerifyWarning: Note: astropy.io.fits uses zero-based indexing.\n",
      " [astropy.io.fits.verify]\n"
     ]
    },
    {
     "name": "stdout",
     "output_type": "stream",
     "text": [
      "AIA20211102_001038_1600.fits i =  129\n"
     ]
    },
    {
     "name": "stderr",
     "output_type": "stream",
     "text": [
      "WARNING: VerifyWarning: Verification reported errors: [astropy.io.fits.verify]\n",
      "WARNING: VerifyWarning: HDU 0: [astropy.io.fits.verify]\n",
      "WARNING: VerifyWarning:     'NAXIS1' card at the wrong place (card 29).  Fixed by moving it to the right place (card 3). [astropy.io.fits.verify]\n",
      "WARNING: VerifyWarning:     'NAXIS2' card at the wrong place (card 30).  Fixed by moving it to the right place (card 4). [astropy.io.fits.verify]\n",
      "WARNING: VerifyWarning: Note: astropy.io.fits uses zero-based indexing.\n",
      " [astropy.io.fits.verify]\n"
     ]
    },
    {
     "name": "stdout",
     "output_type": "stream",
     "text": [
      "AIA20211102_001214_1600.fits i =  130\n"
     ]
    },
    {
     "name": "stderr",
     "output_type": "stream",
     "text": [
      "WARNING: VerifyWarning: Verification reported errors: [astropy.io.fits.verify]\n",
      "WARNING: VerifyWarning: HDU 0: [astropy.io.fits.verify]\n",
      "WARNING: VerifyWarning:     'NAXIS1' card at the wrong place (card 29).  Fixed by moving it to the right place (card 3). [astropy.io.fits.verify]\n",
      "WARNING: VerifyWarning:     'NAXIS2' card at the wrong place (card 30).  Fixed by moving it to the right place (card 4). [astropy.io.fits.verify]\n",
      "WARNING: VerifyWarning: Note: astropy.io.fits uses zero-based indexing.\n",
      " [astropy.io.fits.verify]\n"
     ]
    },
    {
     "name": "stdout",
     "output_type": "stream",
     "text": [
      "AIA20211102_001302_1600.fits i =  131\n"
     ]
    },
    {
     "name": "stderr",
     "output_type": "stream",
     "text": [
      "WARNING: VerifyWarning: Verification reported errors: [astropy.io.fits.verify]\n",
      "WARNING: VerifyWarning: HDU 0: [astropy.io.fits.verify]\n",
      "WARNING: VerifyWarning:     'NAXIS1' card at the wrong place (card 29).  Fixed by moving it to the right place (card 3). [astropy.io.fits.verify]\n",
      "WARNING: VerifyWarning:     'NAXIS2' card at the wrong place (card 30).  Fixed by moving it to the right place (card 4). [astropy.io.fits.verify]\n",
      "WARNING: VerifyWarning: Note: astropy.io.fits uses zero-based indexing.\n",
      " [astropy.io.fits.verify]\n"
     ]
    },
    {
     "name": "stdout",
     "output_type": "stream",
     "text": [
      "AIA20211102_001326_1600.fits i =  132\n"
     ]
    },
    {
     "name": "stderr",
     "output_type": "stream",
     "text": [
      "WARNING: VerifyWarning: Verification reported errors: [astropy.io.fits.verify]\n",
      "WARNING: VerifyWarning: HDU 0: [astropy.io.fits.verify]\n",
      "WARNING: VerifyWarning:     'NAXIS1' card at the wrong place (card 29).  Fixed by moving it to the right place (card 3). [astropy.io.fits.verify]\n",
      "WARNING: VerifyWarning:     'NAXIS2' card at the wrong place (card 30).  Fixed by moving it to the right place (card 4). [astropy.io.fits.verify]\n",
      "WARNING: VerifyWarning: Note: astropy.io.fits uses zero-based indexing.\n",
      " [astropy.io.fits.verify]\n"
     ]
    },
    {
     "name": "stdout",
     "output_type": "stream",
     "text": [
      "AIA20211102_001350_1600.fits i =  133\n"
     ]
    },
    {
     "name": "stderr",
     "output_type": "stream",
     "text": [
      "WARNING: VerifyWarning: Verification reported errors: [astropy.io.fits.verify]\n",
      "WARNING: VerifyWarning: HDU 0: [astropy.io.fits.verify]\n",
      "WARNING: VerifyWarning:     'NAXIS1' card at the wrong place (card 29).  Fixed by moving it to the right place (card 3). [astropy.io.fits.verify]\n",
      "WARNING: VerifyWarning:     'NAXIS2' card at the wrong place (card 30).  Fixed by moving it to the right place (card 4). [astropy.io.fits.verify]\n",
      "WARNING: VerifyWarning: Note: astropy.io.fits uses zero-based indexing.\n",
      " [astropy.io.fits.verify]\n"
     ]
    },
    {
     "name": "stdout",
     "output_type": "stream",
     "text": [
      "AIA20211102_001414_1600.fits i =  134\n"
     ]
    },
    {
     "name": "stderr",
     "output_type": "stream",
     "text": [
      "WARNING: VerifyWarning: Verification reported errors: [astropy.io.fits.verify]\n",
      "WARNING: VerifyWarning: HDU 0: [astropy.io.fits.verify]\n",
      "WARNING: VerifyWarning:     'NAXIS1' card at the wrong place (card 29).  Fixed by moving it to the right place (card 3). [astropy.io.fits.verify]\n",
      "WARNING: VerifyWarning:     'NAXIS2' card at the wrong place (card 30).  Fixed by moving it to the right place (card 4). [astropy.io.fits.verify]\n",
      "WARNING: VerifyWarning: Note: astropy.io.fits uses zero-based indexing.\n",
      " [astropy.io.fits.verify]\n"
     ]
    },
    {
     "name": "stdout",
     "output_type": "stream",
     "text": [
      "AIA20211102_001438_1600.fits i =  135\n"
     ]
    },
    {
     "name": "stderr",
     "output_type": "stream",
     "text": [
      "WARNING: VerifyWarning: Verification reported errors: [astropy.io.fits.verify]\n",
      "WARNING: VerifyWarning: HDU 0: [astropy.io.fits.verify]\n",
      "WARNING: VerifyWarning:     'NAXIS1' card at the wrong place (card 29).  Fixed by moving it to the right place (card 3). [astropy.io.fits.verify]\n",
      "WARNING: VerifyWarning:     'NAXIS2' card at the wrong place (card 30).  Fixed by moving it to the right place (card 4). [astropy.io.fits.verify]\n",
      "WARNING: VerifyWarning: Note: astropy.io.fits uses zero-based indexing.\n",
      " [astropy.io.fits.verify]\n"
     ]
    },
    {
     "name": "stdout",
     "output_type": "stream",
     "text": [
      "AIA20211102_001502_1600.fits i =  136\n"
     ]
    },
    {
     "name": "stderr",
     "output_type": "stream",
     "text": [
      "WARNING: VerifyWarning: Verification reported errors: [astropy.io.fits.verify]\n",
      "WARNING: VerifyWarning: HDU 0: [astropy.io.fits.verify]\n",
      "WARNING: VerifyWarning:     'NAXIS1' card at the wrong place (card 29).  Fixed by moving it to the right place (card 3). [astropy.io.fits.verify]\n",
      "WARNING: VerifyWarning:     'NAXIS2' card at the wrong place (card 30).  Fixed by moving it to the right place (card 4). [astropy.io.fits.verify]\n",
      "WARNING: VerifyWarning: Note: astropy.io.fits uses zero-based indexing.\n",
      " [astropy.io.fits.verify]\n"
     ]
    },
    {
     "name": "stdout",
     "output_type": "stream",
     "text": [
      "AIA20211102_001550_1600.fits i =  137\n"
     ]
    },
    {
     "name": "stderr",
     "output_type": "stream",
     "text": [
      "WARNING: VerifyWarning: Verification reported errors: [astropy.io.fits.verify]\n",
      "WARNING: VerifyWarning: HDU 0: [astropy.io.fits.verify]\n",
      "WARNING: VerifyWarning:     'NAXIS1' card at the wrong place (card 29).  Fixed by moving it to the right place (card 3). [astropy.io.fits.verify]\n",
      "WARNING: VerifyWarning:     'NAXIS2' card at the wrong place (card 30).  Fixed by moving it to the right place (card 4). [astropy.io.fits.verify]\n",
      "WARNING: VerifyWarning: Note: astropy.io.fits uses zero-based indexing.\n",
      " [astropy.io.fits.verify]\n"
     ]
    },
    {
     "name": "stdout",
     "output_type": "stream",
     "text": [
      "AIA20211102_001638_1600.fits i =  138\n"
     ]
    },
    {
     "name": "stderr",
     "output_type": "stream",
     "text": [
      "WARNING: VerifyWarning: Verification reported errors: [astropy.io.fits.verify]\n",
      "WARNING: VerifyWarning: HDU 0: [astropy.io.fits.verify]\n",
      "WARNING: VerifyWarning:     'NAXIS1' card at the wrong place (card 29).  Fixed by moving it to the right place (card 3). [astropy.io.fits.verify]\n",
      "WARNING: VerifyWarning:     'NAXIS2' card at the wrong place (card 30).  Fixed by moving it to the right place (card 4). [astropy.io.fits.verify]\n",
      "WARNING: VerifyWarning: Note: astropy.io.fits uses zero-based indexing.\n",
      " [astropy.io.fits.verify]\n"
     ]
    },
    {
     "name": "stdout",
     "output_type": "stream",
     "text": [
      "AIA20211102_001702_1600.fits i =  139\n"
     ]
    },
    {
     "name": "stderr",
     "output_type": "stream",
     "text": [
      "WARNING: VerifyWarning: Verification reported errors: [astropy.io.fits.verify]\n",
      "WARNING: VerifyWarning: HDU 0: [astropy.io.fits.verify]\n",
      "WARNING: VerifyWarning:     'NAXIS1' card at the wrong place (card 29).  Fixed by moving it to the right place (card 3). [astropy.io.fits.verify]\n",
      "WARNING: VerifyWarning:     'NAXIS2' card at the wrong place (card 30).  Fixed by moving it to the right place (card 4). [astropy.io.fits.verify]\n",
      "WARNING: VerifyWarning: Note: astropy.io.fits uses zero-based indexing.\n",
      " [astropy.io.fits.verify]\n"
     ]
    },
    {
     "name": "stdout",
     "output_type": "stream",
     "text": [
      "AIA20211102_001726_1600.fits i =  140\n"
     ]
    },
    {
     "name": "stderr",
     "output_type": "stream",
     "text": [
      "WARNING: VerifyWarning: Verification reported errors: [astropy.io.fits.verify]\n",
      "WARNING: VerifyWarning: HDU 0: [astropy.io.fits.verify]\n",
      "WARNING: VerifyWarning:     'NAXIS1' card at the wrong place (card 29).  Fixed by moving it to the right place (card 3). [astropy.io.fits.verify]\n",
      "WARNING: VerifyWarning:     'NAXIS2' card at the wrong place (card 30).  Fixed by moving it to the right place (card 4). [astropy.io.fits.verify]\n",
      "WARNING: VerifyWarning: Note: astropy.io.fits uses zero-based indexing.\n",
      " [astropy.io.fits.verify]\n"
     ]
    },
    {
     "name": "stdout",
     "output_type": "stream",
     "text": [
      "AIA20211102_001750_1600.fits i =  141\n"
     ]
    },
    {
     "name": "stderr",
     "output_type": "stream",
     "text": [
      "WARNING: VerifyWarning: Verification reported errors: [astropy.io.fits.verify]\n",
      "WARNING: VerifyWarning: HDU 0: [astropy.io.fits.verify]\n",
      "WARNING: VerifyWarning:     'NAXIS1' card at the wrong place (card 29).  Fixed by moving it to the right place (card 3). [astropy.io.fits.verify]\n",
      "WARNING: VerifyWarning:     'NAXIS2' card at the wrong place (card 30).  Fixed by moving it to the right place (card 4). [astropy.io.fits.verify]\n",
      "WARNING: VerifyWarning: Note: astropy.io.fits uses zero-based indexing.\n",
      " [astropy.io.fits.verify]\n"
     ]
    },
    {
     "name": "stdout",
     "output_type": "stream",
     "text": [
      "AIA20211102_001814_1600.fits i =  142\n"
     ]
    },
    {
     "name": "stderr",
     "output_type": "stream",
     "text": [
      "WARNING: VerifyWarning: Verification reported errors: [astropy.io.fits.verify]\n",
      "WARNING: VerifyWarning: HDU 0: [astropy.io.fits.verify]\n",
      "WARNING: VerifyWarning:     'NAXIS1' card at the wrong place (card 29).  Fixed by moving it to the right place (card 3). [astropy.io.fits.verify]\n",
      "WARNING: VerifyWarning:     'NAXIS2' card at the wrong place (card 30).  Fixed by moving it to the right place (card 4). [astropy.io.fits.verify]\n",
      "WARNING: VerifyWarning: Note: astropy.io.fits uses zero-based indexing.\n",
      " [astropy.io.fits.verify]\n"
     ]
    },
    {
     "name": "stdout",
     "output_type": "stream",
     "text": [
      "AIA20211102_001926_1600.fits i =  143\n"
     ]
    },
    {
     "name": "stderr",
     "output_type": "stream",
     "text": [
      "WARNING: VerifyWarning: Verification reported errors: [astropy.io.fits.verify]\n",
      "WARNING: VerifyWarning: HDU 0: [astropy.io.fits.verify]\n",
      "WARNING: VerifyWarning:     'NAXIS1' card at the wrong place (card 29).  Fixed by moving it to the right place (card 3). [astropy.io.fits.verify]\n",
      "WARNING: VerifyWarning:     'NAXIS2' card at the wrong place (card 30).  Fixed by moving it to the right place (card 4). [astropy.io.fits.verify]\n",
      "WARNING: VerifyWarning: Note: astropy.io.fits uses zero-based indexing.\n",
      " [astropy.io.fits.verify]\n"
     ]
    },
    {
     "name": "stdout",
     "output_type": "stream",
     "text": [
      "AIA20211102_001950_1600.fits i =  144\n"
     ]
    },
    {
     "name": "stderr",
     "output_type": "stream",
     "text": [
      "WARNING: VerifyWarning: Verification reported errors: [astropy.io.fits.verify]\n",
      "WARNING: VerifyWarning: HDU 0: [astropy.io.fits.verify]\n",
      "WARNING: VerifyWarning:     'NAXIS1' card at the wrong place (card 29).  Fixed by moving it to the right place (card 3). [astropy.io.fits.verify]\n",
      "WARNING: VerifyWarning:     'NAXIS2' card at the wrong place (card 30).  Fixed by moving it to the right place (card 4). [astropy.io.fits.verify]\n",
      "WARNING: VerifyWarning: Note: astropy.io.fits uses zero-based indexing.\n",
      " [astropy.io.fits.verify]\n"
     ]
    },
    {
     "name": "stdout",
     "output_type": "stream",
     "text": [
      "AIA20211102_002014_1600.fits i =  145\n"
     ]
    },
    {
     "name": "stderr",
     "output_type": "stream",
     "text": [
      "WARNING: VerifyWarning: Verification reported errors: [astropy.io.fits.verify]\n",
      "WARNING: VerifyWarning: HDU 0: [astropy.io.fits.verify]\n",
      "WARNING: VerifyWarning:     'NAXIS1' card at the wrong place (card 29).  Fixed by moving it to the right place (card 3). [astropy.io.fits.verify]\n",
      "WARNING: VerifyWarning:     'NAXIS2' card at the wrong place (card 30).  Fixed by moving it to the right place (card 4). [astropy.io.fits.verify]\n",
      "WARNING: VerifyWarning: Note: astropy.io.fits uses zero-based indexing.\n",
      " [astropy.io.fits.verify]\n"
     ]
    },
    {
     "name": "stdout",
     "output_type": "stream",
     "text": [
      "AIA20211102_002038_1600.fits i =  146\n"
     ]
    },
    {
     "name": "stderr",
     "output_type": "stream",
     "text": [
      "WARNING: VerifyWarning: Verification reported errors: [astropy.io.fits.verify]\n",
      "WARNING: VerifyWarning: HDU 0: [astropy.io.fits.verify]\n",
      "WARNING: VerifyWarning:     'NAXIS1' card at the wrong place (card 29).  Fixed by moving it to the right place (card 3). [astropy.io.fits.verify]\n",
      "WARNING: VerifyWarning:     'NAXIS2' card at the wrong place (card 30).  Fixed by moving it to the right place (card 4). [astropy.io.fits.verify]\n",
      "WARNING: VerifyWarning: Note: astropy.io.fits uses zero-based indexing.\n",
      " [astropy.io.fits.verify]\n"
     ]
    },
    {
     "name": "stdout",
     "output_type": "stream",
     "text": [
      "AIA20211102_002126_1600.fits i =  147\n"
     ]
    },
    {
     "name": "stderr",
     "output_type": "stream",
     "text": [
      "WARNING: VerifyWarning: Verification reported errors: [astropy.io.fits.verify]\n",
      "WARNING: VerifyWarning: HDU 0: [astropy.io.fits.verify]\n",
      "WARNING: VerifyWarning:     'NAXIS1' card at the wrong place (card 29).  Fixed by moving it to the right place (card 3). [astropy.io.fits.verify]\n",
      "WARNING: VerifyWarning:     'NAXIS2' card at the wrong place (card 30).  Fixed by moving it to the right place (card 4). [astropy.io.fits.verify]\n",
      "WARNING: VerifyWarning: Note: astropy.io.fits uses zero-based indexing.\n",
      " [astropy.io.fits.verify]\n"
     ]
    },
    {
     "name": "stdout",
     "output_type": "stream",
     "text": [
      "AIA20211102_002150_1600.fits i =  148\n"
     ]
    },
    {
     "name": "stderr",
     "output_type": "stream",
     "text": [
      "WARNING: VerifyWarning: Verification reported errors: [astropy.io.fits.verify]\n",
      "WARNING: VerifyWarning: HDU 0: [astropy.io.fits.verify]\n",
      "WARNING: VerifyWarning:     'NAXIS1' card at the wrong place (card 29).  Fixed by moving it to the right place (card 3). [astropy.io.fits.verify]\n",
      "WARNING: VerifyWarning:     'NAXIS2' card at the wrong place (card 30).  Fixed by moving it to the right place (card 4). [astropy.io.fits.verify]\n",
      "WARNING: VerifyWarning: Note: astropy.io.fits uses zero-based indexing.\n",
      " [astropy.io.fits.verify]\n"
     ]
    },
    {
     "name": "stdout",
     "output_type": "stream",
     "text": [
      "AIA20211102_002214_1600.fits i =  149\n"
     ]
    },
    {
     "name": "stderr",
     "output_type": "stream",
     "text": [
      "WARNING: VerifyWarning: Verification reported errors: [astropy.io.fits.verify]\n",
      "WARNING: VerifyWarning: HDU 0: [astropy.io.fits.verify]\n",
      "WARNING: VerifyWarning:     'NAXIS1' card at the wrong place (card 29).  Fixed by moving it to the right place (card 3). [astropy.io.fits.verify]\n",
      "WARNING: VerifyWarning:     'NAXIS2' card at the wrong place (card 30).  Fixed by moving it to the right place (card 4). [astropy.io.fits.verify]\n",
      "WARNING: VerifyWarning: Note: astropy.io.fits uses zero-based indexing.\n",
      " [astropy.io.fits.verify]\n"
     ]
    },
    {
     "name": "stdout",
     "output_type": "stream",
     "text": [
      "AIA20211102_002302_1600.fits i =  150\n"
     ]
    },
    {
     "name": "stderr",
     "output_type": "stream",
     "text": [
      "WARNING: VerifyWarning: Verification reported errors: [astropy.io.fits.verify]\n",
      "WARNING: VerifyWarning: HDU 0: [astropy.io.fits.verify]\n",
      "WARNING: VerifyWarning:     'NAXIS1' card at the wrong place (card 29).  Fixed by moving it to the right place (card 3). [astropy.io.fits.verify]\n",
      "WARNING: VerifyWarning:     'NAXIS2' card at the wrong place (card 30).  Fixed by moving it to the right place (card 4). [astropy.io.fits.verify]\n",
      "WARNING: VerifyWarning: Note: astropy.io.fits uses zero-based indexing.\n",
      " [astropy.io.fits.verify]\n"
     ]
    },
    {
     "name": "stdout",
     "output_type": "stream",
     "text": [
      "AIA20211102_002326_1600.fits i =  151\n"
     ]
    },
    {
     "name": "stderr",
     "output_type": "stream",
     "text": [
      "WARNING: VerifyWarning: Verification reported errors: [astropy.io.fits.verify]\n",
      "WARNING: VerifyWarning: HDU 0: [astropy.io.fits.verify]\n",
      "WARNING: VerifyWarning:     'NAXIS1' card at the wrong place (card 29).  Fixed by moving it to the right place (card 3). [astropy.io.fits.verify]\n",
      "WARNING: VerifyWarning:     'NAXIS2' card at the wrong place (card 30).  Fixed by moving it to the right place (card 4). [astropy.io.fits.verify]\n",
      "WARNING: VerifyWarning: Note: astropy.io.fits uses zero-based indexing.\n",
      " [astropy.io.fits.verify]\n"
     ]
    },
    {
     "name": "stdout",
     "output_type": "stream",
     "text": [
      "AIA20211102_002350_1600.fits i =  152\n"
     ]
    },
    {
     "name": "stderr",
     "output_type": "stream",
     "text": [
      "WARNING: VerifyWarning: Verification reported errors: [astropy.io.fits.verify]\n",
      "WARNING: VerifyWarning: HDU 0: [astropy.io.fits.verify]\n",
      "WARNING: VerifyWarning:     'NAXIS1' card at the wrong place (card 29).  Fixed by moving it to the right place (card 3). [astropy.io.fits.verify]\n",
      "WARNING: VerifyWarning:     'NAXIS2' card at the wrong place (card 30).  Fixed by moving it to the right place (card 4). [astropy.io.fits.verify]\n",
      "WARNING: VerifyWarning: Note: astropy.io.fits uses zero-based indexing.\n",
      " [astropy.io.fits.verify]\n"
     ]
    },
    {
     "name": "stdout",
     "output_type": "stream",
     "text": [
      "AIA20211102_002614_1600.fits i =  153\n"
     ]
    },
    {
     "name": "stderr",
     "output_type": "stream",
     "text": [
      "WARNING: VerifyWarning: Verification reported errors: [astropy.io.fits.verify]\n",
      "WARNING: VerifyWarning: HDU 0: [astropy.io.fits.verify]\n",
      "WARNING: VerifyWarning:     'NAXIS1' card at the wrong place (card 29).  Fixed by moving it to the right place (card 3). [astropy.io.fits.verify]\n",
      "WARNING: VerifyWarning:     'NAXIS2' card at the wrong place (card 30).  Fixed by moving it to the right place (card 4). [astropy.io.fits.verify]\n",
      "WARNING: VerifyWarning: Note: astropy.io.fits uses zero-based indexing.\n",
      " [astropy.io.fits.verify]\n"
     ]
    },
    {
     "name": "stdout",
     "output_type": "stream",
     "text": [
      "AIA20211102_002702_1600.fits i =  154\n"
     ]
    },
    {
     "name": "stderr",
     "output_type": "stream",
     "text": [
      "WARNING: VerifyWarning: Verification reported errors: [astropy.io.fits.verify]\n",
      "WARNING: VerifyWarning: HDU 0: [astropy.io.fits.verify]\n",
      "WARNING: VerifyWarning:     'NAXIS1' card at the wrong place (card 29).  Fixed by moving it to the right place (card 3). [astropy.io.fits.verify]\n",
      "WARNING: VerifyWarning:     'NAXIS2' card at the wrong place (card 30).  Fixed by moving it to the right place (card 4). [astropy.io.fits.verify]\n",
      "WARNING: VerifyWarning: Note: astropy.io.fits uses zero-based indexing.\n",
      " [astropy.io.fits.verify]\n"
     ]
    },
    {
     "name": "stdout",
     "output_type": "stream",
     "text": [
      "AIA20211102_002726_1600.fits i =  155\n"
     ]
    },
    {
     "name": "stderr",
     "output_type": "stream",
     "text": [
      "WARNING: VerifyWarning: Verification reported errors: [astropy.io.fits.verify]\n",
      "WARNING: VerifyWarning: HDU 0: [astropy.io.fits.verify]\n",
      "WARNING: VerifyWarning:     'NAXIS1' card at the wrong place (card 29).  Fixed by moving it to the right place (card 3). [astropy.io.fits.verify]\n",
      "WARNING: VerifyWarning:     'NAXIS2' card at the wrong place (card 30).  Fixed by moving it to the right place (card 4). [astropy.io.fits.verify]\n",
      "WARNING: VerifyWarning: Note: astropy.io.fits uses zero-based indexing.\n",
      " [astropy.io.fits.verify]\n"
     ]
    },
    {
     "name": "stdout",
     "output_type": "stream",
     "text": [
      "AIA20211102_002750_1600.fits i =  156\n"
     ]
    },
    {
     "name": "stderr",
     "output_type": "stream",
     "text": [
      "WARNING: VerifyWarning: Verification reported errors: [astropy.io.fits.verify]\n",
      "WARNING: VerifyWarning: HDU 0: [astropy.io.fits.verify]\n",
      "WARNING: VerifyWarning:     'NAXIS1' card at the wrong place (card 29).  Fixed by moving it to the right place (card 3). [astropy.io.fits.verify]\n",
      "WARNING: VerifyWarning:     'NAXIS2' card at the wrong place (card 30).  Fixed by moving it to the right place (card 4). [astropy.io.fits.verify]\n",
      "WARNING: VerifyWarning: Note: astropy.io.fits uses zero-based indexing.\n",
      " [astropy.io.fits.verify]\n"
     ]
    },
    {
     "name": "stdout",
     "output_type": "stream",
     "text": [
      "AIA20211102_002814_1600.fits i =  157\n"
     ]
    },
    {
     "name": "stderr",
     "output_type": "stream",
     "text": [
      "WARNING: VerifyWarning: Verification reported errors: [astropy.io.fits.verify]\n",
      "WARNING: VerifyWarning: HDU 0: [astropy.io.fits.verify]\n",
      "WARNING: VerifyWarning:     'NAXIS1' card at the wrong place (card 29).  Fixed by moving it to the right place (card 3). [astropy.io.fits.verify]\n",
      "WARNING: VerifyWarning:     'NAXIS2' card at the wrong place (card 30).  Fixed by moving it to the right place (card 4). [astropy.io.fits.verify]\n",
      "WARNING: VerifyWarning: Note: astropy.io.fits uses zero-based indexing.\n",
      " [astropy.io.fits.verify]\n"
     ]
    },
    {
     "name": "stdout",
     "output_type": "stream",
     "text": [
      "AIA20211102_002838_1600.fits i =  158\n"
     ]
    },
    {
     "name": "stderr",
     "output_type": "stream",
     "text": [
      "WARNING: VerifyWarning: Verification reported errors: [astropy.io.fits.verify]\n",
      "WARNING: VerifyWarning: HDU 0: [astropy.io.fits.verify]\n",
      "WARNING: VerifyWarning:     'NAXIS1' card at the wrong place (card 29).  Fixed by moving it to the right place (card 3). [astropy.io.fits.verify]\n",
      "WARNING: VerifyWarning:     'NAXIS2' card at the wrong place (card 30).  Fixed by moving it to the right place (card 4). [astropy.io.fits.verify]\n",
      "WARNING: VerifyWarning: Note: astropy.io.fits uses zero-based indexing.\n",
      " [astropy.io.fits.verify]\n"
     ]
    },
    {
     "name": "stdout",
     "output_type": "stream",
     "text": [
      "AIA20211102_002950_1600.fits i =  159\n"
     ]
    },
    {
     "name": "stderr",
     "output_type": "stream",
     "text": [
      "WARNING: VerifyWarning: Verification reported errors: [astropy.io.fits.verify]\n",
      "WARNING: VerifyWarning: HDU 0: [astropy.io.fits.verify]\n",
      "WARNING: VerifyWarning:     'NAXIS1' card at the wrong place (card 29).  Fixed by moving it to the right place (card 3). [astropy.io.fits.verify]\n",
      "WARNING: VerifyWarning:     'NAXIS2' card at the wrong place (card 30).  Fixed by moving it to the right place (card 4). [astropy.io.fits.verify]\n",
      "WARNING: VerifyWarning: Note: astropy.io.fits uses zero-based indexing.\n",
      " [astropy.io.fits.verify]\n"
     ]
    },
    {
     "name": "stdout",
     "output_type": "stream",
     "text": [
      "AIA20211102_003038_1600.fits i =  160\n"
     ]
    },
    {
     "name": "stderr",
     "output_type": "stream",
     "text": [
      "WARNING: VerifyWarning: Verification reported errors: [astropy.io.fits.verify]\n",
      "WARNING: VerifyWarning: HDU 0: [astropy.io.fits.verify]\n",
      "WARNING: VerifyWarning:     'NAXIS1' card at the wrong place (card 29).  Fixed by moving it to the right place (card 3). [astropy.io.fits.verify]\n",
      "WARNING: VerifyWarning:     'NAXIS2' card at the wrong place (card 30).  Fixed by moving it to the right place (card 4). [astropy.io.fits.verify]\n",
      "WARNING: VerifyWarning: Note: astropy.io.fits uses zero-based indexing.\n",
      " [astropy.io.fits.verify]\n"
     ]
    },
    {
     "name": "stdout",
     "output_type": "stream",
     "text": [
      "AIA20211102_003126_1600.fits i =  161\n"
     ]
    },
    {
     "name": "stderr",
     "output_type": "stream",
     "text": [
      "WARNING: VerifyWarning: Verification reported errors: [astropy.io.fits.verify]\n",
      "WARNING: VerifyWarning: HDU 0: [astropy.io.fits.verify]\n",
      "WARNING: VerifyWarning:     'NAXIS1' card at the wrong place (card 29).  Fixed by moving it to the right place (card 3). [astropy.io.fits.verify]\n",
      "WARNING: VerifyWarning:     'NAXIS2' card at the wrong place (card 30).  Fixed by moving it to the right place (card 4). [astropy.io.fits.verify]\n",
      "WARNING: VerifyWarning: Note: astropy.io.fits uses zero-based indexing.\n",
      " [astropy.io.fits.verify]\n"
     ]
    },
    {
     "name": "stdout",
     "output_type": "stream",
     "text": [
      "AIA20211102_003150_1600.fits i =  162\n"
     ]
    },
    {
     "name": "stderr",
     "output_type": "stream",
     "text": [
      "WARNING: VerifyWarning: Verification reported errors: [astropy.io.fits.verify]\n",
      "WARNING: VerifyWarning: HDU 0: [astropy.io.fits.verify]\n",
      "WARNING: VerifyWarning:     'NAXIS1' card at the wrong place (card 29).  Fixed by moving it to the right place (card 3). [astropy.io.fits.verify]\n",
      "WARNING: VerifyWarning:     'NAXIS2' card at the wrong place (card 30).  Fixed by moving it to the right place (card 4). [astropy.io.fits.verify]\n",
      "WARNING: VerifyWarning: Note: astropy.io.fits uses zero-based indexing.\n",
      " [astropy.io.fits.verify]\n"
     ]
    },
    {
     "name": "stdout",
     "output_type": "stream",
     "text": [
      "AIA20211102_003214_1600.fits i =  163\n"
     ]
    },
    {
     "name": "stderr",
     "output_type": "stream",
     "text": [
      "WARNING: VerifyWarning: Verification reported errors: [astropy.io.fits.verify]\n",
      "WARNING: VerifyWarning: HDU 0: [astropy.io.fits.verify]\n",
      "WARNING: VerifyWarning:     'NAXIS1' card at the wrong place (card 29).  Fixed by moving it to the right place (card 3). [astropy.io.fits.verify]\n",
      "WARNING: VerifyWarning:     'NAXIS2' card at the wrong place (card 30).  Fixed by moving it to the right place (card 4). [astropy.io.fits.verify]\n",
      "WARNING: VerifyWarning: Note: astropy.io.fits uses zero-based indexing.\n",
      " [astropy.io.fits.verify]\n"
     ]
    },
    {
     "name": "stdout",
     "output_type": "stream",
     "text": [
      "AIA20211102_003238_1600.fits i =  164\n"
     ]
    },
    {
     "name": "stderr",
     "output_type": "stream",
     "text": [
      "WARNING: VerifyWarning: Verification reported errors: [astropy.io.fits.verify]\n",
      "WARNING: VerifyWarning: HDU 0: [astropy.io.fits.verify]\n",
      "WARNING: VerifyWarning:     'NAXIS1' card at the wrong place (card 29).  Fixed by moving it to the right place (card 3). [astropy.io.fits.verify]\n",
      "WARNING: VerifyWarning:     'NAXIS2' card at the wrong place (card 30).  Fixed by moving it to the right place (card 4). [astropy.io.fits.verify]\n",
      "WARNING: VerifyWarning: Note: astropy.io.fits uses zero-based indexing.\n",
      " [astropy.io.fits.verify]\n"
     ]
    },
    {
     "name": "stdout",
     "output_type": "stream",
     "text": [
      "AIA20211102_003302_1600.fits i =  165\n"
     ]
    },
    {
     "name": "stderr",
     "output_type": "stream",
     "text": [
      "WARNING: VerifyWarning: Verification reported errors: [astropy.io.fits.verify]\n",
      "WARNING: VerifyWarning: HDU 0: [astropy.io.fits.verify]\n",
      "WARNING: VerifyWarning:     'NAXIS1' card at the wrong place (card 29).  Fixed by moving it to the right place (card 3). [astropy.io.fits.verify]\n",
      "WARNING: VerifyWarning:     'NAXIS2' card at the wrong place (card 30).  Fixed by moving it to the right place (card 4). [astropy.io.fits.verify]\n",
      "WARNING: VerifyWarning: Note: astropy.io.fits uses zero-based indexing.\n",
      " [astropy.io.fits.verify]\n"
     ]
    },
    {
     "name": "stdout",
     "output_type": "stream",
     "text": [
      "AIA20211102_003326_1600.fits i =  166\n"
     ]
    },
    {
     "name": "stderr",
     "output_type": "stream",
     "text": [
      "WARNING: VerifyWarning: Verification reported errors: [astropy.io.fits.verify]\n",
      "WARNING: VerifyWarning: HDU 0: [astropy.io.fits.verify]\n",
      "WARNING: VerifyWarning:     'NAXIS1' card at the wrong place (card 29).  Fixed by moving it to the right place (card 3). [astropy.io.fits.verify]\n",
      "WARNING: VerifyWarning:     'NAXIS2' card at the wrong place (card 30).  Fixed by moving it to the right place (card 4). [astropy.io.fits.verify]\n",
      "WARNING: VerifyWarning: Note: astropy.io.fits uses zero-based indexing.\n",
      " [astropy.io.fits.verify]\n"
     ]
    },
    {
     "name": "stdout",
     "output_type": "stream",
     "text": [
      "AIA20211102_003502_1600.fits i =  167\n"
     ]
    },
    {
     "name": "stderr",
     "output_type": "stream",
     "text": [
      "WARNING: VerifyWarning: Verification reported errors: [astropy.io.fits.verify]\n",
      "WARNING: VerifyWarning: HDU 0: [astropy.io.fits.verify]\n",
      "WARNING: VerifyWarning:     'NAXIS1' card at the wrong place (card 29).  Fixed by moving it to the right place (card 3). [astropy.io.fits.verify]\n",
      "WARNING: VerifyWarning:     'NAXIS2' card at the wrong place (card 30).  Fixed by moving it to the right place (card 4). [astropy.io.fits.verify]\n",
      "WARNING: VerifyWarning: Note: astropy.io.fits uses zero-based indexing.\n",
      " [astropy.io.fits.verify]\n"
     ]
    },
    {
     "name": "stdout",
     "output_type": "stream",
     "text": [
      "AIA20211102_003526_1600.fits i =  168\n"
     ]
    },
    {
     "name": "stderr",
     "output_type": "stream",
     "text": [
      "WARNING: VerifyWarning: Verification reported errors: [astropy.io.fits.verify]\n",
      "WARNING: VerifyWarning: HDU 0: [astropy.io.fits.verify]\n",
      "WARNING: VerifyWarning:     'NAXIS1' card at the wrong place (card 29).  Fixed by moving it to the right place (card 3). [astropy.io.fits.verify]\n",
      "WARNING: VerifyWarning:     'NAXIS2' card at the wrong place (card 30).  Fixed by moving it to the right place (card 4). [astropy.io.fits.verify]\n",
      "WARNING: VerifyWarning: Note: astropy.io.fits uses zero-based indexing.\n",
      " [astropy.io.fits.verify]\n"
     ]
    },
    {
     "name": "stdout",
     "output_type": "stream",
     "text": [
      "AIA20211102_003550_1600.fits i =  169\n"
     ]
    },
    {
     "name": "stderr",
     "output_type": "stream",
     "text": [
      "WARNING: VerifyWarning: Verification reported errors: [astropy.io.fits.verify]\n",
      "WARNING: VerifyWarning: HDU 0: [astropy.io.fits.verify]\n",
      "WARNING: VerifyWarning:     'NAXIS1' card at the wrong place (card 29).  Fixed by moving it to the right place (card 3). [astropy.io.fits.verify]\n",
      "WARNING: VerifyWarning:     'NAXIS2' card at the wrong place (card 30).  Fixed by moving it to the right place (card 4). [astropy.io.fits.verify]\n",
      "WARNING: VerifyWarning: Note: astropy.io.fits uses zero-based indexing.\n",
      " [astropy.io.fits.verify]\n"
     ]
    },
    {
     "name": "stdout",
     "output_type": "stream",
     "text": [
      "AIA20211102_003614_1600.fits i =  170\n"
     ]
    },
    {
     "name": "stderr",
     "output_type": "stream",
     "text": [
      "WARNING: VerifyWarning: Verification reported errors: [astropy.io.fits.verify]\n",
      "WARNING: VerifyWarning: HDU 0: [astropy.io.fits.verify]\n",
      "WARNING: VerifyWarning:     'NAXIS1' card at the wrong place (card 29).  Fixed by moving it to the right place (card 3). [astropy.io.fits.verify]\n",
      "WARNING: VerifyWarning:     'NAXIS2' card at the wrong place (card 30).  Fixed by moving it to the right place (card 4). [astropy.io.fits.verify]\n",
      "WARNING: VerifyWarning: Note: astropy.io.fits uses zero-based indexing.\n",
      " [astropy.io.fits.verify]\n"
     ]
    },
    {
     "name": "stdout",
     "output_type": "stream",
     "text": [
      "AIA20211102_003702_1600.fits i =  171\n"
     ]
    },
    {
     "name": "stderr",
     "output_type": "stream",
     "text": [
      "WARNING: VerifyWarning: Verification reported errors: [astropy.io.fits.verify]\n",
      "WARNING: VerifyWarning: HDU 0: [astropy.io.fits.verify]\n",
      "WARNING: VerifyWarning:     'NAXIS1' card at the wrong place (card 29).  Fixed by moving it to the right place (card 3). [astropy.io.fits.verify]\n",
      "WARNING: VerifyWarning:     'NAXIS2' card at the wrong place (card 30).  Fixed by moving it to the right place (card 4). [astropy.io.fits.verify]\n",
      "WARNING: VerifyWarning: Note: astropy.io.fits uses zero-based indexing.\n",
      " [astropy.io.fits.verify]\n"
     ]
    },
    {
     "name": "stdout",
     "output_type": "stream",
     "text": [
      "AIA20211102_003726_1600.fits i =  172\n"
     ]
    },
    {
     "name": "stderr",
     "output_type": "stream",
     "text": [
      "WARNING: VerifyWarning: Verification reported errors: [astropy.io.fits.verify]\n",
      "WARNING: VerifyWarning: HDU 0: [astropy.io.fits.verify]\n",
      "WARNING: VerifyWarning:     'NAXIS1' card at the wrong place (card 29).  Fixed by moving it to the right place (card 3). [astropy.io.fits.verify]\n",
      "WARNING: VerifyWarning:     'NAXIS2' card at the wrong place (card 30).  Fixed by moving it to the right place (card 4). [astropy.io.fits.verify]\n",
      "WARNING: VerifyWarning: Note: astropy.io.fits uses zero-based indexing.\n",
      " [astropy.io.fits.verify]\n"
     ]
    },
    {
     "name": "stdout",
     "output_type": "stream",
     "text": [
      "AIA20211102_003750_1600.fits i =  173\n"
     ]
    },
    {
     "name": "stderr",
     "output_type": "stream",
     "text": [
      "WARNING: VerifyWarning: Verification reported errors: [astropy.io.fits.verify]\n",
      "WARNING: VerifyWarning: HDU 0: [astropy.io.fits.verify]\n",
      "WARNING: VerifyWarning:     'NAXIS1' card at the wrong place (card 29).  Fixed by moving it to the right place (card 3). [astropy.io.fits.verify]\n",
      "WARNING: VerifyWarning:     'NAXIS2' card at the wrong place (card 30).  Fixed by moving it to the right place (card 4). [astropy.io.fits.verify]\n",
      "WARNING: VerifyWarning: Note: astropy.io.fits uses zero-based indexing.\n",
      " [astropy.io.fits.verify]\n"
     ]
    },
    {
     "name": "stdout",
     "output_type": "stream",
     "text": [
      "AIA20211102_003814_1600.fits i =  174\n"
     ]
    },
    {
     "name": "stderr",
     "output_type": "stream",
     "text": [
      "WARNING: VerifyWarning: Verification reported errors: [astropy.io.fits.verify]\n",
      "WARNING: VerifyWarning: HDU 0: [astropy.io.fits.verify]\n",
      "WARNING: VerifyWarning:     'NAXIS1' card at the wrong place (card 29).  Fixed by moving it to the right place (card 3). [astropy.io.fits.verify]\n",
      "WARNING: VerifyWarning:     'NAXIS2' card at the wrong place (card 30).  Fixed by moving it to the right place (card 4). [astropy.io.fits.verify]\n",
      "WARNING: VerifyWarning: Note: astropy.io.fits uses zero-based indexing.\n",
      " [astropy.io.fits.verify]\n"
     ]
    },
    {
     "name": "stdout",
     "output_type": "stream",
     "text": [
      "AIA20211102_003838_1600.fits i =  175\n"
     ]
    },
    {
     "name": "stderr",
     "output_type": "stream",
     "text": [
      "WARNING: VerifyWarning: Verification reported errors: [astropy.io.fits.verify]\n",
      "WARNING: VerifyWarning: HDU 0: [astropy.io.fits.verify]\n",
      "WARNING: VerifyWarning:     'NAXIS1' card at the wrong place (card 29).  Fixed by moving it to the right place (card 3). [astropy.io.fits.verify]\n",
      "WARNING: VerifyWarning:     'NAXIS2' card at the wrong place (card 30).  Fixed by moving it to the right place (card 4). [astropy.io.fits.verify]\n",
      "WARNING: VerifyWarning: Note: astropy.io.fits uses zero-based indexing.\n",
      " [astropy.io.fits.verify]\n"
     ]
    },
    {
     "name": "stdout",
     "output_type": "stream",
     "text": [
      "AIA20211102_003902_1600.fits i =  176\n"
     ]
    },
    {
     "name": "stderr",
     "output_type": "stream",
     "text": [
      "WARNING: VerifyWarning: Verification reported errors: [astropy.io.fits.verify]\n",
      "WARNING: VerifyWarning: HDU 0: [astropy.io.fits.verify]\n",
      "WARNING: VerifyWarning:     'NAXIS1' card at the wrong place (card 29).  Fixed by moving it to the right place (card 3). [astropy.io.fits.verify]\n",
      "WARNING: VerifyWarning:     'NAXIS2' card at the wrong place (card 30).  Fixed by moving it to the right place (card 4). [astropy.io.fits.verify]\n",
      "WARNING: VerifyWarning: Note: astropy.io.fits uses zero-based indexing.\n",
      " [astropy.io.fits.verify]\n"
     ]
    },
    {
     "name": "stdout",
     "output_type": "stream",
     "text": [
      "AIA20211102_003926_1600.fits i =  177\n"
     ]
    },
    {
     "name": "stderr",
     "output_type": "stream",
     "text": [
      "WARNING: VerifyWarning: Verification reported errors: [astropy.io.fits.verify]\n",
      "WARNING: VerifyWarning: HDU 0: [astropy.io.fits.verify]\n",
      "WARNING: VerifyWarning:     'NAXIS1' card at the wrong place (card 29).  Fixed by moving it to the right place (card 3). [astropy.io.fits.verify]\n",
      "WARNING: VerifyWarning:     'NAXIS2' card at the wrong place (card 30).  Fixed by moving it to the right place (card 4). [astropy.io.fits.verify]\n",
      "WARNING: VerifyWarning: Note: astropy.io.fits uses zero-based indexing.\n",
      " [astropy.io.fits.verify]\n"
     ]
    },
    {
     "name": "stdout",
     "output_type": "stream",
     "text": [
      "AIA20211102_003950_1600.fits i =  178\n"
     ]
    },
    {
     "name": "stderr",
     "output_type": "stream",
     "text": [
      "WARNING: VerifyWarning: Verification reported errors: [astropy.io.fits.verify]\n",
      "WARNING: VerifyWarning: HDU 0: [astropy.io.fits.verify]\n",
      "WARNING: VerifyWarning:     'NAXIS1' card at the wrong place (card 29).  Fixed by moving it to the right place (card 3). [astropy.io.fits.verify]\n",
      "WARNING: VerifyWarning:     'NAXIS2' card at the wrong place (card 30).  Fixed by moving it to the right place (card 4). [astropy.io.fits.verify]\n",
      "WARNING: VerifyWarning: Note: astropy.io.fits uses zero-based indexing.\n",
      " [astropy.io.fits.verify]\n"
     ]
    },
    {
     "name": "stdout",
     "output_type": "stream",
     "text": [
      "AIA20211102_004014_1600.fits i =  179\n"
     ]
    },
    {
     "name": "stderr",
     "output_type": "stream",
     "text": [
      "WARNING: VerifyWarning: Verification reported errors: [astropy.io.fits.verify]\n",
      "WARNING: VerifyWarning: HDU 0: [astropy.io.fits.verify]\n",
      "WARNING: VerifyWarning:     'NAXIS1' card at the wrong place (card 29).  Fixed by moving it to the right place (card 3). [astropy.io.fits.verify]\n",
      "WARNING: VerifyWarning:     'NAXIS2' card at the wrong place (card 30).  Fixed by moving it to the right place (card 4). [astropy.io.fits.verify]\n",
      "WARNING: VerifyWarning: Note: astropy.io.fits uses zero-based indexing.\n",
      " [astropy.io.fits.verify]\n"
     ]
    },
    {
     "name": "stdout",
     "output_type": "stream",
     "text": [
      "AIA20211102_004038_1600.fits i =  180\n"
     ]
    },
    {
     "name": "stderr",
     "output_type": "stream",
     "text": [
      "WARNING: VerifyWarning: Verification reported errors: [astropy.io.fits.verify]\n",
      "WARNING: VerifyWarning: HDU 0: [astropy.io.fits.verify]\n",
      "WARNING: VerifyWarning:     'NAXIS1' card at the wrong place (card 29).  Fixed by moving it to the right place (card 3). [astropy.io.fits.verify]\n",
      "WARNING: VerifyWarning:     'NAXIS2' card at the wrong place (card 30).  Fixed by moving it to the right place (card 4). [astropy.io.fits.verify]\n",
      "WARNING: VerifyWarning: Note: astropy.io.fits uses zero-based indexing.\n",
      " [astropy.io.fits.verify]\n"
     ]
    },
    {
     "name": "stdout",
     "output_type": "stream",
     "text": [
      "AIA20211102_004102_1600.fits i =  181\n"
     ]
    },
    {
     "name": "stderr",
     "output_type": "stream",
     "text": [
      "WARNING: VerifyWarning: Verification reported errors: [astropy.io.fits.verify]\n",
      "WARNING: VerifyWarning: HDU 0: [astropy.io.fits.verify]\n",
      "WARNING: VerifyWarning:     'NAXIS1' card at the wrong place (card 29).  Fixed by moving it to the right place (card 3). [astropy.io.fits.verify]\n",
      "WARNING: VerifyWarning:     'NAXIS2' card at the wrong place (card 30).  Fixed by moving it to the right place (card 4). [astropy.io.fits.verify]\n",
      "WARNING: VerifyWarning: Note: astropy.io.fits uses zero-based indexing.\n",
      " [astropy.io.fits.verify]\n"
     ]
    },
    {
     "name": "stdout",
     "output_type": "stream",
     "text": [
      "AIA20211102_004126_1600.fits i =  182\n"
     ]
    },
    {
     "name": "stderr",
     "output_type": "stream",
     "text": [
      "WARNING: VerifyWarning: Verification reported errors: [astropy.io.fits.verify]\n",
      "WARNING: VerifyWarning: HDU 0: [astropy.io.fits.verify]\n",
      "WARNING: VerifyWarning:     'NAXIS1' card at the wrong place (card 29).  Fixed by moving it to the right place (card 3). [astropy.io.fits.verify]\n",
      "WARNING: VerifyWarning:     'NAXIS2' card at the wrong place (card 30).  Fixed by moving it to the right place (card 4). [astropy.io.fits.verify]\n",
      "WARNING: VerifyWarning: Note: astropy.io.fits uses zero-based indexing.\n",
      " [astropy.io.fits.verify]\n"
     ]
    },
    {
     "name": "stdout",
     "output_type": "stream",
     "text": [
      "AIA20211102_004150_1600.fits i =  183\n"
     ]
    },
    {
     "name": "stderr",
     "output_type": "stream",
     "text": [
      "WARNING: VerifyWarning: Verification reported errors: [astropy.io.fits.verify]\n",
      "WARNING: VerifyWarning: HDU 0: [astropy.io.fits.verify]\n",
      "WARNING: VerifyWarning:     'NAXIS1' card at the wrong place (card 29).  Fixed by moving it to the right place (card 3). [astropy.io.fits.verify]\n",
      "WARNING: VerifyWarning:     'NAXIS2' card at the wrong place (card 30).  Fixed by moving it to the right place (card 4). [astropy.io.fits.verify]\n",
      "WARNING: VerifyWarning: Note: astropy.io.fits uses zero-based indexing.\n",
      " [astropy.io.fits.verify]\n"
     ]
    },
    {
     "name": "stdout",
     "output_type": "stream",
     "text": [
      "AIA20211102_004214_1600.fits i =  184\n"
     ]
    },
    {
     "name": "stderr",
     "output_type": "stream",
     "text": [
      "WARNING: VerifyWarning: Verification reported errors: [astropy.io.fits.verify]\n",
      "WARNING: VerifyWarning: HDU 0: [astropy.io.fits.verify]\n",
      "WARNING: VerifyWarning:     'NAXIS1' card at the wrong place (card 29).  Fixed by moving it to the right place (card 3). [astropy.io.fits.verify]\n",
      "WARNING: VerifyWarning:     'NAXIS2' card at the wrong place (card 30).  Fixed by moving it to the right place (card 4). [astropy.io.fits.verify]\n",
      "WARNING: VerifyWarning: Note: astropy.io.fits uses zero-based indexing.\n",
      " [astropy.io.fits.verify]\n"
     ]
    },
    {
     "name": "stdout",
     "output_type": "stream",
     "text": [
      "AIA20211102_004238_1600.fits i =  185\n"
     ]
    },
    {
     "name": "stderr",
     "output_type": "stream",
     "text": [
      "WARNING: VerifyWarning: Verification reported errors: [astropy.io.fits.verify]\n",
      "WARNING: VerifyWarning: HDU 0: [astropy.io.fits.verify]\n",
      "WARNING: VerifyWarning:     'NAXIS1' card at the wrong place (card 29).  Fixed by moving it to the right place (card 3). [astropy.io.fits.verify]\n",
      "WARNING: VerifyWarning:     'NAXIS2' card at the wrong place (card 30).  Fixed by moving it to the right place (card 4). [astropy.io.fits.verify]\n",
      "WARNING: VerifyWarning: Note: astropy.io.fits uses zero-based indexing.\n",
      " [astropy.io.fits.verify]\n"
     ]
    },
    {
     "name": "stdout",
     "output_type": "stream",
     "text": [
      "AIA20211102_004302_1600.fits i =  186\n"
     ]
    },
    {
     "name": "stderr",
     "output_type": "stream",
     "text": [
      "WARNING: VerifyWarning: Verification reported errors: [astropy.io.fits.verify]\n",
      "WARNING: VerifyWarning: HDU 0: [astropy.io.fits.verify]\n",
      "WARNING: VerifyWarning:     'NAXIS1' card at the wrong place (card 29).  Fixed by moving it to the right place (card 3). [astropy.io.fits.verify]\n",
      "WARNING: VerifyWarning:     'NAXIS2' card at the wrong place (card 30).  Fixed by moving it to the right place (card 4). [astropy.io.fits.verify]\n",
      "WARNING: VerifyWarning: Note: astropy.io.fits uses zero-based indexing.\n",
      " [astropy.io.fits.verify]\n"
     ]
    },
    {
     "name": "stdout",
     "output_type": "stream",
     "text": [
      "AIA20211102_004326_1600.fits i =  187\n"
     ]
    },
    {
     "name": "stderr",
     "output_type": "stream",
     "text": [
      "WARNING: VerifyWarning: Verification reported errors: [astropy.io.fits.verify]\n",
      "WARNING: VerifyWarning: HDU 0: [astropy.io.fits.verify]\n",
      "WARNING: VerifyWarning:     'NAXIS1' card at the wrong place (card 29).  Fixed by moving it to the right place (card 3). [astropy.io.fits.verify]\n",
      "WARNING: VerifyWarning:     'NAXIS2' card at the wrong place (card 30).  Fixed by moving it to the right place (card 4). [astropy.io.fits.verify]\n",
      "WARNING: VerifyWarning: Note: astropy.io.fits uses zero-based indexing.\n",
      " [astropy.io.fits.verify]\n"
     ]
    },
    {
     "name": "stdout",
     "output_type": "stream",
     "text": [
      "AIA20211102_004350_1600.fits i =  188\n"
     ]
    },
    {
     "name": "stderr",
     "output_type": "stream",
     "text": [
      "WARNING: VerifyWarning: Verification reported errors: [astropy.io.fits.verify]\n",
      "WARNING: VerifyWarning: HDU 0: [astropy.io.fits.verify]\n",
      "WARNING: VerifyWarning:     'NAXIS1' card at the wrong place (card 29).  Fixed by moving it to the right place (card 3). [astropy.io.fits.verify]\n",
      "WARNING: VerifyWarning:     'NAXIS2' card at the wrong place (card 30).  Fixed by moving it to the right place (card 4). [astropy.io.fits.verify]\n",
      "WARNING: VerifyWarning: Note: astropy.io.fits uses zero-based indexing.\n",
      " [astropy.io.fits.verify]\n"
     ]
    },
    {
     "name": "stdout",
     "output_type": "stream",
     "text": [
      "AIA20211102_004414_1600.fits i =  189\n"
     ]
    },
    {
     "name": "stderr",
     "output_type": "stream",
     "text": [
      "WARNING: VerifyWarning: Verification reported errors: [astropy.io.fits.verify]\n",
      "WARNING: VerifyWarning: HDU 0: [astropy.io.fits.verify]\n",
      "WARNING: VerifyWarning:     'NAXIS1' card at the wrong place (card 29).  Fixed by moving it to the right place (card 3). [astropy.io.fits.verify]\n",
      "WARNING: VerifyWarning:     'NAXIS2' card at the wrong place (card 30).  Fixed by moving it to the right place (card 4). [astropy.io.fits.verify]\n",
      "WARNING: VerifyWarning: Note: astropy.io.fits uses zero-based indexing.\n",
      " [astropy.io.fits.verify]\n"
     ]
    },
    {
     "name": "stdout",
     "output_type": "stream",
     "text": [
      "AIA20211102_004438_1600.fits i =  190\n"
     ]
    },
    {
     "name": "stderr",
     "output_type": "stream",
     "text": [
      "WARNING: VerifyWarning: Verification reported errors: [astropy.io.fits.verify]\n",
      "WARNING: VerifyWarning: HDU 0: [astropy.io.fits.verify]\n",
      "WARNING: VerifyWarning:     'NAXIS1' card at the wrong place (card 29).  Fixed by moving it to the right place (card 3). [astropy.io.fits.verify]\n",
      "WARNING: VerifyWarning:     'NAXIS2' card at the wrong place (card 30).  Fixed by moving it to the right place (card 4). [astropy.io.fits.verify]\n",
      "WARNING: VerifyWarning: Note: astropy.io.fits uses zero-based indexing.\n",
      " [astropy.io.fits.verify]\n"
     ]
    },
    {
     "name": "stdout",
     "output_type": "stream",
     "text": [
      "AIA20211102_004502_1600.fits i =  191\n"
     ]
    },
    {
     "name": "stderr",
     "output_type": "stream",
     "text": [
      "WARNING: VerifyWarning: Verification reported errors: [astropy.io.fits.verify]\n",
      "WARNING: VerifyWarning: HDU 0: [astropy.io.fits.verify]\n",
      "WARNING: VerifyWarning:     'NAXIS1' card at the wrong place (card 29).  Fixed by moving it to the right place (card 3). [astropy.io.fits.verify]\n",
      "WARNING: VerifyWarning:     'NAXIS2' card at the wrong place (card 30).  Fixed by moving it to the right place (card 4). [astropy.io.fits.verify]\n",
      "WARNING: VerifyWarning: Note: astropy.io.fits uses zero-based indexing.\n",
      " [astropy.io.fits.verify]\n"
     ]
    },
    {
     "name": "stdout",
     "output_type": "stream",
     "text": [
      "AIA20211102_004526_1600.fits i =  192\n"
     ]
    },
    {
     "name": "stderr",
     "output_type": "stream",
     "text": [
      "WARNING: VerifyWarning: Verification reported errors: [astropy.io.fits.verify]\n",
      "WARNING: VerifyWarning: HDU 0: [astropy.io.fits.verify]\n",
      "WARNING: VerifyWarning:     'NAXIS1' card at the wrong place (card 29).  Fixed by moving it to the right place (card 3). [astropy.io.fits.verify]\n",
      "WARNING: VerifyWarning:     'NAXIS2' card at the wrong place (card 30).  Fixed by moving it to the right place (card 4). [astropy.io.fits.verify]\n",
      "WARNING: VerifyWarning: Note: astropy.io.fits uses zero-based indexing.\n",
      " [astropy.io.fits.verify]\n"
     ]
    },
    {
     "name": "stdout",
     "output_type": "stream",
     "text": [
      "AIA20211102_004638_1600.fits i =  193\n"
     ]
    },
    {
     "ename": "KeyboardInterrupt",
     "evalue": "ignored",
     "output_type": "error",
     "traceback": [
      "\u001b[0;31m---------------------------------------------------------------------------\u001b[0m",
      "\u001b[0;31mKeyboardInterrupt\u001b[0m                         Traceback (most recent call last)",
      "\u001b[0;32m<ipython-input-26-d54b714fcb39>\u001b[0m in \u001b[0;36m<module>\u001b[0;34m()\u001b[0m\n\u001b[1;32m     20\u001b[0m     \u001b[0mprint\u001b[0m\u001b[0;34m(\u001b[0m\u001b[0mlistdir\u001b[0m\u001b[0;34m[\u001b[0m\u001b[0mi\u001b[0m\u001b[0;34m]\u001b[0m\u001b[0;34m,\u001b[0m \u001b[0;34m'i = '\u001b[0m\u001b[0;34m,\u001b[0m \u001b[0mi\u001b[0m\u001b[0;34m)\u001b[0m\u001b[0;34m\u001b[0m\u001b[0;34m\u001b[0m\u001b[0m\n\u001b[1;32m     21\u001b[0m \u001b[0;34m\u001b[0m\u001b[0m\n\u001b[0;32m---> 22\u001b[0;31m     \u001b[0mdiff_map\u001b[0m \u001b[0;34m=\u001b[0m \u001b[0mdiff_rot\u001b[0m\u001b[0;34m(\u001b[0m\u001b[0mraw\u001b[0m\u001b[0;34m,\u001b[0m \u001b[0mbasemap\u001b[0m\u001b[0;34m)\u001b[0m\u001b[0;34m\u001b[0m\u001b[0;34m\u001b[0m\u001b[0m\n\u001b[0m\u001b[1;32m     23\u001b[0m \u001b[0;34m\u001b[0m\u001b[0m\n\u001b[1;32m     24\u001b[0m \u001b[0;34m\u001b[0m\u001b[0m\n",
      "\u001b[0;32m<ipython-input-4-feff9a4532dd>\u001b[0m in \u001b[0;36mdiff_rot\u001b[0;34m(mapname, basemap)\u001b[0m\n\u001b[1;32m     24\u001b[0m     \u001b[0;31m# Reproject the map from the input frame to the output frame.\u001b[0m\u001b[0;34m\u001b[0m\u001b[0;34m\u001b[0m\u001b[0;34m\u001b[0m\u001b[0m\n\u001b[1;32m     25\u001b[0m     \u001b[0;32mwith\u001b[0m \u001b[0mtransform_with_sun_center\u001b[0m\u001b[0;34m(\u001b[0m\u001b[0;34m)\u001b[0m\u001b[0;34m:\u001b[0m\u001b[0;34m\u001b[0m\u001b[0;34m\u001b[0m\u001b[0m\n\u001b[0;32m---> 26\u001b[0;31m         \u001b[0marr\u001b[0m\u001b[0;34m,\u001b[0m \u001b[0m_\u001b[0m \u001b[0;34m=\u001b[0m \u001b[0mreproject_interp\u001b[0m\u001b[0;34m(\u001b[0m\u001b[0mmapname\u001b[0m\u001b[0;34m,\u001b[0m \u001b[0mout_wcs\u001b[0m\u001b[0;34m,\u001b[0m \u001b[0mout_shape\u001b[0m\u001b[0;34m)\u001b[0m\u001b[0;34m\u001b[0m\u001b[0;34m\u001b[0m\u001b[0m\n\u001b[0m\u001b[1;32m     27\u001b[0m     \u001b[0;31m# Create the output map and preserve the original map’s plot settings.\u001b[0m\u001b[0;34m\u001b[0m\u001b[0;34m\u001b[0m\u001b[0;34m\u001b[0m\u001b[0m\n\u001b[1;32m     28\u001b[0m     \u001b[0mout_warp\u001b[0m \u001b[0;34m=\u001b[0m \u001b[0msunpy\u001b[0m\u001b[0;34m.\u001b[0m\u001b[0mmap\u001b[0m\u001b[0;34m.\u001b[0m\u001b[0mMap\u001b[0m\u001b[0;34m(\u001b[0m\u001b[0marr\u001b[0m\u001b[0;34m,\u001b[0m \u001b[0mout_wcs\u001b[0m\u001b[0;34m)\u001b[0m\u001b[0;34m\u001b[0m\u001b[0;34m\u001b[0m\u001b[0m\n",
      "\u001b[0;32m/usr/local/lib/python3.7/dist-packages/astropy/utils/decorators.py\u001b[0m in \u001b[0;36mwrapper\u001b[0;34m(*args, **kwargs)\u001b[0m\n\u001b[1;32m    534\u001b[0m                     \u001b[0mwarnings\u001b[0m\u001b[0;34m.\u001b[0m\u001b[0mwarn\u001b[0m\u001b[0;34m(\u001b[0m\u001b[0mmessage\u001b[0m\u001b[0;34m,\u001b[0m \u001b[0mwarning_type\u001b[0m\u001b[0;34m,\u001b[0m \u001b[0mstacklevel\u001b[0m\u001b[0;34m=\u001b[0m\u001b[0;36m2\u001b[0m\u001b[0;34m)\u001b[0m\u001b[0;34m\u001b[0m\u001b[0;34m\u001b[0m\u001b[0m\n\u001b[1;32m    535\u001b[0m \u001b[0;34m\u001b[0m\u001b[0m\n\u001b[0;32m--> 536\u001b[0;31m             \u001b[0;32mreturn\u001b[0m \u001b[0mfunction\u001b[0m\u001b[0;34m(\u001b[0m\u001b[0;34m*\u001b[0m\u001b[0margs\u001b[0m\u001b[0;34m,\u001b[0m \u001b[0;34m**\u001b[0m\u001b[0mkwargs\u001b[0m\u001b[0;34m)\u001b[0m\u001b[0;34m\u001b[0m\u001b[0;34m\u001b[0m\u001b[0m\n\u001b[0m\u001b[1;32m    537\u001b[0m \u001b[0;34m\u001b[0m\u001b[0m\n\u001b[1;32m    538\u001b[0m         \u001b[0;32mreturn\u001b[0m \u001b[0mwrapper\u001b[0m\u001b[0;34m\u001b[0m\u001b[0;34m\u001b[0m\u001b[0m\n",
      "\u001b[0;32m/usr/local/lib/python3.7/dist-packages/reproject/interpolation/high_level.py\u001b[0m in \u001b[0;36mreproject_interp\u001b[0;34m(input_data, output_projection, shape_out, hdu_in, order, independent_celestial_slices, output_array, return_footprint)\u001b[0m\n\u001b[1;32m     84\u001b[0m \u001b[0;34m\u001b[0m\u001b[0m\n\u001b[1;32m     85\u001b[0m     return _reproject_full(array_in, wcs_in, wcs_out, shape_out=shape_out, order=order,\n\u001b[0;32m---> 86\u001b[0;31m                            array_out=output_array, return_footprint=return_footprint)\n\u001b[0m",
      "\u001b[0;32m/usr/local/lib/python3.7/dist-packages/reproject/interpolation/core.py\u001b[0m in \u001b[0;36m_reproject_full\u001b[0;34m(array, wcs_in, wcs_out, shape_out, order, array_out, return_footprint)\u001b[0m\n\u001b[1;32m     80\u001b[0m                             indexing='ij', sparse=False, copy=False)\n\u001b[1;32m     81\u001b[0m     \u001b[0mpixel_out\u001b[0m \u001b[0;34m=\u001b[0m \u001b[0;34m[\u001b[0m\u001b[0mp\u001b[0m\u001b[0;34m.\u001b[0m\u001b[0mravel\u001b[0m\u001b[0;34m(\u001b[0m\u001b[0;34m)\u001b[0m \u001b[0;32mfor\u001b[0m \u001b[0mp\u001b[0m \u001b[0;32min\u001b[0m \u001b[0mpixel_out\u001b[0m\u001b[0;34m]\u001b[0m\u001b[0;34m\u001b[0m\u001b[0;34m\u001b[0m\u001b[0m\n\u001b[0;32m---> 82\u001b[0;31m     \u001b[0mpixel_in\u001b[0m \u001b[0;34m=\u001b[0m \u001b[0mefficient_pixel_to_pixel_with_roundtrip\u001b[0m\u001b[0;34m(\u001b[0m\u001b[0mwcs_out\u001b[0m\u001b[0;34m,\u001b[0m \u001b[0mwcs_in\u001b[0m\u001b[0;34m,\u001b[0m \u001b[0;34m*\u001b[0m\u001b[0mpixel_out\u001b[0m\u001b[0;34m[\u001b[0m\u001b[0;34m:\u001b[0m\u001b[0;34m:\u001b[0m\u001b[0;34m-\u001b[0m\u001b[0;36m1\u001b[0m\u001b[0;34m]\u001b[0m\u001b[0;34m)\u001b[0m\u001b[0;34m[\u001b[0m\u001b[0;34m:\u001b[0m\u001b[0;34m:\u001b[0m\u001b[0;34m-\u001b[0m\u001b[0;36m1\u001b[0m\u001b[0;34m]\u001b[0m\u001b[0;34m\u001b[0m\u001b[0;34m\u001b[0m\u001b[0m\n\u001b[0m\u001b[1;32m     83\u001b[0m     \u001b[0mpixel_in\u001b[0m \u001b[0;34m=\u001b[0m \u001b[0mnp\u001b[0m\u001b[0;34m.\u001b[0m\u001b[0marray\u001b[0m\u001b[0;34m(\u001b[0m\u001b[0mpixel_in\u001b[0m\u001b[0;34m)\u001b[0m\u001b[0;34m\u001b[0m\u001b[0;34m\u001b[0m\u001b[0m\n\u001b[1;32m     84\u001b[0m \u001b[0;34m\u001b[0m\u001b[0m\n",
      "\u001b[0;32m/usr/local/lib/python3.7/dist-packages/reproject/wcs_utils.py\u001b[0m in \u001b[0;36mefficient_pixel_to_pixel_with_roundtrip\u001b[0;34m(wcs1, wcs2, *inputs)\u001b[0m\n\u001b[1;32m    219\u001b[0m \u001b[0;34m\u001b[0m\u001b[0m\n\u001b[1;32m    220\u001b[0m     \u001b[0;31m# Now convert back to check that coordinates round-trip, if not then set to NaN\u001b[0m\u001b[0;34m\u001b[0m\u001b[0;34m\u001b[0m\u001b[0;34m\u001b[0m\u001b[0m\n\u001b[0;32m--> 221\u001b[0;31m     \u001b[0minputs_check\u001b[0m \u001b[0;34m=\u001b[0m \u001b[0mefficient_pixel_to_pixel\u001b[0m\u001b[0;34m(\u001b[0m\u001b[0mwcs2\u001b[0m\u001b[0;34m,\u001b[0m \u001b[0mwcs1\u001b[0m\u001b[0;34m,\u001b[0m \u001b[0;34m*\u001b[0m\u001b[0moutputs\u001b[0m\u001b[0;34m)\u001b[0m\u001b[0;34m\u001b[0m\u001b[0;34m\u001b[0m\u001b[0m\n\u001b[0m\u001b[1;32m    222\u001b[0m     \u001b[0mreset\u001b[0m \u001b[0;34m=\u001b[0m \u001b[0mnp\u001b[0m\u001b[0;34m.\u001b[0m\u001b[0mzeros\u001b[0m\u001b[0;34m(\u001b[0m\u001b[0minputs_check\u001b[0m\u001b[0;34m[\u001b[0m\u001b[0;36m0\u001b[0m\u001b[0;34m]\u001b[0m\u001b[0;34m.\u001b[0m\u001b[0mshape\u001b[0m\u001b[0;34m,\u001b[0m \u001b[0mdtype\u001b[0m\u001b[0;34m=\u001b[0m\u001b[0mbool\u001b[0m\u001b[0;34m)\u001b[0m\u001b[0;34m\u001b[0m\u001b[0;34m\u001b[0m\u001b[0m\n\u001b[1;32m    223\u001b[0m     \u001b[0;32mfor\u001b[0m \u001b[0mipix\u001b[0m \u001b[0;32min\u001b[0m \u001b[0mrange\u001b[0m\u001b[0;34m(\u001b[0m\u001b[0mlen\u001b[0m\u001b[0;34m(\u001b[0m\u001b[0minputs_check\u001b[0m\u001b[0;34m)\u001b[0m\u001b[0;34m)\u001b[0m\u001b[0;34m:\u001b[0m\u001b[0;34m\u001b[0m\u001b[0;34m\u001b[0m\u001b[0m\n",
      "\u001b[0;32m/usr/local/lib/python3.7/dist-packages/reproject/wcs_utils.py\u001b[0m in \u001b[0;36mefficient_pixel_to_pixel\u001b[0;34m(wcs1, wcs2, *inputs)\u001b[0m\n\u001b[1;32m    192\u001b[0m         \u001b[0;32mif\u001b[0m \u001b[0;32mnot\u001b[0m \u001b[0misinstance\u001b[0m\u001b[0;34m(\u001b[0m\u001b[0mworld_outputs\u001b[0m\u001b[0;34m,\u001b[0m \u001b[0;34m(\u001b[0m\u001b[0mtuple\u001b[0m\u001b[0;34m,\u001b[0m \u001b[0mlist\u001b[0m\u001b[0;34m)\u001b[0m\u001b[0;34m)\u001b[0m\u001b[0;34m:\u001b[0m\u001b[0;34m\u001b[0m\u001b[0;34m\u001b[0m\u001b[0m\n\u001b[1;32m    193\u001b[0m             \u001b[0mworld_outputs\u001b[0m \u001b[0;34m=\u001b[0m \u001b[0;34m(\u001b[0m\u001b[0mworld_outputs\u001b[0m\u001b[0;34m,\u001b[0m\u001b[0;34m)\u001b[0m\u001b[0;34m\u001b[0m\u001b[0;34m\u001b[0m\u001b[0m\n\u001b[0;32m--> 194\u001b[0;31m         \u001b[0mpixel_outputs\u001b[0m \u001b[0;34m=\u001b[0m \u001b[0mwcs2\u001b[0m\u001b[0;34m.\u001b[0m\u001b[0mworld_to_pixel\u001b[0m\u001b[0;34m(\u001b[0m\u001b[0;34m*\u001b[0m\u001b[0mworld_outputs\u001b[0m\u001b[0;34m)\u001b[0m\u001b[0;34m\u001b[0m\u001b[0;34m\u001b[0m\u001b[0m\n\u001b[0m\u001b[1;32m    195\u001b[0m \u001b[0;34m\u001b[0m\u001b[0m\n\u001b[1;32m    196\u001b[0m         \u001b[0;32mfor\u001b[0m \u001b[0mipix\u001b[0m \u001b[0;32min\u001b[0m \u001b[0mrange\u001b[0m\u001b[0;34m(\u001b[0m\u001b[0mwcs2\u001b[0m\u001b[0;34m.\u001b[0m\u001b[0mpixel_n_dim\u001b[0m\u001b[0;34m)\u001b[0m\u001b[0;34m:\u001b[0m\u001b[0;34m\u001b[0m\u001b[0;34m\u001b[0m\u001b[0m\n",
      "\u001b[0;32m/usr/local/lib/python3.7/dist-packages/astropy/wcs/wcsapi/high_level_api.py\u001b[0m in \u001b[0;36mworld_to_pixel\u001b[0;34m(self, *world_objects)\u001b[0m\n\u001b[1;32m    230\u001b[0m \u001b[0;34m\u001b[0m\u001b[0m\n\u001b[1;32m    231\u001b[0m         \u001b[0;31m# Finally we convert to pixel coordinates\u001b[0m\u001b[0;34m\u001b[0m\u001b[0;34m\u001b[0m\u001b[0;34m\u001b[0m\u001b[0m\n\u001b[0;32m--> 232\u001b[0;31m         \u001b[0mpixel\u001b[0m \u001b[0;34m=\u001b[0m \u001b[0mself\u001b[0m\u001b[0;34m.\u001b[0m\u001b[0mlow_level_wcs\u001b[0m\u001b[0;34m.\u001b[0m\u001b[0mworld_to_pixel_values\u001b[0m\u001b[0;34m(\u001b[0m\u001b[0;34m*\u001b[0m\u001b[0mworld\u001b[0m\u001b[0;34m)\u001b[0m\u001b[0;34m\u001b[0m\u001b[0;34m\u001b[0m\u001b[0m\n\u001b[0m\u001b[1;32m    233\u001b[0m \u001b[0;34m\u001b[0m\u001b[0m\n\u001b[1;32m    234\u001b[0m         \u001b[0;32mreturn\u001b[0m \u001b[0mpixel\u001b[0m\u001b[0;34m\u001b[0m\u001b[0;34m\u001b[0m\u001b[0m\n",
      "\u001b[0;32m/usr/local/lib/python3.7/dist-packages/astropy/wcs/wcsapi/fitswcs.py\u001b[0m in \u001b[0;36mworld_to_pixel_values\u001b[0;34m(self, *world_arrays)\u001b[0m\n\u001b[1;32m    324\u001b[0m \u001b[0;34m\u001b[0m\u001b[0m\n\u001b[1;32m    325\u001b[0m     \u001b[0;32mdef\u001b[0m \u001b[0mworld_to_pixel_values\u001b[0m\u001b[0;34m(\u001b[0m\u001b[0mself\u001b[0m\u001b[0;34m,\u001b[0m \u001b[0;34m*\u001b[0m\u001b[0mworld_arrays\u001b[0m\u001b[0;34m)\u001b[0m\u001b[0;34m:\u001b[0m\u001b[0;34m\u001b[0m\u001b[0;34m\u001b[0m\u001b[0m\n\u001b[0;32m--> 326\u001b[0;31m         \u001b[0mpixel\u001b[0m \u001b[0;34m=\u001b[0m \u001b[0mself\u001b[0m\u001b[0;34m.\u001b[0m\u001b[0mall_world2pix\u001b[0m\u001b[0;34m(\u001b[0m\u001b[0;34m*\u001b[0m\u001b[0mworld_arrays\u001b[0m\u001b[0;34m,\u001b[0m \u001b[0;36m0\u001b[0m\u001b[0;34m)\u001b[0m\u001b[0;34m\u001b[0m\u001b[0;34m\u001b[0m\u001b[0m\n\u001b[0m\u001b[1;32m    327\u001b[0m         \u001b[0;32mreturn\u001b[0m \u001b[0mpixel\u001b[0m\u001b[0;34m[\u001b[0m\u001b[0;36m0\u001b[0m\u001b[0;34m]\u001b[0m \u001b[0;32mif\u001b[0m \u001b[0mself\u001b[0m\u001b[0;34m.\u001b[0m\u001b[0mpixel_n_dim\u001b[0m \u001b[0;34m==\u001b[0m \u001b[0;36m1\u001b[0m \u001b[0;32melse\u001b[0m \u001b[0mtuple\u001b[0m\u001b[0;34m(\u001b[0m\u001b[0mpixel\u001b[0m\u001b[0;34m)\u001b[0m\u001b[0;34m\u001b[0m\u001b[0;34m\u001b[0m\u001b[0m\n\u001b[1;32m    328\u001b[0m \u001b[0;34m\u001b[0m\u001b[0m\n",
      "\u001b[0;32m/usr/local/lib/python3.7/dist-packages/astropy/utils/decorators.py\u001b[0m in \u001b[0;36mwrapper\u001b[0;34m(*args, **kwargs)\u001b[0m\n\u001b[1;32m    534\u001b[0m                     \u001b[0mwarnings\u001b[0m\u001b[0;34m.\u001b[0m\u001b[0mwarn\u001b[0m\u001b[0;34m(\u001b[0m\u001b[0mmessage\u001b[0m\u001b[0;34m,\u001b[0m \u001b[0mwarning_type\u001b[0m\u001b[0;34m,\u001b[0m \u001b[0mstacklevel\u001b[0m\u001b[0;34m=\u001b[0m\u001b[0;36m2\u001b[0m\u001b[0;34m)\u001b[0m\u001b[0;34m\u001b[0m\u001b[0;34m\u001b[0m\u001b[0m\n\u001b[1;32m    535\u001b[0m \u001b[0;34m\u001b[0m\u001b[0m\n\u001b[0;32m--> 536\u001b[0;31m             \u001b[0;32mreturn\u001b[0m \u001b[0mfunction\u001b[0m\u001b[0;34m(\u001b[0m\u001b[0;34m*\u001b[0m\u001b[0margs\u001b[0m\u001b[0;34m,\u001b[0m \u001b[0;34m**\u001b[0m\u001b[0mkwargs\u001b[0m\u001b[0;34m)\u001b[0m\u001b[0;34m\u001b[0m\u001b[0;34m\u001b[0m\u001b[0m\n\u001b[0m\u001b[1;32m    537\u001b[0m \u001b[0;34m\u001b[0m\u001b[0m\n\u001b[1;32m    538\u001b[0m         \u001b[0;32mreturn\u001b[0m \u001b[0mwrapper\u001b[0m\u001b[0;34m\u001b[0m\u001b[0;34m\u001b[0m\u001b[0m\n",
      "\u001b[0;32m/usr/local/lib/python3.7/dist-packages/astropy/wcs/wcs.py\u001b[0m in \u001b[0;36mall_world2pix\u001b[0;34m(self, tolerance, maxiter, adaptive, detect_divergence, quiet, *args, **kwargs)\u001b[0m\n\u001b[1;32m   1892\u001b[0m                 \u001b[0madaptive\u001b[0m\u001b[0;34m=\u001b[0m\u001b[0madaptive\u001b[0m\u001b[0;34m,\u001b[0m \u001b[0mdetect_divergence\u001b[0m\u001b[0;34m=\u001b[0m\u001b[0mdetect_divergence\u001b[0m\u001b[0;34m,\u001b[0m\u001b[0;34m\u001b[0m\u001b[0;34m\u001b[0m\u001b[0m\n\u001b[1;32m   1893\u001b[0m                 quiet=quiet),\n\u001b[0;32m-> 1894\u001b[0;31m             \u001b[0;34m'input'\u001b[0m\u001b[0;34m,\u001b[0m \u001b[0;34m*\u001b[0m\u001b[0margs\u001b[0m\u001b[0;34m,\u001b[0m \u001b[0;34m**\u001b[0m\u001b[0mkwargs\u001b[0m\u001b[0;34m\u001b[0m\u001b[0;34m\u001b[0m\u001b[0m\n\u001b[0m\u001b[1;32m   1895\u001b[0m         )\n\u001b[1;32m   1896\u001b[0m \u001b[0;34m\u001b[0m\u001b[0m\n",
      "\u001b[0;32m/usr/local/lib/python3.7/dist-packages/astropy/wcs/wcs.py\u001b[0m in \u001b[0;36m_array_converter\u001b[0;34m(self, func, sky, ra_dec_order, *args)\u001b[0m\n\u001b[1;32m   1335\u001b[0m                     \"a 1-D array for each axis, followed by an origin.\")\n\u001b[1;32m   1336\u001b[0m \u001b[0;34m\u001b[0m\u001b[0m\n\u001b[0;32m-> 1337\u001b[0;31m             \u001b[0;32mreturn\u001b[0m \u001b[0m_return_list_of_arrays\u001b[0m\u001b[0;34m(\u001b[0m\u001b[0maxes\u001b[0m\u001b[0;34m,\u001b[0m \u001b[0morigin\u001b[0m\u001b[0;34m)\u001b[0m\u001b[0;34m\u001b[0m\u001b[0;34m\u001b[0m\u001b[0m\n\u001b[0m\u001b[1;32m   1338\u001b[0m \u001b[0;34m\u001b[0m\u001b[0m\n\u001b[1;32m   1339\u001b[0m         raise TypeError(\n",
      "\u001b[0;32m/usr/local/lib/python3.7/dist-packages/astropy/wcs/wcs.py\u001b[0m in \u001b[0;36m_return_list_of_arrays\u001b[0;34m(axes, origin)\u001b[0m\n\u001b[1;32m   1289\u001b[0m             \u001b[0;32mif\u001b[0m \u001b[0mra_dec_order\u001b[0m \u001b[0;32mand\u001b[0m \u001b[0msky\u001b[0m \u001b[0;34m==\u001b[0m \u001b[0;34m'input'\u001b[0m\u001b[0;34m:\u001b[0m\u001b[0;34m\u001b[0m\u001b[0;34m\u001b[0m\u001b[0m\n\u001b[1;32m   1290\u001b[0m                 \u001b[0mxy\u001b[0m \u001b[0;34m=\u001b[0m \u001b[0mself\u001b[0m\u001b[0;34m.\u001b[0m\u001b[0m_denormalize_sky\u001b[0m\u001b[0;34m(\u001b[0m\u001b[0mxy\u001b[0m\u001b[0;34m)\u001b[0m\u001b[0;34m\u001b[0m\u001b[0;34m\u001b[0m\u001b[0m\n\u001b[0;32m-> 1291\u001b[0;31m             \u001b[0moutput\u001b[0m \u001b[0;34m=\u001b[0m \u001b[0mfunc\u001b[0m\u001b[0;34m(\u001b[0m\u001b[0mxy\u001b[0m\u001b[0;34m,\u001b[0m \u001b[0morigin\u001b[0m\u001b[0;34m)\u001b[0m\u001b[0;34m\u001b[0m\u001b[0;34m\u001b[0m\u001b[0m\n\u001b[0m\u001b[1;32m   1292\u001b[0m             \u001b[0;32mif\u001b[0m \u001b[0mra_dec_order\u001b[0m \u001b[0;32mand\u001b[0m \u001b[0msky\u001b[0m \u001b[0;34m==\u001b[0m \u001b[0;34m'output'\u001b[0m\u001b[0;34m:\u001b[0m\u001b[0;34m\u001b[0m\u001b[0;34m\u001b[0m\u001b[0m\n\u001b[1;32m   1293\u001b[0m                 \u001b[0moutput\u001b[0m \u001b[0;34m=\u001b[0m \u001b[0mself\u001b[0m\u001b[0;34m.\u001b[0m\u001b[0m_normalize_sky\u001b[0m\u001b[0;34m(\u001b[0m\u001b[0moutput\u001b[0m\u001b[0;34m)\u001b[0m\u001b[0;34m\u001b[0m\u001b[0;34m\u001b[0m\u001b[0m\n",
      "\u001b[0;32m/usr/local/lib/python3.7/dist-packages/astropy/wcs/wcs.py\u001b[0m in \u001b[0;36m<lambda>\u001b[0;34m(*args, **kwargs)\u001b[0m\n\u001b[1;32m   1891\u001b[0m                 \u001b[0;34m*\u001b[0m\u001b[0margs\u001b[0m\u001b[0;34m,\u001b[0m \u001b[0mtolerance\u001b[0m\u001b[0;34m=\u001b[0m\u001b[0mtolerance\u001b[0m\u001b[0;34m,\u001b[0m \u001b[0mmaxiter\u001b[0m\u001b[0;34m=\u001b[0m\u001b[0mmaxiter\u001b[0m\u001b[0;34m,\u001b[0m\u001b[0;34m\u001b[0m\u001b[0;34m\u001b[0m\u001b[0m\n\u001b[1;32m   1892\u001b[0m                 \u001b[0madaptive\u001b[0m\u001b[0;34m=\u001b[0m\u001b[0madaptive\u001b[0m\u001b[0;34m,\u001b[0m \u001b[0mdetect_divergence\u001b[0m\u001b[0;34m=\u001b[0m\u001b[0mdetect_divergence\u001b[0m\u001b[0;34m,\u001b[0m\u001b[0;34m\u001b[0m\u001b[0;34m\u001b[0m\u001b[0m\n\u001b[0;32m-> 1893\u001b[0;31m                 quiet=quiet),\n\u001b[0m\u001b[1;32m   1894\u001b[0m             \u001b[0;34m'input'\u001b[0m\u001b[0;34m,\u001b[0m \u001b[0;34m*\u001b[0m\u001b[0margs\u001b[0m\u001b[0;34m,\u001b[0m \u001b[0;34m**\u001b[0m\u001b[0mkwargs\u001b[0m\u001b[0;34m\u001b[0m\u001b[0;34m\u001b[0m\u001b[0m\n\u001b[1;32m   1895\u001b[0m         )\n",
      "\u001b[0;32m/usr/local/lib/python3.7/dist-packages/astropy/wcs/wcs.py\u001b[0m in \u001b[0;36m_all_world2pix\u001b[0;34m(self, world, origin, tolerance, maxiter, adaptive, detect_divergence, quiet)\u001b[0m\n\u001b[1;32m   1693\u001b[0m \u001b[0;34m\u001b[0m\u001b[0m\n\u001b[1;32m   1694\u001b[0m         \u001b[0;31m# initial approximation (linear WCS based only)\u001b[0m\u001b[0;34m\u001b[0m\u001b[0;34m\u001b[0m\u001b[0;34m\u001b[0m\u001b[0m\n\u001b[0;32m-> 1695\u001b[0;31m         \u001b[0mpix0\u001b[0m \u001b[0;34m=\u001b[0m \u001b[0mself\u001b[0m\u001b[0;34m.\u001b[0m\u001b[0mwcs_world2pix\u001b[0m\u001b[0;34m(\u001b[0m\u001b[0mworld\u001b[0m\u001b[0;34m,\u001b[0m \u001b[0morigin\u001b[0m\u001b[0;34m)\u001b[0m\u001b[0;34m\u001b[0m\u001b[0;34m\u001b[0m\u001b[0m\n\u001b[0m\u001b[1;32m   1696\u001b[0m \u001b[0;34m\u001b[0m\u001b[0m\n\u001b[1;32m   1697\u001b[0m         \u001b[0;31m# Check that an iterative solution is required at all\u001b[0m\u001b[0;34m\u001b[0m\u001b[0;34m\u001b[0m\u001b[0;34m\u001b[0m\u001b[0m\n",
      "\u001b[0;32m/usr/local/lib/python3.7/dist-packages/astropy/wcs/wcs.py\u001b[0m in \u001b[0;36mwcs_world2pix\u001b[0;34m(self, *args, **kwargs)\u001b[0m\n\u001b[1;32m   2226\u001b[0m         return self._array_converter(\n\u001b[1;32m   2227\u001b[0m             \u001b[0;32mlambda\u001b[0m \u001b[0mxy\u001b[0m\u001b[0;34m,\u001b[0m \u001b[0mo\u001b[0m\u001b[0;34m:\u001b[0m \u001b[0mself\u001b[0m\u001b[0;34m.\u001b[0m\u001b[0mwcs\u001b[0m\u001b[0;34m.\u001b[0m\u001b[0ms2p\u001b[0m\u001b[0;34m(\u001b[0m\u001b[0mxy\u001b[0m\u001b[0;34m,\u001b[0m \u001b[0mo\u001b[0m\u001b[0;34m)\u001b[0m\u001b[0;34m[\u001b[0m\u001b[0;34m'pixcrd'\u001b[0m\u001b[0;34m]\u001b[0m\u001b[0;34m,\u001b[0m\u001b[0;34m\u001b[0m\u001b[0;34m\u001b[0m\u001b[0m\n\u001b[0;32m-> 2228\u001b[0;31m             'input', *args, **kwargs)\n\u001b[0m\u001b[1;32m   2229\u001b[0m     wcs_world2pix.__doc__ = \"\"\"\n\u001b[1;32m   2230\u001b[0m         \u001b[0mTransforms\u001b[0m \u001b[0mworld\u001b[0m \u001b[0mcoordinates\u001b[0m \u001b[0mto\u001b[0m \u001b[0mpixel\u001b[0m \u001b[0mcoordinates\u001b[0m\u001b[0;34m,\u001b[0m \u001b[0musing\u001b[0m \u001b[0monly\u001b[0m\u001b[0;34m\u001b[0m\u001b[0;34m\u001b[0m\u001b[0m\n",
      "\u001b[0;32m/usr/local/lib/python3.7/dist-packages/astropy/wcs/wcs.py\u001b[0m in \u001b[0;36m_array_converter\u001b[0;34m(self, func, sky, ra_dec_order, *args)\u001b[0m\n\u001b[1;32m   1322\u001b[0m             \u001b[0;32mif\u001b[0m \u001b[0mxy\u001b[0m\u001b[0;34m.\u001b[0m\u001b[0mshape\u001b[0m \u001b[0;34m==\u001b[0m \u001b[0;34m(\u001b[0m\u001b[0;34m)\u001b[0m \u001b[0;32mor\u001b[0m \u001b[0mlen\u001b[0m\u001b[0;34m(\u001b[0m\u001b[0mxy\u001b[0m\u001b[0;34m.\u001b[0m\u001b[0mshape\u001b[0m\u001b[0;34m)\u001b[0m \u001b[0;34m==\u001b[0m \u001b[0;36m1\u001b[0m\u001b[0;34m:\u001b[0m\u001b[0;34m\u001b[0m\u001b[0;34m\u001b[0m\u001b[0m\n\u001b[1;32m   1323\u001b[0m                 \u001b[0;32mreturn\u001b[0m \u001b[0m_return_list_of_arrays\u001b[0m\u001b[0;34m(\u001b[0m\u001b[0;34m[\u001b[0m\u001b[0mxy\u001b[0m\u001b[0;34m]\u001b[0m\u001b[0;34m,\u001b[0m \u001b[0morigin\u001b[0m\u001b[0;34m)\u001b[0m\u001b[0;34m\u001b[0m\u001b[0;34m\u001b[0m\u001b[0m\n\u001b[0;32m-> 1324\u001b[0;31m             \u001b[0;32mreturn\u001b[0m \u001b[0m_return_single_array\u001b[0m\u001b[0;34m(\u001b[0m\u001b[0mxy\u001b[0m\u001b[0;34m,\u001b[0m \u001b[0morigin\u001b[0m\u001b[0;34m)\u001b[0m\u001b[0;34m\u001b[0m\u001b[0;34m\u001b[0m\u001b[0m\n\u001b[0m\u001b[1;32m   1325\u001b[0m \u001b[0;34m\u001b[0m\u001b[0m\n\u001b[1;32m   1326\u001b[0m         \u001b[0;32melif\u001b[0m \u001b[0mlen\u001b[0m\u001b[0;34m(\u001b[0m\u001b[0margs\u001b[0m\u001b[0;34m)\u001b[0m \u001b[0;34m==\u001b[0m \u001b[0mself\u001b[0m\u001b[0;34m.\u001b[0m\u001b[0mnaxis\u001b[0m \u001b[0;34m+\u001b[0m \u001b[0;36m1\u001b[0m\u001b[0;34m:\u001b[0m\u001b[0;34m\u001b[0m\u001b[0;34m\u001b[0m\u001b[0m\n",
      "\u001b[0;32m/usr/local/lib/python3.7/dist-packages/astropy/wcs/wcs.py\u001b[0m in \u001b[0;36m_return_single_array\u001b[0;34m(xy, origin)\u001b[0m\n\u001b[1;32m   1306\u001b[0m             \u001b[0;32mif\u001b[0m \u001b[0mra_dec_order\u001b[0m \u001b[0;32mand\u001b[0m \u001b[0msky\u001b[0m \u001b[0;34m==\u001b[0m \u001b[0;34m'input'\u001b[0m\u001b[0;34m:\u001b[0m\u001b[0;34m\u001b[0m\u001b[0;34m\u001b[0m\u001b[0m\n\u001b[1;32m   1307\u001b[0m                 \u001b[0mxy\u001b[0m \u001b[0;34m=\u001b[0m \u001b[0mself\u001b[0m\u001b[0;34m.\u001b[0m\u001b[0m_denormalize_sky\u001b[0m\u001b[0;34m(\u001b[0m\u001b[0mxy\u001b[0m\u001b[0;34m)\u001b[0m\u001b[0;34m\u001b[0m\u001b[0;34m\u001b[0m\u001b[0m\n\u001b[0;32m-> 1308\u001b[0;31m             \u001b[0mresult\u001b[0m \u001b[0;34m=\u001b[0m \u001b[0mfunc\u001b[0m\u001b[0;34m(\u001b[0m\u001b[0mxy\u001b[0m\u001b[0;34m,\u001b[0m \u001b[0morigin\u001b[0m\u001b[0;34m)\u001b[0m\u001b[0;34m\u001b[0m\u001b[0;34m\u001b[0m\u001b[0m\n\u001b[0m\u001b[1;32m   1309\u001b[0m             \u001b[0;32mif\u001b[0m \u001b[0mra_dec_order\u001b[0m \u001b[0;32mand\u001b[0m \u001b[0msky\u001b[0m \u001b[0;34m==\u001b[0m \u001b[0;34m'output'\u001b[0m\u001b[0;34m:\u001b[0m\u001b[0;34m\u001b[0m\u001b[0;34m\u001b[0m\u001b[0m\n\u001b[1;32m   1310\u001b[0m                 \u001b[0mresult\u001b[0m \u001b[0;34m=\u001b[0m \u001b[0mself\u001b[0m\u001b[0;34m.\u001b[0m\u001b[0m_normalize_sky\u001b[0m\u001b[0;34m(\u001b[0m\u001b[0mresult\u001b[0m\u001b[0;34m)\u001b[0m\u001b[0;34m\u001b[0m\u001b[0;34m\u001b[0m\u001b[0m\n",
      "\u001b[0;32m/usr/local/lib/python3.7/dist-packages/astropy/wcs/wcs.py\u001b[0m in \u001b[0;36m<lambda>\u001b[0;34m(xy, o)\u001b[0m\n\u001b[1;32m   2225\u001b[0m             \u001b[0;32mraise\u001b[0m \u001b[0mValueError\u001b[0m\u001b[0;34m(\u001b[0m\u001b[0;34m\"No basic WCS settings were created.\"\u001b[0m\u001b[0;34m)\u001b[0m\u001b[0;34m\u001b[0m\u001b[0;34m\u001b[0m\u001b[0m\n\u001b[1;32m   2226\u001b[0m         return self._array_converter(\n\u001b[0;32m-> 2227\u001b[0;31m             \u001b[0;32mlambda\u001b[0m \u001b[0mxy\u001b[0m\u001b[0;34m,\u001b[0m \u001b[0mo\u001b[0m\u001b[0;34m:\u001b[0m \u001b[0mself\u001b[0m\u001b[0;34m.\u001b[0m\u001b[0mwcs\u001b[0m\u001b[0;34m.\u001b[0m\u001b[0ms2p\u001b[0m\u001b[0;34m(\u001b[0m\u001b[0mxy\u001b[0m\u001b[0;34m,\u001b[0m \u001b[0mo\u001b[0m\u001b[0;34m)\u001b[0m\u001b[0;34m[\u001b[0m\u001b[0;34m'pixcrd'\u001b[0m\u001b[0;34m]\u001b[0m\u001b[0;34m,\u001b[0m\u001b[0;34m\u001b[0m\u001b[0;34m\u001b[0m\u001b[0m\n\u001b[0m\u001b[1;32m   2228\u001b[0m             'input', *args, **kwargs)\n\u001b[1;32m   2229\u001b[0m     wcs_world2pix.__doc__ = \"\"\"\n",
      "\u001b[0;31mKeyboardInterrupt\u001b[0m: "
     ]
    }
   ],
   "source": [
    "#@title Only diff rotation { form-width: \"200px\" }\n",
    "data_folder = \"/content/drive/MyDrive/Colab Notebooks/20211101_flare_rib/cal/\"# put your data folder\n",
    "data_save = \"/content/drive/MyDrive/Colab Notebooks/20211101_flare_rib/fits_diff/\"\n",
    "listdir = os.listdir(data_folder) #show elements in the folder\n",
    "listdir = sorted(listdir)\n",
    "\n",
    "base = data_folder+listdir[0]\n",
    "basemap= sunpy.map.Map(base)\n",
    "base_time=basemap.date\n",
    "\n",
    "for i in range(1,len(listdir)):\n",
    "\n",
    "    try:\n",
    "        file_i=data_folder+listdir[i]\n",
    "\n",
    "        # Map\n",
    "        raw=sunpy.map.Map(file_i)\n",
    "\n",
    "        in_time = raw.date\n",
    "        print(listdir[i], 'i = ', i)\n",
    "\n",
    "        diff_map = diff_rot(raw, basemap)\n",
    "\n",
    "\n",
    "        # Resampling\n",
    "        new_dimensions = [2048, 2048] * u.pixel\n",
    "        smap = diff_map.resample(new_dimensions) #out_warp\n",
    "        smap.save(data_save+'Bdiff'+listdir[i][3:33])\n",
    "    except OSError:\n",
    "        pass\n"
   ]
  },
  {
   "cell_type": "markdown",
   "metadata": {},
   "source": [
    "## For one map"
   ]
  },
  {
   "cell_type": "code",
   "execution_count": null,
   "metadata": {
    "colab": {
     "base_uri": "https://localhost:8080/"
    },
    "id": "LpD0id4_3Sta",
    "outputId": "937b4ddb-8ab9-4ebd-f5fb-318ee2e17899"
   },
   "outputs": [
    {
     "name": "stderr",
     "output_type": "stream",
     "text": [
      "WARNING: dropping mask in Quantity column 'A_094_X0': masked Quantity not supported [astropy.table.table]\n",
      "WARNING: dropping mask in Quantity column 'A_094_Y0': masked Quantity not supported [astropy.table.table]\n",
      "WARNING: SunpyUserWarning: Integer input data has been cast to float64. [sunpy.image.transform]\n"
     ]
    }
   ],
   "source": [
    "#@title For one map { form-width: \"200px\" }\n",
    "data_folder = '/content/drive/MyDrive/Thesis project/fits_to_calibrate/' # put your data folder\n",
    "listdir = os.listdir(data_folder) #show elements in the folder\n",
    "\n",
    "basemap_file=data_folder+listdir[0]\n",
    "\n",
    "# base Map\n",
    "base_raw=sunpy.map.Map(basemap_file)\n",
    "# print(base_raw.meta)\n",
    "\n",
    "# Calibration\n",
    "# Qtable= get_pointing_table(\"2011-09-06T20:30:00\", \"2011-09-06T23:59:00\")\n",
    "# print(Qtable)\n",
    "# base_updated_pointing= update_pointing(base_raw, Qtable)\n",
    "base_updated_pointing= update_pointing(base_raw)\n",
    "base_observer_fixed= fix_observer_location(base_updated_pointing)\n",
    "base_registered = register(base_observer_fixed)\n",
    "# print('\\n\\n', base_registered.meta)\n",
    "\n",
    "# Normalization\n",
    "basemap = sunpy.map.Map(base_registered.data/base_registered.exposure_time.to(u.s).value,\n",
    "                             base_registered.meta)\n",
    "\n",
    "# Resampling\n",
    "new_dimensions = [2048, 2048] * u.pixel\n",
    "basemap = basemap.resample(new_dimensions)"
   ]
  },
  {
   "cell_type": "code",
   "execution_count": null,
   "metadata": {
    "id": "6sQHPsbU3o-M"
   },
   "outputs": [],
   "source": [
    "plt.figure()\n",
    "basemap.plot()"
   ]
  }
 ],
 "metadata": {
  "colab": {
   "collapsed_sections": [],
   "name": "Downloading&Calibration.ipynb",
   "provenance": []
  },
  "kernelspec": {
   "display_name": "Python 3",
   "language": "python",
   "name": "python3"
  },
  "language_info": {
   "codemirror_mode": {
    "name": "ipython",
    "version": 3
   },
   "file_extension": ".py",
   "mimetype": "text/x-python",
   "name": "python",
   "nbconvert_exporter": "python",
   "pygments_lexer": "ipython3",
   "version": "3.7.1"
  }
 },
 "nbformat": 4,
 "nbformat_minor": 1
}
