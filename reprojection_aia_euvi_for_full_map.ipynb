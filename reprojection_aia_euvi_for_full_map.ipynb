{
  "cells": [
    {
      "cell_type": "markdown",
      "metadata": {
        "id": "view-in-github",
        "colab_type": "text"
      },
      "source": [
        "<a href=\"https://colab.research.google.com/github/Chigaga/space_weather/blob/main/reprojection_aia_euvi_for_full_map.ipynb\" target=\"_parent\"><img src=\"https://colab.research.google.com/assets/colab-badge.svg\" alt=\"Open In Colab\"/></a>"
      ]
    },
    {
      "cell_type": "markdown",
      "metadata": {
        "id": "rxBI5SWvBRli"
      },
      "source": [
        "\n",
        "# Creating a Full Sun Map with AIA and EUVI\n",
        "\n",
        "With SDO/AIA and STEREO/A and STEREO/B, it is now possible (given specific dates)\n",
        "to combine combine three EUV images from these satellites\n",
        "to produce a full latitude / longitude map of the Sun.\n",
        "\n",
        "Need an active internet connection as well as\n",
        "`reproject <https://reproject.readthedocs.io/en/stable/>`__ v0.6 or higher installed.\n"
      ]
    },
    {
      "cell_type": "code",
      "source": [
        "!pip install sunpy\n",
        "!pip install astropy\n",
        "!pip install reproject"
      ],
      "metadata": {
        "id": "M_tikMxKBWN-"
      },
      "execution_count": null,
      "outputs": []
    },
    {
      "cell_type": "code",
      "source": [
        "!pip install zeep\n",
        "!pip install drms"
      ],
      "metadata": {
        "id": "hkVVvgedBmub"
      },
      "execution_count": null,
      "outputs": []
    },
    {
      "cell_type": "code",
      "execution_count": null,
      "metadata": {
        "id": "mZK-eyQJBRll"
      },
      "outputs": [],
      "source": [
        "import matplotlib.pyplot as plt\n",
        "import numpy as np\n",
        "from reproject import reproject_interp\n",
        "from reproject.mosaicking import reproject_and_coadd\n",
        "\n",
        "import astropy.units as u\n",
        "from astropy.coordinates import SkyCoord\n",
        "from astropy.wcs import WCS\n",
        "\n",
        "import sunpy.map\n",
        "import sunpy.sun\n",
        "from sunpy.coordinates import get_body_heliographic_stonyhurst\n",
        "from sunpy.net import Fido\n",
        "from sunpy.net import attrs as a"
      ]
    },
    {
      "cell_type": "markdown",
      "metadata": {
        "id": "R0fJv8uSBRln"
      },
      "source": [
        "To get started, let's download the data:\n",
        "\n"
      ]
    },
    {
      "cell_type": "code",
      "execution_count": null,
      "metadata": {
        "colab": {
          "base_uri": "https://localhost:8080/",
          "height": 49,
          "referenced_widgets": [
            "52855a7068244052b39871710b0d6779",
            "8448069f312545f08e51dc06dd69cf0a",
            "ef485aa644f24706ba42dae8794daa62",
            "7c867bf170044dd0ae1d467b8e3417b1",
            "9999ac13bbc343deaa9b659d73710404",
            "eb9b0d8b9daf4e818dad03605870ee28",
            "7da10c76f415452ab073c4b7592fc572",
            "78086fd06947435481e2034073e3388b",
            "916af35dfc114cb68f8c3283384791bd",
            "0ddc8ae9144d46e98663b8085d55e32d",
            "372c2e43ea7d4466b0eb91ab53e38007",
            "a2098a1538184335a068eb9e55b592d0",
            "38cb28622a7d4564956338ec53166391",
            "26236d7f8ec9474aa89e265ed7662c89",
            "cb49dfbc5d1f410bbaba7f799d245ed8",
            "780ac0d5b18f42da84775d758e1d051e",
            "eaf335a620754641939ede6c62e254ac",
            "b6828a4a749a4b31a6ea028924222c9b",
            "38be7e0189ac409688c04ca9000c099c",
            "4b9baae0ff2d41a895da7a928b760176",
            "9968f5069c534db4b80306978c07db3f",
            "8512c9798e5843fea2e8867b1a5c4196",
            "33193355d2d849628864d2adf2c3bac9",
            "29f1506268b647a7b7a4781d06adc3b8",
            "46b701e8d60e432f82aeb18f57a08142",
            "11cc5d1c12424ff7b3ae0230af6ff5a9",
            "aa656eb58a8241f492ed76b42c00fa57",
            "dd6c1e2d4cc54afcae07bd957dc9fa58",
            "9f1495b3bfa4401bac26164cfd57cf3a",
            "8d603474f8864a26b5560be796d99b69",
            "c3e3b0c9f8b546dcb078e83cb9a1d6b1",
            "3a7589fd3b21452e80a5b459c30fc2b2",
            "b62dae0b8f9345a2b660c79a5f289439",
            "8cbeee1198dc498c9ef6dcc0edd86635",
            "93f1ad1ed0d24c9096643623cf403cf3",
            "b25094b378f64a5989c0cdcdaaba5566",
            "97efa5cb2cd64950ac010ec89152973d",
            "1f583f63bbd5486ca119dfb245465149",
            "b0584f7e63994a7cbcf3fb449b968f83",
            "5061ab4bd67a46afbb11f2107446210f",
            "1f04ed319a22456097824fe0d29a520e",
            "9b5783448d3c400b9cd588261d1ff5a2",
            "8748383ae684470ea0f5e7d60ae0b35e",
            "22c3386da7cd40099ec73db72d8a4a08"
          ]
        },
        "id": "7nHge71sBRlo",
        "outputId": "d1ecfa6d-dc44-414d-fb0a-c05adfb529aa"
      },
      "outputs": [
        {
          "output_type": "display_data",
          "data": {
            "text/plain": [
              "Files Downloaded:   0%|          | 0/3 [00:00<?, ?file/s]"
            ],
            "application/vnd.jupyter.widget-view+json": {
              "version_major": 2,
              "version_minor": 0,
              "model_id": "52855a7068244052b39871710b0d6779"
            }
          },
          "metadata": {}
        },
        {
          "output_type": "display_data",
          "data": {
            "text/plain": [
              "20111101_000530_n4eua.fts:   0%|          | 0.00/8.41M [00:00<?, ?B/s]"
            ],
            "application/vnd.jupyter.widget-view+json": {
              "version_major": 2,
              "version_minor": 0,
              "model_id": "a2098a1538184335a068eb9e55b592d0"
            }
          },
          "metadata": {}
        },
        {
          "output_type": "display_data",
          "data": {
            "text/plain": [
              "20111101_000530_n4eub.fts:   0%|          | 0.00/8.41M [00:00<?, ?B/s]"
            ],
            "application/vnd.jupyter.widget-view+json": {
              "version_major": 2,
              "version_minor": 0,
              "model_id": "33193355d2d849628864d2adf2c3bac9"
            }
          },
          "metadata": {}
        },
        {
          "output_type": "display_data",
          "data": {
            "text/plain": [
              "aia_lev1_193a_2011_11_01t00_00_07_84z_image_lev1.fits:   0%|          | 0.00/12.7M [00:00<?, ?B/s]"
            ],
            "application/vnd.jupyter.widget-view+json": {
              "version_major": 2,
              "version_minor": 0,
              "model_id": "8cbeee1198dc498c9ef6dcc0edd86635"
            }
          },
          "metadata": {}
        }
      ],
      "source": [
        "stereo = (a.Instrument(\"EUVI\") &\n",
        "          a.Time('2011-11-01', '2011-11-01T00:10:00'))\n",
        "aia = (a.Instrument.aia &\n",
        "       a.Sample(24 * u.hour) &\n",
        "       a.Time('2011-11-01', '2011-11-02'))\n",
        "wave = a.Wavelength(19.5 * u.nm, 19.5 * u.nm)\n",
        "res = Fido.search(wave, aia | stereo)\n",
        "files = Fido.fetch(res)"
      ]
    },
    {
      "cell_type": "markdown",
      "metadata": {
        "id": "zP_2Y6zHBRlp"
      },
      "source": [
        "Next we create a sunpy map for each of the files.\n",
        "\n"
      ]
    },
    {
      "cell_type": "code",
      "execution_count": null,
      "metadata": {
        "id": "6J4ZOMNwBRlq"
      },
      "outputs": [],
      "source": [
        "maps = sunpy.map.Map(sorted(files))"
      ]
    },
    {
      "cell_type": "markdown",
      "metadata": {
        "id": "a8SG3vq8BRlr"
      },
      "source": [
        "To reduce memory consumption we also downsample these maps before continuing,\n",
        "you can disable this.\n",
        "\n"
      ]
    },
    {
      "cell_type": "code",
      "execution_count": null,
      "metadata": {
        "id": "sO7gS0ylBRls"
      },
      "outputs": [],
      "source": [
        "maps = [m.resample((1024, 1024)*u.pix) for m in maps]"
      ]
    },
    {
      "cell_type": "markdown",
      "metadata": {
        "id": "LKz660a4BRls"
      },
      "source": [
        "When combining these images all three need to assume the same radius of\n",
        "the Sun for the data. The AIA images specify a slightly different value\n",
        "than the IAU 2015 constant. To avoid coordinate transformation issues we\n",
        "reset this here.\n",
        "\n"
      ]
    },
    {
      "cell_type": "code",
      "execution_count": null,
      "metadata": {
        "id": "gOwAnK3uBRlt"
      },
      "outputs": [],
      "source": [
        "maps[0].meta['rsun_ref'] = sunpy.sun.constants.radius.to_value(u.m)"
      ]
    },
    {
      "cell_type": "markdown",
      "metadata": {
        "id": "jmijmncyBRlt"
      },
      "source": [
        "Next we will plot the locations of the three spacecraft with respect to\n",
        "the Sun so we can easily see the relative separations.\n",
        "\n"
      ]
    },
    {
      "cell_type": "code",
      "execution_count": null,
      "metadata": {
        "colab": {
          "base_uri": "https://localhost:8080/",
          "height": 522
        },
        "id": "jkJndAkSBRlu",
        "outputId": "d527ae01-b692-46dc-8579-2b2faf2db481"
      },
      "outputs": [
        {
          "output_type": "stream",
          "name": "stdout",
          "text": [
            "INFO: Missing metadata for solar radius: assuming the standard radius of the photosphere. [sunpy.map.mapbase]\n"
          ]
        },
        {
          "output_type": "display_data",
          "data": {
            "text/plain": [
              "<Figure size 576x576 with 1 Axes>"
            ],
            "image/png": "[encoded data removed]"
          },
          "metadata": {
            "needs_background": "light"
          }
        }
      ],
      "source": [
        "earth = get_body_heliographic_stonyhurst('earth', maps[0].date)\n",
        "\n",
        "plt.figure(figsize=(8, 8))\n",
        "r_unit = u.AU\n",
        "\n",
        "ax = plt.subplot(projection='polar')\n",
        "circle = plt.Circle((0.0, 0.0), (10*u.Rsun).to_value(r_unit),\n",
        "                    transform=ax.transProjectionAffine + ax.transAxes, color=\"yellow\",\n",
        "                    alpha=1, label=\"Sun\")\n",
        "ax.add_artist(circle)\n",
        "ax.text(earth.lon.to_value(\"rad\")+0.05, earth.radius.to_value(r_unit), \"Earth\")\n",
        "\n",
        "for this_satellite, this_coord in [(m.observatory, m.observer_coordinate) for m in maps]:\n",
        "    ax.plot(this_coord.lon.to('rad'), this_coord.radius.to(r_unit), 'o', label=this_satellite)\n",
        "\n",
        "ax.set_theta_zero_location(\"S\")\n",
        "ax.set_rlim(0, 1.3)\n",
        "\n",
        "ax.legend()\n",
        "\n",
        "plt.show()"
      ]
    },
    {
      "cell_type": "markdown",
      "metadata": {
        "id": "bD3aWjCgBRlu"
      },
      "source": [
        "The next step is to calculate the output coordinate system for the combined\n",
        "map. We select a heliographic Stonyhurst frame, and a Plate Carree (CAR)\n",
        "projection, and generate a header using `sunpy.map.make_fitswcs_header` and\n",
        "then construct a World Coordinate System (WCS) object for that header.\n",
        "\n"
      ]
    },
    {
      "cell_type": "code",
      "execution_count": null,
      "metadata": {
        "id": "yf7tixBPBRlv"
      },
      "outputs": [],
      "source": [
        "shape_out = (180, 360)  # This is set deliberately low to reduce memory consumption\n",
        "header = sunpy.map.make_fitswcs_header(shape_out,\n",
        "                                       SkyCoord(0, 0, unit=u.deg,\n",
        "                                                frame=\"heliographic_stonyhurst\",\n",
        "                                                obstime=maps[0].date),\n",
        "                                       scale=[360 / shape_out[1],\n",
        "                                              180 / shape_out[0]] * u.deg / u.pix,\n",
        "                                       wavelength=int(maps[0].meta['wavelnth']) * u.AA,\n",
        "                                       projection_code=\"CAR\")\n",
        "out_wcs = WCS(header)"
      ]
    },
    {
      "cell_type": "markdown",
      "metadata": {
        "id": "zQGZCLf5BRlv"
      },
      "source": [
        "Next we call the `reproject.mosaicking.reproject_and_coadd` function, which\n",
        "takes a list of maps, and the desired output WCS and array shape.\n",
        "\n"
      ]
    },
    {
      "cell_type": "code",
      "execution_count": null,
      "metadata": {
        "colab": {
          "base_uri": "https://localhost:8080/"
        },
        "id": "LaGMeyW6BRlw",
        "outputId": "88f90022-4214-41a2-bab2-4b210061997f"
      },
      "outputs": [
        {
          "output_type": "stream",
          "name": "stdout",
          "text": [
            "INFO: Missing metadata for solar radius: assuming the standard radius of the photosphere. [sunpy.map.mapbase]\n"
          ]
        }
      ],
      "source": [
        "array, footprint = reproject_and_coadd(maps, out_wcs, shape_out,\n",
        "                                       reproject_function=reproject_interp)"
      ]
    },
    {
      "cell_type": "markdown",
      "metadata": {
        "id": "8rTAeHTPBRlw"
      },
      "source": [
        "To display the output we construct a new map using the new array and our\n",
        "generated header. We also borrow the plot settings from the AIA map.\n",
        "\n"
      ]
    },
    {
      "cell_type": "code",
      "execution_count": null,
      "metadata": {
        "colab": {
          "base_uri": "https://localhost:8080/",
          "height": 250
        },
        "id": "aDqCf9k-BRlx",
        "outputId": "745ef1da-a1be-4ea0-b439-99751f8eefac"
      },
      "outputs": [
        {
          "output_type": "display_data",
          "data": {
            "text/plain": [
              "<Figure size 432x288 with 1 Axes>"
            ],
            "image/png": "[encoded data removed]"
          },
          "metadata": {
            "needs_background": "light"
          }
        }
      ],
      "source": [
        "outmap = sunpy.map.Map((array, header))\n",
        "outmap.plot_settings = maps[0].plot_settings\n",
        "outmap.plot()\n",
        "\n",
        "plt.show()"
      ]
    },
    {
      "cell_type": "markdown",
      "metadata": {
        "id": "7vFk_8ecBRlx"
      },
      "source": [
        "## Improving the Output\n",
        "\n",
        "As you can see this leaves a little to be desired. To reduce the obvious\n",
        "warping towards the points which are close to the limb in the input\n",
        "images, we can define a set of weights to use when co-adding the output\n",
        "arrays. To reduce this warping we want to calculate an set of weights\n",
        "which highly weigh points close to the centre of the disk in the input\n",
        "image.\n",
        "\n",
        "We can achieve this by using sunpy's coordinate framework. First we\n",
        "calculate all the world coordinates for all the pixels in all three\n",
        "input maps.\n",
        "\n"
      ]
    },
    {
      "cell_type": "code",
      "execution_count": null,
      "metadata": {
        "id": "u59X7ZUCBRlx"
      },
      "outputs": [],
      "source": [
        "coordinates = tuple(map(sunpy.map.all_coordinates_from_map, maps))"
      ]
    },
    {
      "cell_type": "markdown",
      "metadata": {
        "id": "-dw4qVdaBRly"
      },
      "source": [
        "To get a weighting which is high close to disk centre and low towards\n",
        "the limb, we can use the Z coordinate in the heliocentric frame. This\n",
        "coordinate is the distance of the sphere from the centre of the Sun\n",
        "towards the observer.\n",
        "\n"
      ]
    },
    {
      "cell_type": "code",
      "execution_count": null,
      "metadata": {
        "id": "id2zsspWBRly"
      },
      "outputs": [],
      "source": [
        "weights = [coord.transform_to(\"heliocentric\").z.value for coord in coordinates]"
      ]
    },
    {
      "cell_type": "markdown",
      "metadata": {
        "id": "rcfpjbBRBRly"
      },
      "source": [
        "These weights are good, but they are better if the ramp down is a little\n",
        "smoother, and more biased to the centre. Also we can scale them to the\n",
        "range 0-1, and set any off disk (NaN) regions to 0.\n",
        "\n"
      ]
    },
    {
      "cell_type": "code",
      "execution_count": null,
      "metadata": {
        "colab": {
          "base_uri": "https://localhost:8080/",
          "height": 269
        },
        "id": "JcHXxMc1BRly",
        "outputId": "320b774a-63ea-4836-c2f3-fba2e0326b57"
      },
      "outputs": [
        {
          "output_type": "display_data",
          "data": {
            "text/plain": [
              "<Figure size 432x288 with 2 Axes>"
            ],
            "image/png": "[encoded data removed]"
          },
          "metadata": {
            "needs_background": "light"
          }
        }
      ],
      "source": [
        "weights = [(w / np.nanmax(w)) ** 3 for w in weights]\n",
        "for w in weights:\n",
        "    w[np.isnan(w)] = 0\n",
        "\n",
        "plt.figure()\n",
        "plt.imshow(weights[0])\n",
        "plt.colorbar()\n",
        "\n",
        "plt.show()"
      ]
    },
    {
      "cell_type": "markdown",
      "metadata": {
        "id": "yYf6hwBIBRlz"
      },
      "source": [
        "Now we can rerun the reprojection. This time we also set\n",
        "``match_background=True`` which scales the images by a single scaling\n",
        "factor so they are of similar brightness. We also set\n",
        "``background_reference=0`` which uses the AIA map as the reference for\n",
        "the background scaling.\n",
        "\n",
        "Here we are using the fastest but least accurate method of reprojection,\n",
        "`reproject.reproject_interp`, a more accurate but slower method is\n",
        "`reproject.reproject_adaptive`.\n",
        "\n"
      ]
    },
    {
      "cell_type": "code",
      "execution_count": null,
      "metadata": {
        "id": "JeCCY1XYBRlz"
      },
      "outputs": [],
      "source": [
        "array, _ = reproject_and_coadd(maps, out_wcs, shape_out,\n",
        "                               input_weights=weights,\n",
        "                               reproject_function=reproject_interp,\n",
        "                               match_background=True,\n",
        "                               background_reference=0)"
      ]
    },
    {
      "cell_type": "markdown",
      "metadata": {
        "id": "bOvjKRa1BRlz"
      },
      "source": [
        "Once again we create a new map, and this time we customise the plot a\n",
        "little.\n",
        "\n"
      ]
    },
    {
      "cell_type": "code",
      "execution_count": null,
      "metadata": {
        "colab": {
          "base_uri": "https://localhost:8080/",
          "height": 346
        },
        "id": "xXTFi6QGBRlz",
        "outputId": "76db4f89-9fc8-4796-8354-c88b011e2059"
      },
      "outputs": [
        {
          "output_type": "stream",
          "name": "stderr",
          "text": [
            "WARNING: SunpyUserWarning: The map world coordinate system (WCS) is different from the axes WCS. The map data axes may not correctly align with the coordinate axes. To automatically transform the data to the coordinate axes, specify `autoalign=True`. [sunpy.map.mapbase]\n"
          ]
        },
        {
          "output_type": "display_data",
          "data": {
            "text/plain": [
              "<Figure size 720x360 with 2 Axes>"
            ],
            "image/png": "[encoded data removed]"
          },
          "metadata": {
            "needs_background": "light"
          }
        }
      ],
      "source": [
        "outmap = sunpy.map.Map((array, header))\n",
        "outmap.plot_settings = maps[0].plot_settings\n",
        "outmap.nickname = 'AIA + EUVI/A + EUVI/B'\n",
        "\n",
        "plt.figure(figsize=(10, 5))\n",
        "ax = plt.subplot(projection=out_wcs)\n",
        "im = outmap.plot(vmin=400)\n",
        "\n",
        "lon, lat = ax.coords\n",
        "lon.set_coord_type(\"longitude\")\n",
        "lon.coord_wrap = 180\n",
        "lon.set_format_unit(u.deg)\n",
        "lat.set_coord_type(\"latitude\")\n",
        "lat.set_format_unit(u.deg)\n",
        "\n",
        "lon.set_axislabel('Heliographic Longitude', minpad=0.8)\n",
        "lat.set_axislabel('Heliographic Latitude', minpad=0.9)\n",
        "lon.set_ticks(spacing=25*u.deg, color='k')\n",
        "lat.set_ticks(spacing=15*u.deg, color='k')\n",
        "\n",
        "plt.colorbar(im, ax=ax)\n",
        "\n",
        "# Reset the view to pixel centers\n",
        "_ = ax.axis((0, shape_out[1], 0, shape_out[0]))\n",
        "\n",
        "plt.show()"
      ]
    }
  ],
  "metadata": {
    "kernelspec": {
      "display_name": "Python 3",
      "language": "python",
      "name": "python3"
    },
    "language_info": {
      "codemirror_mode": {
        "name": "ipython",
        "version": 3
      },
      "file_extension": ".py",
      "mimetype": "text/x-python",
      "name": "python",
      "nbconvert_exporter": "python",
      "pygments_lexer": "ipython3",
      "version": "3.9.7"
    },
    "colab": {
      "name": "reprojection_aia_euvi_mosaic.ipynb",
      "provenance": [],
      "include_colab_link": true
    },
    "widgets": {
      "application/vnd.jupyter.widget-state+json": {
        "52855a7068244052b39871710b0d6779": {
          "model_module": "@jupyter-widgets/controls",
          "model_name": "HBoxModel",
          "model_module_version": "1.5.0",
          "state": {
            "_dom_classes": [],
            "_model_module": "@jupyter-widgets/controls",
            "_model_module_version": "1.5.0",
            "_model_name": "HBoxModel",
            "_view_count": null,
            "_view_module": "@jupyter-widgets/controls",
            "_view_module_version": "1.5.0",
            "_view_name": "HBoxView",
            "box_style": "",
            "children": [
              "IPY_MODEL_8448069f312545f08e51dc06dd69cf0a",
              "IPY_MODEL_ef485aa644f24706ba42dae8794daa62",
              "IPY_MODEL_7c867bf170044dd0ae1d467b8e3417b1"
            ],
            "layout": "IPY_MODEL_9999ac13bbc343deaa9b659d73710404"
          }
        },
        "8448069f312545f08e51dc06dd69cf0a": {
          "model_module": "@jupyter-widgets/controls",
          "model_name": "HTMLModel",
          "model_module_version": "1.5.0",
          "state": {
            "_dom_classes": [],
            "_model_module": "@jupyter-widgets/controls",
            "_model_module_version": "1.5.0",
            "_model_name": "HTMLModel",
            "_view_count": null,
            "_view_module": "@jupyter-widgets/controls",
            "_view_module_version": "1.5.0",
            "_view_name": "HTMLView",
            "description": "",
            "description_tooltip": null,
            "layout": "IPY_MODEL_eb9b0d8b9daf4e818dad03605870ee28",
            "placeholder": "​",
            "style": "IPY_MODEL_7da10c76f415452ab073c4b7592fc572",
            "value": "Files Downloaded: 100%"
          }
        },
        "ef485aa644f24706ba42dae8794daa62": {
          "model_module": "@jupyter-widgets/controls",
          "model_name": "FloatProgressModel",
          "model_module_version": "1.5.0",
          "state": {
            "_dom_classes": [],
            "_model_module": "@jupyter-widgets/controls",
            "_model_module_version": "1.5.0",
            "_model_name": "FloatProgressModel",
            "_view_count": null,
            "_view_module": "@jupyter-widgets/controls",
            "_view_module_version": "1.5.0",
            "_view_name": "ProgressView",
            "bar_style": "success",
            "description": "",
            "description_tooltip": null,
            "layout": "IPY_MODEL_78086fd06947435481e2034073e3388b",
            "max": 3,
            "min": 0,
            "orientation": "horizontal",
            "style": "IPY_MODEL_916af35dfc114cb68f8c3283384791bd",
            "value": 3
          }
        },
        "7c867bf170044dd0ae1d467b8e3417b1": {
          "model_module": "@jupyter-widgets/controls",
          "model_name": "HTMLModel",
          "model_module_version": "1.5.0",
          "state": {
            "_dom_classes": [],
            "_model_module": "@jupyter-widgets/controls",
            "_model_module_version": "1.5.0",
            "_model_name": "HTMLModel",
            "_view_count": null,
            "_view_module": "@jupyter-widgets/controls",
            "_view_module_version": "1.5.0",
            "_view_name": "HTMLView",
            "description": "",
            "description_tooltip": null,
            "layout": "IPY_MODEL_0ddc8ae9144d46e98663b8085d55e32d",
            "placeholder": "​",
            "style": "IPY_MODEL_372c2e43ea7d4466b0eb91ab53e38007",
            "value": " 3/3 [00:18&lt;00:00,  6.19s/file]"
          }
        },
        "9999ac13bbc343deaa9b659d73710404": {
          "model_module": "@jupyter-widgets/base",
          "model_name": "LayoutModel",
          "model_module_version": "1.2.0",
          "state": {
            "_model_module": "@jupyter-widgets/base",
            "_model_module_version": "1.2.0",
            "_model_name": "LayoutModel",
            "_view_count": null,
            "_view_module": "@jupyter-widgets/base",
            "_view_module_version": "1.2.0",
            "_view_name": "LayoutView",
            "align_content": null,
            "align_items": null,
            "align_self": null,
            "border": null,
            "bottom": null,
            "display": null,
            "flex": null,
            "flex_flow": null,
            "grid_area": null,
            "grid_auto_columns": null,
            "grid_auto_flow": null,
            "grid_auto_rows": null,
            "grid_column": null,
            "grid_gap": null,
            "grid_row": null,
            "grid_template_areas": null,
            "grid_template_columns": null,
            "grid_template_rows": null,
            "height": null,
            "justify_content": null,
            "justify_items": null,
            "left": null,
            "margin": null,
            "max_height": null,
            "max_width": null,
            "min_height": null,
            "min_width": null,
            "object_fit": null,
            "object_position": null,
            "order": null,
            "overflow": null,
            "overflow_x": null,
            "overflow_y": null,
            "padding": null,
            "right": null,
            "top": null,
            "visibility": null,
            "width": null
          }
        },
        "eb9b0d8b9daf4e818dad03605870ee28": {
          "model_module": "@jupyter-widgets/base",
          "model_name": "LayoutModel",
          "model_module_version": "1.2.0",
          "state": {
            "_model_module": "@jupyter-widgets/base",
            "_model_module_version": "1.2.0",
            "_model_name": "LayoutModel",
            "_view_count": null,
            "_view_module": "@jupyter-widgets/base",
            "_view_module_version": "1.2.0",
            "_view_name": "LayoutView",
            "align_content": null,
            "align_items": null,
            "align_self": null,
            "border": null,
            "bottom": null,
            "display": null,
            "flex": null,
            "flex_flow": null,
            "grid_area": null,
            "grid_auto_columns": null,
            "grid_auto_flow": null,
            "grid_auto_rows": null,
            "grid_column": null,
            "grid_gap": null,
            "grid_row": null,
            "grid_template_areas": null,
            "grid_template_columns": null,
            "grid_template_rows": null,
            "height": null,
            "justify_content": null,
            "justify_items": null,
            "left": null,
            "margin": null,
            "max_height": null,
            "max_width": null,
            "min_height": null,
            "min_width": null,
            "object_fit": null,
            "object_position": null,
            "order": null,
            "overflow": null,
            "overflow_x": null,
            "overflow_y": null,
            "padding": null,
            "right": null,
            "top": null,
            "visibility": null,
            "width": null
          }
        },
        "7da10c76f415452ab073c4b7592fc572": {
          "model_module": "@jupyter-widgets/controls",
          "model_name": "DescriptionStyleModel",
          "model_module_version": "1.5.0",
          "state": {
            "_model_module": "@jupyter-widgets/controls",
            "_model_module_version": "1.5.0",
            "_model_name": "DescriptionStyleModel",
            "_view_count": null,
            "_view_module": "@jupyter-widgets/base",
            "_view_module_version": "1.2.0",
            "_view_name": "StyleView",
            "description_width": ""
          }
        },
        "78086fd06947435481e2034073e3388b": {
          "model_module": "@jupyter-widgets/base",
          "model_name": "LayoutModel",
          "model_module_version": "1.2.0",
          "state": {
            "_model_module": "@jupyter-widgets/base",
            "_model_module_version": "1.2.0",
            "_model_name": "LayoutModel",
            "_view_count": null,
            "_view_module": "@jupyter-widgets/base",
            "_view_module_version": "1.2.0",
            "_view_name": "LayoutView",
            "align_content": null,
            "align_items": null,
            "align_self": null,
            "border": null,
            "bottom": null,
            "display": null,
            "flex": null,
            "flex_flow": null,
            "grid_area": null,
            "grid_auto_columns": null,
            "grid_auto_flow": null,
            "grid_auto_rows": null,
            "grid_column": null,
            "grid_gap": null,
            "grid_row": null,
            "grid_template_areas": null,
            "grid_template_columns": null,
            "grid_template_rows": null,
            "height": null,
            "justify_content": null,
            "justify_items": null,
            "left": null,
            "margin": null,
            "max_height": null,
            "max_width": null,
            "min_height": null,
            "min_width": null,
            "object_fit": null,
            "object_position": null,
            "order": null,
            "overflow": null,
            "overflow_x": null,
            "overflow_y": null,
            "padding": null,
            "right": null,
            "top": null,
            "visibility": null,
            "width": null
          }
        },
        "916af35dfc114cb68f8c3283384791bd": {
          "model_module": "@jupyter-widgets/controls",
          "model_name": "ProgressStyleModel",
          "model_module_version": "1.5.0",
          "state": {
            "_model_module": "@jupyter-widgets/controls",
            "_model_module_version": "1.5.0",
            "_model_name": "ProgressStyleModel",
            "_view_count": null,
            "_view_module": "@jupyter-widgets/base",
            "_view_module_version": "1.2.0",
            "_view_name": "StyleView",
            "bar_color": null,
            "description_width": ""
          }
        },
        "0ddc8ae9144d46e98663b8085d55e32d": {
          "model_module": "@jupyter-widgets/base",
          "model_name": "LayoutModel",
          "model_module_version": "1.2.0",
          "state": {
            "_model_module": "@jupyter-widgets/base",
            "_model_module_version": "1.2.0",
            "_model_name": "LayoutModel",
            "_view_count": null,
            "_view_module": "@jupyter-widgets/base",
            "_view_module_version": "1.2.0",
            "_view_name": "LayoutView",
            "align_content": null,
            "align_items": null,
            "align_self": null,
            "border": null,
            "bottom": null,
            "display": null,
            "flex": null,
            "flex_flow": null,
            "grid_area": null,
            "grid_auto_columns": null,
            "grid_auto_flow": null,
            "grid_auto_rows": null,
            "grid_column": null,
            "grid_gap": null,
            "grid_row": null,
            "grid_template_areas": null,
            "grid_template_columns": null,
            "grid_template_rows": null,
            "height": null,
            "justify_content": null,
            "justify_items": null,
            "left": null,
            "margin": null,
            "max_height": null,
            "max_width": null,
            "min_height": null,
            "min_width": null,
            "object_fit": null,
            "object_position": null,
            "order": null,
            "overflow": null,
            "overflow_x": null,
            "overflow_y": null,
            "padding": null,
            "right": null,
            "top": null,
            "visibility": null,
            "width": null
          }
        },
        "372c2e43ea7d4466b0eb91ab53e38007": {
          "model_module": "@jupyter-widgets/controls",
          "model_name": "DescriptionStyleModel",
          "model_module_version": "1.5.0",
          "state": {
            "_model_module": "@jupyter-widgets/controls",
            "_model_module_version": "1.5.0",
            "_model_name": "DescriptionStyleModel",
            "_view_count": null,
            "_view_module": "@jupyter-widgets/base",
            "_view_module_version": "1.2.0",
            "_view_name": "StyleView",
            "description_width": ""
          }
        },
        "a2098a1538184335a068eb9e55b592d0": {
          "model_module": "@jupyter-widgets/controls",
          "model_name": "HBoxModel",
          "model_module_version": "1.5.0",
          "state": {
            "_dom_classes": [],
            "_model_module": "@jupyter-widgets/controls",
            "_model_module_version": "1.5.0",
            "_model_name": "HBoxModel",
            "_view_count": null,
            "_view_module": "@jupyter-widgets/controls",
            "_view_module_version": "1.5.0",
            "_view_name": "HBoxView",
            "box_style": "",
            "children": [
              "IPY_MODEL_38cb28622a7d4564956338ec53166391",
              "IPY_MODEL_26236d7f8ec9474aa89e265ed7662c89",
              "IPY_MODEL_cb49dfbc5d1f410bbaba7f799d245ed8"
            ],
            "layout": "IPY_MODEL_780ac0d5b18f42da84775d758e1d051e"
          }
        },
        "38cb28622a7d4564956338ec53166391": {
          "model_module": "@jupyter-widgets/controls",
          "model_name": "HTMLModel",
          "model_module_version": "1.5.0",
          "state": {
            "_dom_classes": [],
            "_model_module": "@jupyter-widgets/controls",
            "_model_module_version": "1.5.0",
            "_model_name": "HTMLModel",
            "_view_count": null,
            "_view_module": "@jupyter-widgets/controls",
            "_view_module_version": "1.5.0",
            "_view_name": "HTMLView",
            "description": "",
            "description_tooltip": null,
            "layout": "IPY_MODEL_eaf335a620754641939ede6c62e254ac",
            "placeholder": "​",
            "style": "IPY_MODEL_b6828a4a749a4b31a6ea028924222c9b",
            "value": "20111101_000530_n4eua.fts:  98%"
          }
        },
        "26236d7f8ec9474aa89e265ed7662c89": {
          "model_module": "@jupyter-widgets/controls",
          "model_name": "FloatProgressModel",
          "model_module_version": "1.5.0",
          "state": {
            "_dom_classes": [],
            "_model_module": "@jupyter-widgets/controls",
            "_model_module_version": "1.5.0",
            "_model_name": "FloatProgressModel",
            "_view_count": null,
            "_view_module": "@jupyter-widgets/controls",
            "_view_module_version": "1.5.0",
            "_view_name": "ProgressView",
            "bar_style": "",
            "description": "",
            "description_tooltip": null,
            "layout": "IPY_MODEL_38be7e0189ac409688c04ca9000c099c",
            "max": 8409600,
            "min": 0,
            "orientation": "horizontal",
            "style": "IPY_MODEL_4b9baae0ff2d41a895da7a928b760176",
            "value": 8409600
          }
        },
        "cb49dfbc5d1f410bbaba7f799d245ed8": {
          "model_module": "@jupyter-widgets/controls",
          "model_name": "HTMLModel",
          "model_module_version": "1.5.0",
          "state": {
            "_dom_classes": [],
            "_model_module": "@jupyter-widgets/controls",
            "_model_module_version": "1.5.0",
            "_model_name": "HTMLModel",
            "_view_count": null,
            "_view_module": "@jupyter-widgets/controls",
            "_view_module_version": "1.5.0",
            "_view_name": "HTMLView",
            "description": "",
            "description_tooltip": null,
            "layout": "IPY_MODEL_9968f5069c534db4b80306978c07db3f",
            "placeholder": "​",
            "style": "IPY_MODEL_8512c9798e5843fea2e8867b1a5c4196",
            "value": " 8.28M/8.41M [00:06&lt;00:00, 3.22MB/s]"
          }
        },
        "780ac0d5b18f42da84775d758e1d051e": {
          "model_module": "@jupyter-widgets/base",
          "model_name": "LayoutModel",
          "model_module_version": "1.2.0",
          "state": {
            "_model_module": "@jupyter-widgets/base",
            "_model_module_version": "1.2.0",
            "_model_name": "LayoutModel",
            "_view_count": null,
            "_view_module": "@jupyter-widgets/base",
            "_view_module_version": "1.2.0",
            "_view_name": "LayoutView",
            "align_content": null,
            "align_items": null,
            "align_self": null,
            "border": null,
            "bottom": null,
            "display": null,
            "flex": null,
            "flex_flow": null,
            "grid_area": null,
            "grid_auto_columns": null,
            "grid_auto_flow": null,
            "grid_auto_rows": null,
            "grid_column": null,
            "grid_gap": null,
            "grid_row": null,
            "grid_template_areas": null,
            "grid_template_columns": null,
            "grid_template_rows": null,
            "height": null,
            "justify_content": null,
            "justify_items": null,
            "left": null,
            "margin": null,
            "max_height": null,
            "max_width": null,
            "min_height": null,
            "min_width": null,
            "object_fit": null,
            "object_position": null,
            "order": null,
            "overflow": null,
            "overflow_x": null,
            "overflow_y": null,
            "padding": null,
            "right": null,
            "top": null,
            "visibility": null,
            "width": null
          }
        },
        "eaf335a620754641939ede6c62e254ac": {
          "model_module": "@jupyter-widgets/base",
          "model_name": "LayoutModel",
          "model_module_version": "1.2.0",
          "state": {
            "_model_module": "@jupyter-widgets/base",
            "_model_module_version": "1.2.0",
            "_model_name": "LayoutModel",
            "_view_count": null,
            "_view_module": "@jupyter-widgets/base",
            "_view_module_version": "1.2.0",
            "_view_name": "LayoutView",
            "align_content": null,
            "align_items": null,
            "align_self": null,
            "border": null,
            "bottom": null,
            "display": null,
            "flex": null,
            "flex_flow": null,
            "grid_area": null,
            "grid_auto_columns": null,
            "grid_auto_flow": null,
            "grid_auto_rows": null,
            "grid_column": null,
            "grid_gap": null,
            "grid_row": null,
            "grid_template_areas": null,
            "grid_template_columns": null,
            "grid_template_rows": null,
            "height": null,
            "justify_content": null,
            "justify_items": null,
            "left": null,
            "margin": null,
            "max_height": null,
            "max_width": null,
            "min_height": null,
            "min_width": null,
            "object_fit": null,
            "object_position": null,
            "order": null,
            "overflow": null,
            "overflow_x": null,
            "overflow_y": null,
            "padding": null,
            "right": null,
            "top": null,
            "visibility": null,
            "width": null
          }
        },
        "b6828a4a749a4b31a6ea028924222c9b": {
          "model_module": "@jupyter-widgets/controls",
          "model_name": "DescriptionStyleModel",
          "model_module_version": "1.5.0",
          "state": {
            "_model_module": "@jupyter-widgets/controls",
            "_model_module_version": "1.5.0",
            "_model_name": "DescriptionStyleModel",
            "_view_count": null,
            "_view_module": "@jupyter-widgets/base",
            "_view_module_version": "1.2.0",
            "_view_name": "StyleView",
            "description_width": ""
          }
        },
        "38be7e0189ac409688c04ca9000c099c": {
          "model_module": "@jupyter-widgets/base",
          "model_name": "LayoutModel",
          "model_module_version": "1.2.0",
          "state": {
            "_model_module": "@jupyter-widgets/base",
            "_model_module_version": "1.2.0",
            "_model_name": "LayoutModel",
            "_view_count": null,
            "_view_module": "@jupyter-widgets/base",
            "_view_module_version": "1.2.0",
            "_view_name": "LayoutView",
            "align_content": null,
            "align_items": null,
            "align_self": null,
            "border": null,
            "bottom": null,
            "display": null,
            "flex": null,
            "flex_flow": null,
            "grid_area": null,
            "grid_auto_columns": null,
            "grid_auto_flow": null,
            "grid_auto_rows": null,
            "grid_column": null,
            "grid_gap": null,
            "grid_row": null,
            "grid_template_areas": null,
            "grid_template_columns": null,
            "grid_template_rows": null,
            "height": null,
            "justify_content": null,
            "justify_items": null,
            "left": null,
            "margin": null,
            "max_height": null,
            "max_width": null,
            "min_height": null,
            "min_width": null,
            "object_fit": null,
            "object_position": null,
            "order": null,
            "overflow": null,
            "overflow_x": null,
            "overflow_y": null,
            "padding": null,
            "right": null,
            "top": null,
            "visibility": null,
            "width": null
          }
        },
        "4b9baae0ff2d41a895da7a928b760176": {
          "model_module": "@jupyter-widgets/controls",
          "model_name": "ProgressStyleModel",
          "model_module_version": "1.5.0",
          "state": {
            "_model_module": "@jupyter-widgets/controls",
            "_model_module_version": "1.5.0",
            "_model_name": "ProgressStyleModel",
            "_view_count": null,
            "_view_module": "@jupyter-widgets/base",
            "_view_module_version": "1.2.0",
            "_view_name": "StyleView",
            "bar_color": null,
            "description_width": ""
          }
        },
        "9968f5069c534db4b80306978c07db3f": {
          "model_module": "@jupyter-widgets/base",
          "model_name": "LayoutModel",
          "model_module_version": "1.2.0",
          "state": {
            "_model_module": "@jupyter-widgets/base",
            "_model_module_version": "1.2.0",
            "_model_name": "LayoutModel",
            "_view_count": null,
            "_view_module": "@jupyter-widgets/base",
            "_view_module_version": "1.2.0",
            "_view_name": "LayoutView",
            "align_content": null,
            "align_items": null,
            "align_self": null,
            "border": null,
            "bottom": null,
            "display": null,
            "flex": null,
            "flex_flow": null,
            "grid_area": null,
            "grid_auto_columns": null,
            "grid_auto_flow": null,
            "grid_auto_rows": null,
            "grid_column": null,
            "grid_gap": null,
            "grid_row": null,
            "grid_template_areas": null,
            "grid_template_columns": null,
            "grid_template_rows": null,
            "height": null,
            "justify_content": null,
            "justify_items": null,
            "left": null,
            "margin": null,
            "max_height": null,
            "max_width": null,
            "min_height": null,
            "min_width": null,
            "object_fit": null,
            "object_position": null,
            "order": null,
            "overflow": null,
            "overflow_x": null,
            "overflow_y": null,
            "padding": null,
            "right": null,
            "top": null,
            "visibility": null,
            "width": null
          }
        },
        "8512c9798e5843fea2e8867b1a5c4196": {
          "model_module": "@jupyter-widgets/controls",
          "model_name": "DescriptionStyleModel",
          "model_module_version": "1.5.0",
          "state": {
            "_model_module": "@jupyter-widgets/controls",
            "_model_module_version": "1.5.0",
            "_model_name": "DescriptionStyleModel",
            "_view_count": null,
            "_view_module": "@jupyter-widgets/base",
            "_view_module_version": "1.2.0",
            "_view_name": "StyleView",
            "description_width": ""
          }
        },
        "33193355d2d849628864d2adf2c3bac9": {
          "model_module": "@jupyter-widgets/controls",
          "model_name": "HBoxModel",
          "model_module_version": "1.5.0",
          "state": {
            "_dom_classes": [],
            "_model_module": "@jupyter-widgets/controls",
            "_model_module_version": "1.5.0",
            "_model_name": "HBoxModel",
            "_view_count": null,
            "_view_module": "@jupyter-widgets/controls",
            "_view_module_version": "1.5.0",
            "_view_name": "HBoxView",
            "box_style": "",
            "children": [
              "IPY_MODEL_29f1506268b647a7b7a4781d06adc3b8",
              "IPY_MODEL_46b701e8d60e432f82aeb18f57a08142",
              "IPY_MODEL_11cc5d1c12424ff7b3ae0230af6ff5a9"
            ],
            "layout": "IPY_MODEL_aa656eb58a8241f492ed76b42c00fa57"
          }
        },
        "29f1506268b647a7b7a4781d06adc3b8": {
          "model_module": "@jupyter-widgets/controls",
          "model_name": "HTMLModel",
          "model_module_version": "1.5.0",
          "state": {
            "_dom_classes": [],
            "_model_module": "@jupyter-widgets/controls",
            "_model_module_version": "1.5.0",
            "_model_name": "HTMLModel",
            "_view_count": null,
            "_view_module": "@jupyter-widgets/controls",
            "_view_module_version": "1.5.0",
            "_view_name": "HTMLView",
            "description": "",
            "description_tooltip": null,
            "layout": "IPY_MODEL_dd6c1e2d4cc54afcae07bd957dc9fa58",
            "placeholder": "​",
            "style": "IPY_MODEL_9f1495b3bfa4401bac26164cfd57cf3a",
            "value": "20111101_000530_n4eub.fts:  96%"
          }
        },
        "46b701e8d60e432f82aeb18f57a08142": {
          "model_module": "@jupyter-widgets/controls",
          "model_name": "FloatProgressModel",
          "model_module_version": "1.5.0",
          "state": {
            "_dom_classes": [],
            "_model_module": "@jupyter-widgets/controls",
            "_model_module_version": "1.5.0",
            "_model_name": "FloatProgressModel",
            "_view_count": null,
            "_view_module": "@jupyter-widgets/controls",
            "_view_module_version": "1.5.0",
            "_view_name": "ProgressView",
            "bar_style": "",
            "description": "",
            "description_tooltip": null,
            "layout": "IPY_MODEL_8d603474f8864a26b5560be796d99b69",
            "max": 8409600,
            "min": 0,
            "orientation": "horizontal",
            "style": "IPY_MODEL_c3e3b0c9f8b546dcb078e83cb9a1d6b1",
            "value": 8409600
          }
        },
        "11cc5d1c12424ff7b3ae0230af6ff5a9": {
          "model_module": "@jupyter-widgets/controls",
          "model_name": "HTMLModel",
          "model_module_version": "1.5.0",
          "state": {
            "_dom_classes": [],
            "_model_module": "@jupyter-widgets/controls",
            "_model_module_version": "1.5.0",
            "_model_name": "HTMLModel",
            "_view_count": null,
            "_view_module": "@jupyter-widgets/controls",
            "_view_module_version": "1.5.0",
            "_view_name": "HTMLView",
            "description": "",
            "description_tooltip": null,
            "layout": "IPY_MODEL_3a7589fd3b21452e80a5b459c30fc2b2",
            "placeholder": "​",
            "style": "IPY_MODEL_b62dae0b8f9345a2b660c79a5f289439",
            "value": " 8.04M/8.41M [00:05&lt;00:00, 3.22MB/s]"
          }
        },
        "aa656eb58a8241f492ed76b42c00fa57": {
          "model_module": "@jupyter-widgets/base",
          "model_name": "LayoutModel",
          "model_module_version": "1.2.0",
          "state": {
            "_model_module": "@jupyter-widgets/base",
            "_model_module_version": "1.2.0",
            "_model_name": "LayoutModel",
            "_view_count": null,
            "_view_module": "@jupyter-widgets/base",
            "_view_module_version": "1.2.0",
            "_view_name": "LayoutView",
            "align_content": null,
            "align_items": null,
            "align_self": null,
            "border": null,
            "bottom": null,
            "display": null,
            "flex": null,
            "flex_flow": null,
            "grid_area": null,
            "grid_auto_columns": null,
            "grid_auto_flow": null,
            "grid_auto_rows": null,
            "grid_column": null,
            "grid_gap": null,
            "grid_row": null,
            "grid_template_areas": null,
            "grid_template_columns": null,
            "grid_template_rows": null,
            "height": null,
            "justify_content": null,
            "justify_items": null,
            "left": null,
            "margin": null,
            "max_height": null,
            "max_width": null,
            "min_height": null,
            "min_width": null,
            "object_fit": null,
            "object_position": null,
            "order": null,
            "overflow": null,
            "overflow_x": null,
            "overflow_y": null,
            "padding": null,
            "right": null,
            "top": null,
            "visibility": null,
            "width": null
          }
        },
        "dd6c1e2d4cc54afcae07bd957dc9fa58": {
          "model_module": "@jupyter-widgets/base",
          "model_name": "LayoutModel",
          "model_module_version": "1.2.0",
          "state": {
            "_model_module": "@jupyter-widgets/base",
            "_model_module_version": "1.2.0",
            "_model_name": "LayoutModel",
            "_view_count": null,
            "_view_module": "@jupyter-widgets/base",
            "_view_module_version": "1.2.0",
            "_view_name": "LayoutView",
            "align_content": null,
            "align_items": null,
            "align_self": null,
            "border": null,
            "bottom": null,
            "display": null,
            "flex": null,
            "flex_flow": null,
            "grid_area": null,
            "grid_auto_columns": null,
            "grid_auto_flow": null,
            "grid_auto_rows": null,
            "grid_column": null,
            "grid_gap": null,
            "grid_row": null,
            "grid_template_areas": null,
            "grid_template_columns": null,
            "grid_template_rows": null,
            "height": null,
            "justify_content": null,
            "justify_items": null,
            "left": null,
            "margin": null,
            "max_height": null,
            "max_width": null,
            "min_height": null,
            "min_width": null,
            "object_fit": null,
            "object_position": null,
            "order": null,
            "overflow": null,
            "overflow_x": null,
            "overflow_y": null,
            "padding": null,
            "right": null,
            "top": null,
            "visibility": null,
            "width": null
          }
        },
        "9f1495b3bfa4401bac26164cfd57cf3a": {
          "model_module": "@jupyter-widgets/controls",
          "model_name": "DescriptionStyleModel",
          "model_module_version": "1.5.0",
          "state": {
            "_model_module": "@jupyter-widgets/controls",
            "_model_module_version": "1.5.0",
            "_model_name": "DescriptionStyleModel",
            "_view_count": null,
            "_view_module": "@jupyter-widgets/base",
            "_view_module_version": "1.2.0",
            "_view_name": "StyleView",
            "description_width": ""
          }
        },
        "8d603474f8864a26b5560be796d99b69": {
          "model_module": "@jupyter-widgets/base",
          "model_name": "LayoutModel",
          "model_module_version": "1.2.0",
          "state": {
            "_model_module": "@jupyter-widgets/base",
            "_model_module_version": "1.2.0",
            "_model_name": "LayoutModel",
            "_view_count": null,
            "_view_module": "@jupyter-widgets/base",
            "_view_module_version": "1.2.0",
            "_view_name": "LayoutView",
            "align_content": null,
            "align_items": null,
            "align_self": null,
            "border": null,
            "bottom": null,
            "display": null,
            "flex": null,
            "flex_flow": null,
            "grid_area": null,
            "grid_auto_columns": null,
            "grid_auto_flow": null,
            "grid_auto_rows": null,
            "grid_column": null,
            "grid_gap": null,
            "grid_row": null,
            "grid_template_areas": null,
            "grid_template_columns": null,
            "grid_template_rows": null,
            "height": null,
            "justify_content": null,
            "justify_items": null,
            "left": null,
            "margin": null,
            "max_height": null,
            "max_width": null,
            "min_height": null,
            "min_width": null,
            "object_fit": null,
            "object_position": null,
            "order": null,
            "overflow": null,
            "overflow_x": null,
            "overflow_y": null,
            "padding": null,
            "right": null,
            "top": null,
            "visibility": null,
            "width": null
          }
        },
        "c3e3b0c9f8b546dcb078e83cb9a1d6b1": {
          "model_module": "@jupyter-widgets/controls",
          "model_name": "ProgressStyleModel",
          "model_module_version": "1.5.0",
          "state": {
            "_model_module": "@jupyter-widgets/controls",
            "_model_module_version": "1.5.0",
            "_model_name": "ProgressStyleModel",
            "_view_count": null,
            "_view_module": "@jupyter-widgets/base",
            "_view_module_version": "1.2.0",
            "_view_name": "StyleView",
            "bar_color": null,
            "description_width": ""
          }
        },
        "3a7589fd3b21452e80a5b459c30fc2b2": {
          "model_module": "@jupyter-widgets/base",
          "model_name": "LayoutModel",
          "model_module_version": "1.2.0",
          "state": {
            "_model_module": "@jupyter-widgets/base",
            "_model_module_version": "1.2.0",
            "_model_name": "LayoutModel",
            "_view_count": null,
            "_view_module": "@jupyter-widgets/base",
            "_view_module_version": "1.2.0",
            "_view_name": "LayoutView",
            "align_content": null,
            "align_items": null,
            "align_self": null,
            "border": null,
            "bottom": null,
            "display": null,
            "flex": null,
            "flex_flow": null,
            "grid_area": null,
            "grid_auto_columns": null,
            "grid_auto_flow": null,
            "grid_auto_rows": null,
            "grid_column": null,
            "grid_gap": null,
            "grid_row": null,
            "grid_template_areas": null,
            "grid_template_columns": null,
            "grid_template_rows": null,
            "height": null,
            "justify_content": null,
            "justify_items": null,
            "left": null,
            "margin": null,
            "max_height": null,
            "max_width": null,
            "min_height": null,
            "min_width": null,
            "object_fit": null,
            "object_position": null,
            "order": null,
            "overflow": null,
            "overflow_x": null,
            "overflow_y": null,
            "padding": null,
            "right": null,
            "top": null,
            "visibility": null,
            "width": null
          }
        },
        "b62dae0b8f9345a2b660c79a5f289439": {
          "model_module": "@jupyter-widgets/controls",
          "model_name": "DescriptionStyleModel",
          "model_module_version": "1.5.0",
          "state": {
            "_model_module": "@jupyter-widgets/controls",
            "_model_module_version": "1.5.0",
            "_model_name": "DescriptionStyleModel",
            "_view_count": null,
            "_view_module": "@jupyter-widgets/base",
            "_view_module_version": "1.2.0",
            "_view_name": "StyleView",
            "description_width": ""
          }
        },
        "8cbeee1198dc498c9ef6dcc0edd86635": {
          "model_module": "@jupyter-widgets/controls",
          "model_name": "HBoxModel",
          "model_module_version": "1.5.0",
          "state": {
            "_dom_classes": [],
            "_model_module": "@jupyter-widgets/controls",
            "_model_module_version": "1.5.0",
            "_model_name": "HBoxModel",
            "_view_count": null,
            "_view_module": "@jupyter-widgets/controls",
            "_view_module_version": "1.5.0",
            "_view_name": "HBoxView",
            "box_style": "",
            "children": [
              "IPY_MODEL_93f1ad1ed0d24c9096643623cf403cf3",
              "IPY_MODEL_b25094b378f64a5989c0cdcdaaba5566",
              "IPY_MODEL_97efa5cb2cd64950ac010ec89152973d"
            ],
            "layout": "IPY_MODEL_1f583f63bbd5486ca119dfb245465149"
          }
        },
        "93f1ad1ed0d24c9096643623cf403cf3": {
          "model_module": "@jupyter-widgets/controls",
          "model_name": "HTMLModel",
          "model_module_version": "1.5.0",
          "state": {
            "_dom_classes": [],
            "_model_module": "@jupyter-widgets/controls",
            "_model_module_version": "1.5.0",
            "_model_name": "HTMLModel",
            "_view_count": null,
            "_view_module": "@jupyter-widgets/controls",
            "_view_module_version": "1.5.0",
            "_view_name": "HTMLView",
            "description": "",
            "description_tooltip": null,
            "layout": "IPY_MODEL_b0584f7e63994a7cbcf3fb449b968f83",
            "placeholder": "​",
            "style": "IPY_MODEL_5061ab4bd67a46afbb11f2107446210f",
            "value": "aia_lev1_193a_2011_11_01t00_00_07_84z_image_lev1.fits: 100%"
          }
        },
        "b25094b378f64a5989c0cdcdaaba5566": {
          "model_module": "@jupyter-widgets/controls",
          "model_name": "FloatProgressModel",
          "model_module_version": "1.5.0",
          "state": {
            "_dom_classes": [],
            "_model_module": "@jupyter-widgets/controls",
            "_model_module_version": "1.5.0",
            "_model_name": "FloatProgressModel",
            "_view_count": null,
            "_view_module": "@jupyter-widgets/controls",
            "_view_module_version": "1.5.0",
            "_view_name": "ProgressView",
            "bar_style": "",
            "description": "",
            "description_tooltip": null,
            "layout": "IPY_MODEL_1f04ed319a22456097824fe0d29a520e",
            "max": 12746880,
            "min": 0,
            "orientation": "horizontal",
            "style": "IPY_MODEL_9b5783448d3c400b9cd588261d1ff5a2",
            "value": 12746880
          }
        },
        "97efa5cb2cd64950ac010ec89152973d": {
          "model_module": "@jupyter-widgets/controls",
          "model_name": "HTMLModel",
          "model_module_version": "1.5.0",
          "state": {
            "_dom_classes": [],
            "_model_module": "@jupyter-widgets/controls",
            "_model_module_version": "1.5.0",
            "_model_name": "HTMLModel",
            "_view_count": null,
            "_view_module": "@jupyter-widgets/controls",
            "_view_module_version": "1.5.0",
            "_view_name": "HTMLView",
            "description": "",
            "description_tooltip": null,
            "layout": "IPY_MODEL_8748383ae684470ea0f5e7d60ae0b35e",
            "placeholder": "​",
            "style": "IPY_MODEL_22c3386da7cd40099ec73db72d8a4a08",
            "value": " 12.7M/12.7M [00:16&lt;00:00, 226kB/s]"
          }
        },
        "1f583f63bbd5486ca119dfb245465149": {
          "model_module": "@jupyter-widgets/base",
          "model_name": "LayoutModel",
          "model_module_version": "1.2.0",
          "state": {
            "_model_module": "@jupyter-widgets/base",
            "_model_module_version": "1.2.0",
            "_model_name": "LayoutModel",
            "_view_count": null,
            "_view_module": "@jupyter-widgets/base",
            "_view_module_version": "1.2.0",
            "_view_name": "LayoutView",
            "align_content": null,
            "align_items": null,
            "align_self": null,
            "border": null,
            "bottom": null,
            "display": null,
            "flex": null,
            "flex_flow": null,
            "grid_area": null,
            "grid_auto_columns": null,
            "grid_auto_flow": null,
            "grid_auto_rows": null,
            "grid_column": null,
            "grid_gap": null,
            "grid_row": null,
            "grid_template_areas": null,
            "grid_template_columns": null,
            "grid_template_rows": null,
            "height": null,
            "justify_content": null,
            "justify_items": null,
            "left": null,
            "margin": null,
            "max_height": null,
            "max_width": null,
            "min_height": null,
            "min_width": null,
            "object_fit": null,
            "object_position": null,
            "order": null,
            "overflow": null,
            "overflow_x": null,
            "overflow_y": null,
            "padding": null,
            "right": null,
            "top": null,
            "visibility": null,
            "width": null
          }
        },
        "b0584f7e63994a7cbcf3fb449b968f83": {
          "model_module": "@jupyter-widgets/base",
          "model_name": "LayoutModel",
          "model_module_version": "1.2.0",
          "state": {
            "_model_module": "@jupyter-widgets/base",
            "_model_module_version": "1.2.0",
            "_model_name": "LayoutModel",
            "_view_count": null,
            "_view_module": "@jupyter-widgets/base",
            "_view_module_version": "1.2.0",
            "_view_name": "LayoutView",
            "align_content": null,
            "align_items": null,
            "align_self": null,
            "border": null,
            "bottom": null,
            "display": null,
            "flex": null,
            "flex_flow": null,
            "grid_area": null,
            "grid_auto_columns": null,
            "grid_auto_flow": null,
            "grid_auto_rows": null,
            "grid_column": null,
            "grid_gap": null,
            "grid_row": null,
            "grid_template_areas": null,
            "grid_template_columns": null,
            "grid_template_rows": null,
            "height": null,
            "justify_content": null,
            "justify_items": null,
            "left": null,
            "margin": null,
            "max_height": null,
            "max_width": null,
            "min_height": null,
            "min_width": null,
            "object_fit": null,
            "object_position": null,
            "order": null,
            "overflow": null,
            "overflow_x": null,
            "overflow_y": null,
            "padding": null,
            "right": null,
            "top": null,
            "visibility": null,
            "width": null
          }
        },
        "5061ab4bd67a46afbb11f2107446210f": {
          "model_module": "@jupyter-widgets/controls",
          "model_name": "DescriptionStyleModel",
          "model_module_version": "1.5.0",
          "state": {
            "_model_module": "@jupyter-widgets/controls",
            "_model_module_version": "1.5.0",
            "_model_name": "DescriptionStyleModel",
            "_view_count": null,
            "_view_module": "@jupyter-widgets/base",
            "_view_module_version": "1.2.0",
            "_view_name": "StyleView",
            "description_width": ""
          }
        },
        "1f04ed319a22456097824fe0d29a520e": {
          "model_module": "@jupyter-widgets/base",
          "model_name": "LayoutModel",
          "model_module_version": "1.2.0",
          "state": {
            "_model_module": "@jupyter-widgets/base",
            "_model_module_version": "1.2.0",
            "_model_name": "LayoutModel",
            "_view_count": null,
            "_view_module": "@jupyter-widgets/base",
            "_view_module_version": "1.2.0",
            "_view_name": "LayoutView",
            "align_content": null,
            "align_items": null,
            "align_self": null,
            "border": null,
            "bottom": null,
            "display": null,
            "flex": null,
            "flex_flow": null,
            "grid_area": null,
            "grid_auto_columns": null,
            "grid_auto_flow": null,
            "grid_auto_rows": null,
            "grid_column": null,
            "grid_gap": null,
            "grid_row": null,
            "grid_template_areas": null,
            "grid_template_columns": null,
            "grid_template_rows": null,
            "height": null,
            "justify_content": null,
            "justify_items": null,
            "left": null,
            "margin": null,
            "max_height": null,
            "max_width": null,
            "min_height": null,
            "min_width": null,
            "object_fit": null,
            "object_position": null,
            "order": null,
            "overflow": null,
            "overflow_x": null,
            "overflow_y": null,
            "padding": null,
            "right": null,
            "top": null,
            "visibility": null,
            "width": null
          }
        },
        "9b5783448d3c400b9cd588261d1ff5a2": {
          "model_module": "@jupyter-widgets/controls",
          "model_name": "ProgressStyleModel",
          "model_module_version": "1.5.0",
          "state": {
            "_model_module": "@jupyter-widgets/controls",
            "_model_module_version": "1.5.0",
            "_model_name": "ProgressStyleModel",
            "_view_count": null,
            "_view_module": "@jupyter-widgets/base",
            "_view_module_version": "1.2.0",
            "_view_name": "StyleView",
            "bar_color": null,
            "description_width": ""
          }
        },
        "8748383ae684470ea0f5e7d60ae0b35e": {
          "model_module": "@jupyter-widgets/base",
          "model_name": "LayoutModel",
          "model_module_version": "1.2.0",
          "state": {
            "_model_module": "@jupyter-widgets/base",
            "_model_module_version": "1.2.0",
            "_model_name": "LayoutModel",
            "_view_count": null,
            "_view_module": "@jupyter-widgets/base",
            "_view_module_version": "1.2.0",
            "_view_name": "LayoutView",
            "align_content": null,
            "align_items": null,
            "align_self": null,
            "border": null,
            "bottom": null,
            "display": null,
            "flex": null,
            "flex_flow": null,
            "grid_area": null,
            "grid_auto_columns": null,
            "grid_auto_flow": null,
            "grid_auto_rows": null,
            "grid_column": null,
            "grid_gap": null,
            "grid_row": null,
            "grid_template_areas": null,
            "grid_template_columns": null,
            "grid_template_rows": null,
            "height": null,
            "justify_content": null,
            "justify_items": null,
            "left": null,
            "margin": null,
            "max_height": null,
            "max_width": null,
            "min_height": null,
            "min_width": null,
            "object_fit": null,
            "object_position": null,
            "order": null,
            "overflow": null,
            "overflow_x": null,
            "overflow_y": null,
            "padding": null,
            "right": null,
            "top": null,
            "visibility": null,
            "width": null
          }
        },
        "22c3386da7cd40099ec73db72d8a4a08": {
          "model_module": "@jupyter-widgets/controls",
          "model_name": "DescriptionStyleModel",
          "model_module_version": "1.5.0",
          "state": {
            "_model_module": "@jupyter-widgets/controls",
            "_model_module_version": "1.5.0",
            "_model_name": "DescriptionStyleModel",
            "_view_count": null,
            "_view_module": "@jupyter-widgets/base",
            "_view_module_version": "1.2.0",
            "_view_name": "StyleView",
            "description_width": ""
          }
        }
      }
    }
  },
  "nbformat": 4,
  "nbformat_minor": 0
}